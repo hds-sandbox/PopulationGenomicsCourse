{
 "cells": [
  {
   "cell_type": "markdown",
   "id": "b9ca234c-2c49-42fc-9c95-ab64fa143c40",
   "metadata": {},
   "source": [
    "# GWAS Quality Control using PLINK\n",
    "\n",
    "\n",
    "One of the most important aspects of a Genome Wide Analysis Studies (GWAS) is to do thorough Quality control (QC) of the data before analysing it. The QC of GWAS goes through various steps (see figure below), and we will illustrate some of them in this tutorial.\n",
    "\n",
    "<img src=\"img/main_QC_GWAS.png\" alt=\"QC\" width=\"300\">\n",
    "\n",
    "## How to make this notebook work\n",
    "\n",
    "* In this notebook we will use both the `command line bash` commands and `R` to setup the file folders.\n",
    "* Having to shift between two languages, you need to choose a kernel every time we shift from one language to another. A kernel contains a programming language and the necessary packages to run the course material. To choose a kernel, go on the menu on the top of the page and select `Kernel --> Change Kernel`, and then select the preferred one. We will shift between two kernels, and along the code in this notebook you will see a picture telling you to change kernel. The two pictures are below:\n",
    "\n",
    "<img src=\"img/bash.png\" alt=\"Bash\" width=\"80\"> Shift to the `Bash` kernel\n",
    "\n",
    "<img src=\"img/R.png\" alt=\"R\" width=\"80\"> Shift to the `popgen course` kernel\n",
    "\n",
    "* You can run the code in each cell by clicking on the run cell sign in the toolbar, or simply by pressing <kbd>Shift</kbd>+<kbd>Enter</kbd>. When the code is done running, a small green check sign will appear on the left side.\n",
    "* You need to run the cells in sequential order to execute the analysis. Please do not run a cell until the one above is done running, and do not skip any cells\n",
    "* The code goes along with textual descriptions to help you understand what happens. Please try not to focus on understanding the code itself in too much detail - but rather try to focus on the explanations and on the output of the commands \n",
    "*   You can create new code cells by pressing `+` in the Menu bar above or by pressing <kbd>B</kbd> after you select a cell. \n",
    "\n",
    "## Background material\n",
    "\n",
    "- [Anderson et al 2010](https://www.nature.com/articles/nprot.2010.116), review on data quality control for GWAS studies (on which this tutorial is based).\n",
    "\n",
    "- A [video lecture](https://www.youtube.com/watch?v=2R5fmWxb9I4) on quality control for GWAS.\n",
    "\n",
    "- [Uffelmann et al 2021](https://www.nature.com/articles/s43586-021-00056-9), a review on GWAS methods.\n",
    "\n",
    "\n",
    "\n",
    "## Software:\n",
    "\n",
    "We will be using `plink`, a comprehensive tool for handling and analyzing SNP data that can perform many different kinds of analyses. Check the documentation [here](https://www.cog-genomics.org/plink/1.9/)\n",
    "If you want info about a specific command you can also use help command:\n",
    "```\n",
    "plink --help <name_of_command>\n",
    "```\n",
    "\n",
    "## Data:\n",
    "\n",
    "In this practical, we will go through the steps in performing quality control (QC) of genotype data from a simulated genome-wide association study of 1000 cases and 1000 controls, typed for 317,503 autosomal and X chromosome SNPs.\n",
    "\n",
    "We will link to the following folder, which contains the necessary files in `.bed, .bim, .fam` formats, and make the `Results` folder:\n",
    "\n",
    "<img src=\"img/bash.png\" alt=\"Bash\" width=\"80\"> Shift to the `Bash` kernel"
   ]
  },
  {
   "cell_type": "code",
   "execution_count": 1,
   "id": "7e64c0ce-c488-4ee6-afdc-104ac1a55518",
   "metadata": {},
   "outputs": [
    {
     "name": "stdout",
     "output_type": "stream",
     "text": [
      "ln: failed to create symbolic link './GWAS_QC_data': File exists\n"
     ]
    }
   ],
   "source": [
    "ln -s ../../Data/GWAS/GWAS_QC_data/\n",
    "mkdir -p Results"
   ]
  },
  {
   "cell_type": "markdown",
   "id": "5a35f74e-adc4-4c4f-832f-e20f97f40afe",
   "metadata": {},
   "source": [
    "# Sample QC\n",
    "\n",
    "We will begin by performing sample QC, including calculation of call rates, heterozygosity, and sex discordance.  We will then perform SNP QC, including calculation of call rates and deviation from Hardy-Weinberg equilibrium. \n",
    "\n",
    "The following command will infer the sex of the sample by looking at the mean homozygosity rate across X-chromosome markers and compares it to the sex stated in the `.fam` file."
   ]
  },
  {
   "cell_type": "code",
   "execution_count": 2,
   "id": "21f20845-7e13-4743-b739-bcfa9f31e129",
   "metadata": {},
   "outputs": [
    {
     "name": "stdout",
     "output_type": "stream",
     "text": [
      "PLINK v1.90b6.21 64-bit (19 Oct 2020)          www.cog-genomics.org/plink/1.9/\n",
      "(C) 2005-2020 Shaun Purcell, Christopher Chang   GNU General Public License v3\n",
      "Logging to Results/GWA-QC.log.\n",
      "Options in effect:\n",
      "  --bfile GWAS_QC_data/GWA-data\n",
      "  --check-sex\n",
      "  --out Results/GWA-QC\n",
      "\n",
      "385583 MB RAM detected; reserving 192791 MB for main workspace.\n",
      "317503 variants loaded from .bim file.\n",
      "2000 people (997 males, 1003 females) loaded from .fam.\n",
      "2000 phenotype values loaded from .fam.\n",
      "Using 1 thread (no multithreaded calculations invoked).\n",
      "Before main variant filters, 2000 founders and 0 nonfounders present.\n",
      "Calculating allele frequencies... 10111213141516171819202122232425262728293031323334353637383940414243444546474849505152535455565758596061626364656667686970717273747576777879808182838485868788899091929394959697989 done.\n",
      "Warning: 11440 het. haploid genotypes present (see Results/GWA-QC.hh ); many\n",
      "commands treat these as missing.\n",
      "Total genotyping rate is 0.985682.\n",
      "317503 variants and 2000 people pass filters and QC.\n",
      "Among remaining phenotypes, 1023 are cases and 977 are controls.\n",
      "--check-sex: 8921 Xchr and 0 Ychr variant(s) scanned, 3 problems detected.\n",
      "Report written to Results/GWA-QC.sexcheck .\n"
     ]
    }
   ],
   "source": [
    "plink --bfile GWAS_QC_data/GWA-data --check-sex --out Results/GWA-QC"
   ]
  },
  {
   "cell_type": "markdown",
   "id": "225ad2f5-05bd-410e-b476-75059a62e95b",
   "metadata": {},
   "source": [
    "\n",
    "\n",
    "**Q1)** Take a look at the output file `GWA-data.sexcheck`. How many problematic samples are there?\n",
    "\n",
    "Problematic samples can be removed by copying the family ID (FID) and individual ID (IID) of the samples into a text file and using the `remove` command. Below, we use `head` to see how the file `GWA-data.sexcheck` is structured. The column `STATUS` might contain the indicator we need to filter out problematic samples, so we apply `grep -v` to see which lines do not contain the string `OK`. Then we write those lines in the file `wrong_sex.txt` so we can apply filtering with `plink` afterwards."
   ]
  },
  {
   "cell_type": "code",
   "execution_count": 3,
   "id": "44e8a3d2-0d04-49ee-9485-0c730a5e5866",
   "metadata": {},
   "outputs": [
    {
     "name": "stdout",
     "output_type": "stream",
     "text": [
      " FID  IID       PEDSEX       SNPSEX       STATUS            F\n",
      "   1    1            1            1           OK       0.9552\n",
      "   2    2            1            1           OK       0.9997\n",
      "   3    3            1            1           OK       0.9935\n",
      "   4    4            1            1           OK            1\n",
      "   5    5            2            2           OK     0.007004\n",
      "   6    6            2            2           OK     0.007528\n",
      "   7    7            2            2           OK    -0.003711\n",
      "   8    8            2            2           OK     0.007389\n",
      "   9    9            2            2           OK    -0.009868\n"
     ]
    }
   ],
   "source": [
    "#preview of the file\n",
    "head Results/GWA-QC.sexcheck"
   ]
  },
  {
   "cell_type": "code",
   "execution_count": 4,
   "id": "4d2a5198-e5d3-41fb-ad20-b115b379c38c",
   "metadata": {},
   "outputs": [
    {
     "name": "stdout",
     "output_type": "stream",
     "text": [
      " FID  IID       PEDSEX       SNPSEX       STATUS            F\n",
      " 772  772            2            0      PROBLEM       0.3084\n",
      " 853  853            2            0      PROBLEM       0.3666\n",
      "1920 1920            2            0      PROBLEM       0.4066\n"
     ]
    }
   ],
   "source": [
    "#check lines without \"OK\"\n",
    "grep -v \"OK\" Results/GWA-QC.sexcheck"
   ]
  },
  {
   "cell_type": "code",
   "execution_count": 7,
   "id": "5582be7d-a1aa-423a-8b62-5b1a5aafde5f",
   "metadata": {},
   "outputs": [
    {
     "name": "stdout",
     "output_type": "stream",
     "text": [
      " FID  IID       PEDSEX       SNPSEX       STATUS            F\n",
      " 772  772            2            0      PROBLEM       0.3084\n",
      " 853  853            2            0      PROBLEM       0.3666\n",
      "1920 1920            2            0      PROBLEM       0.4066\n"
     ]
    }
   ],
   "source": [
    "#put those lines in a file\n",
    "grep -v \"OK\" Results/GWA-QC.sexcheck > Results/wrong_sex.txt\n",
    "cat Results/wrong_sex.txt"
   ]
  },
  {
   "cell_type": "markdown",
   "id": "91e8c758-1e30-4302-9f36-d8c92553cb7e",
   "metadata": {},
   "source": [
    "Alternatively, one can ose the `awk` command to print the elements in the fifth column of the file (`awk '{if (NR > 1) print $5}'`), and then sort those elements alphabetically (`sort -k1,1`) and print their unique occurrences (option `-u`), so that it can be decided which use of `grep -v` makes sense. We can see there are only two possible values of `STATUS`: `OK`, `PROBLEM`."
   ]
  },
  {
   "cell_type": "code",
   "execution_count": 8,
   "id": "5f618e16-b3df-4061-9fab-126682a13196",
   "metadata": {},
   "outputs": [
    {
     "name": "stdout",
     "output_type": "stream",
     "text": [
      "OK\n",
      "PROBLEM\n"
     ]
    }
   ],
   "source": [
    "awk '{if (NR > 1) print $5}' Results/GWA-QC.sexcheck | sort -k1,1 -u"
   ]
  },
  {
   "cell_type": "markdown",
   "id": "b957b4c0-c8e3-4749-a441-965b413f50f2",
   "metadata": {},
   "source": [
    "Now we run `plink` with the command `--remove` to filter out the problematic samples. The `--out` option in plink specifies the prefix of the output files that plink generates. And when we use the `--make-bed` command we are writing the output to the specified prefix. In this case, all our output files will have the prefix: `GWA-QC`."
   ]
  },
  {
   "cell_type": "code",
   "execution_count": 9,
   "id": "58ca278b-f700-41c4-b481-6572712cf812",
   "metadata": {},
   "outputs": [
    {
     "name": "stdout",
     "output_type": "stream",
     "text": [
      "PLINK v1.90b6.21 64-bit (19 Oct 2020)          www.cog-genomics.org/plink/1.9/\n",
      "(C) 2005-2020 Shaun Purcell, Christopher Chang   GNU General Public License v3\n",
      "Logging to Results/GWA-QC_sflt.log.\n",
      "Options in effect:\n",
      "  --bfile GWAS_QC_data/GWA-data\n",
      "  --make-bed\n",
      "  --out Results/GWA-QC_sflt\n",
      "  --remove Results/wrong_sex.txt\n",
      "\n",
      "385583 MB RAM detected; reserving 192791 MB for main workspace.\n",
      "317503 variants loaded from .bim file.\n",
      "2000 people (997 males, 1003 females) loaded from .fam.\n",
      "2000 phenotype values loaded from .fam.\n",
      "--remove: 1997 people remaining.\n",
      "Using 1 thread (no multithreaded calculations invoked).\n",
      "Before main variant filters, 1997 founders and 0 nonfounders present.\n",
      "Calculating allele frequencies... 10111213141516171819202122232425262728293031323334353637383940414243444546474849505152535455565758596061626364656667686970717273747576777879808182838485868788899091929394959697989 done.\n",
      "Warning: 11440 het. haploid genotypes present (see Results/GWA-QC_sflt.hh );\n",
      "many commands treat these as missing.\n",
      "Total genotyping rate in remaining samples is 0.985924.\n",
      "317503 variants and 1997 people pass filters and QC.\n",
      "Among remaining phenotypes, 1022 are cases and 975 are controls.\n",
      "--make-bed to Results/GWA-QC_sflt.bed + Results/GWA-QC_sflt.bim +\n",
      "Results/GWA-QC_sflt.fam ... 101112131415161718192021222324252627282930313233343536373839404142434445464748495051525354555657585960616263646566676869707172737475767778798081828384858687888990919293949596979899done.\n"
     ]
    }
   ],
   "source": [
    "plink --bfile GWAS_QC_data/GWA-data --remove Results/wrong_sex.txt --make-bed --out Results/GWA-QC_sflt"
   ]
  },
  {
   "cell_type": "markdown",
   "id": "ed240c1b-e531-4fd4-8577-63b2ad7d5f80",
   "metadata": {},
   "source": [
    "**Q2)** Each time a plink command is run it writes a summary to a log file (the file name ends with `.log`). Look at the log file after removing the problematic individuals. How many cases and controls are left in the data set?\n",
    "\n",
    "## Identification of individuals with elevated missing data rates or outlying heterozygosity rate\n",
    "\n",
    "The following `plink` command will create the files `GWA-QC.imiss` and `GWA-QC.lmiss`.  The fourth column in the file `GWA-data.imiss` (N_MISS) denotes the number of missing SNPs and the sixth column (F_MISS) denotes the proportion of missing SNPs per individual."
   ]
  },
  {
   "cell_type": "code",
   "execution_count": 11,
   "id": "cae3a833-27cb-4d05-b4ec-d2feb6447031",
   "metadata": {},
   "outputs": [
    {
     "name": "stdout",
     "output_type": "stream",
     "text": [
      "PLINK v1.90b6.21 64-bit (19 Oct 2020)          www.cog-genomics.org/plink/1.9/\n",
      "(C) 2005-2020 Shaun Purcell, Christopher Chang   GNU General Public License v3\n",
      "Logging to Results/GWA-QC_sflt.log.\n",
      "Options in effect:\n",
      "  --bfile Results/GWA-QC_sflt\n",
      "  --missing\n",
      "  --out Results/GWA-QC_sflt\n",
      "\n",
      "385583 MB RAM detected; reserving 192791 MB for main workspace.\n",
      "317503 variants loaded from .bim file.\n",
      "1997 people (997 males, 1000 females) loaded from .fam.\n",
      "1997 phenotype values loaded from .fam.\n",
      "Using 1 thread (no multithreaded calculations invoked).\n",
      "Before main variant filters, 1997 founders and 0 nonfounders present.\n",
      "Calculating allele frequencies... 10111213141516171819202122232425262728293031323334353637383940414243444546474849505152535455565758596061626364656667686970717273747576777879808182838485868788899091929394959697989 done.\n",
      "Warning: 11440 het. haploid genotypes present (see Results/GWA-QC_sflt.hh );\n",
      "many commands treat these as missing.\n",
      "Total genotyping rate is 0.985924.\n",
      "--missing: Sample missing data report written to Results/GWA-QC_sflt.imiss, and\n",
      "variant-based missing data report written to Results/GWA-QC_sflt.lmiss.\n"
     ]
    }
   ],
   "source": [
    "plink --bfile Results/GWA-QC_sflt --missing --out Results/GWA-QC_sflt"
   ]
  },
  {
   "cell_type": "markdown",
   "id": "5c2ec3a1-d60d-42cd-ae68-35a1fc6c292a",
   "metadata": {},
   "source": [
    "Now with `plink` we create the file `GWA-data.het`, in which the third column denotes the observed number of homozygous genotypes `O(Hom)` and the fifth column denotes the number of non-missing genotypes `N(NM)` per individual.\n",
    "\n",
    "You can calculate the observed heterozygosity rate per individual using the formula:\n",
    "\n",
    "$Het = \\frac{N(NM) − O(Hom)}{N(NM)}$"
   ]
  },
  {
   "cell_type": "code",
   "execution_count": 14,
   "id": "cbebda7e-10cb-4f94-bc79-f012251d6481",
   "metadata": {},
   "outputs": [
    {
     "name": "stdout",
     "output_type": "stream",
     "text": [
      "PLINK v1.90b6.21 64-bit (19 Oct 2020)          www.cog-genomics.org/plink/1.9/\n",
      "(C) 2005-2020 Shaun Purcell, Christopher Chang   GNU General Public License v3\n",
      "Logging to Results/GWA-QC_sflt.log.\n",
      "Options in effect:\n",
      "  --bfile Results/GWA-QC_sflt\n",
      "  --het\n",
      "  --out Results/GWA-QC_sflt\n",
      "\n",
      "385583 MB RAM detected; reserving 192791 MB for main workspace.\n",
      "317503 variants loaded from .bim file.\n",
      "1997 people (997 males, 1000 females) loaded from .fam.\n",
      "1997 phenotype values loaded from .fam.\n",
      "Using 1 thread (no multithreaded calculations invoked).\n",
      "Before main variant filters, 1997 founders and 0 nonfounders present.\n",
      "Calculating allele frequencies... 10111213141516171819202122232425262728293031323334353637383940414243444546474849505152535455565758596061626364656667686970717273747576777879808182838485868788899091929394959697989 done.\n",
      "Warning: 11440 het. haploid genotypes present (see Results/GWA-QC_sflt.hh );\n",
      "many commands treat these as missing.\n",
      "Total genotyping rate is 0.985924.\n",
      "317503 variants and 1997 people pass filters and QC.\n",
      "Among remaining phenotypes, 1022 are cases and 975 are controls.\n",
      "--het: 305281 variants scanned, report written to Results/GWA-QC_sflt.het .\n"
     ]
    }
   ],
   "source": [
    "plink --bfile Results/GWA-QC_sflt --het --out Results/GWA-QC_sflt"
   ]
  },
  {
   "cell_type": "markdown",
   "id": "723a0ede-0b80-4edf-9997-c59f430e064b",
   "metadata": {},
   "source": [
    "<img src=\"img/R.png\" alt=\"R\" width=\"80\"> Shift to the `popgen course` kernel"
   ]
  },
  {
   "cell_type": "markdown",
   "id": "b6ebbafe-846e-4474-aa73-936d029a59a2",
   "metadata": {},
   "source": [
    "By running this I get the mean of number of missing genotypes and missing frequencies for each sample. I also compute the observed heterozygosity on each individual. Then, I plot these results, outlying extreme values on both variables, i.e missing frequency greater than 3% and heterozygosity lower or greaater than 3 standard deviations from the mean.\n",
    "A high proportion of missing genotypes is indicative of low DNA quality or concentration, while higher or lower proportion of heterozygotes is indicative of contamination or inbreeding, respectively."
   ]
  },
  {
   "cell_type": "code",
   "execution_count": 2,
   "id": "0736caa4-3c27-4640-99f1-64243dff0b89",
   "metadata": {},
   "outputs": [
    {
     "data": {
      "text/html": [
       "4469.21732598898"
      ],
      "text/latex": [
       "4469.21732598898"
      ],
      "text/markdown": [
       "4469.21732598898"
      ],
      "text/plain": [
       "[1] 4469.217"
      ]
     },
     "metadata": {},
     "output_type": "display_data"
    },
    {
     "data": {
      "text/html": [
       "0.0140761442163245"
      ],
      "text/latex": [
       "0.0140761442163245"
      ],
      "text/markdown": [
       "0.0140761442163245"
      ],
      "text/plain": [
       "[1] 0.01407614"
      ]
     },
     "metadata": {},
     "output_type": "display_data"
    },
    {
     "data": {
      "image/png": "[encoded data removed]",
      "text/plain": [
       "plot without title"
      ]
     },
     "metadata": {
      "image/png": {
       "height": 420,
       "width": 420
      }
     },
     "output_type": "display_data"
    }
   ],
   "source": [
    "Imiss = read.table('Results/GWA-QC_sflt.imiss', header = TRUE)\n",
    "mean(Imiss$N_MISS)\n",
    "mean(Imiss$F_MISS)\n",
    "\n",
    "het = read.table('Results/GWA-QC_sflt.het', header = T)\n",
    "het$het_cal = (het$N.NM. - het$O.HOM.)/ het$N.NM.\n",
    "mean_het = mean(het$het_cal)\n",
    "sd_het = sd(het$het_cal)\n",
    "\n",
    "plot(x = het$het_cal,y = Imiss$F_MISS, lwd =4, col = 'light blue', xlab = 'Heterozygosity rate per individual', ylab = 'Proportion of missing SNPs per individual')\n",
    "abline(h = 0.03, col = 'red', lty = 3)\n",
    "abline(v = mean_het + 3*sd_het, col = 'red', lty = 3)\n",
    "abline(v = mean_het - 3*sd_het, col = 'red', lty = 3)"
   ]
  },
  {
   "cell_type": "markdown",
   "id": "ade33580-323a-4a2d-9638-7904529e83df",
   "metadata": {},
   "source": [
    "Proceed to filter samples based on these criteria:"
   ]
  },
  {
   "cell_type": "code",
   "execution_count": 3,
   "id": "629b63b4-5adc-4e4d-84dc-e36bcfbf6e8c",
   "metadata": {},
   "outputs": [
    {
     "data": {
      "text/html": [
       "43"
      ],
      "text/latex": [
       "43"
      ],
      "text/markdown": [
       "43"
      ],
      "text/plain": [
       "[1] 43"
      ]
     },
     "metadata": {},
     "output_type": "display_data"
    }
   ],
   "source": [
    "right_tail = mean_het + 3*sd(het$het_cal)\n",
    "left_tail =  mean_het - 3*sd(het$het_cal)\n",
    "\n",
    "filtering = cbind(Imiss, het)\n",
    "outlier_ind = subset(filtering, filtering$F_MISS >= 0.03 | filtering$het_cal > right_tail | filtering$het_cal < left_tail)\n",
    "\n",
    "nrow(outlier_ind)\n",
    "\n",
    "write.table(outlier_ind[,c(1,2)], 'Results/wrong_het_missing_values.txt', col.names = FALSE, row.names = FALSE)"
   ]
  },
  {
   "cell_type": "markdown",
   "id": "4d362c5b-f2a3-46a0-aa42-74a991730771",
   "metadata": {},
   "source": [
    "<img src=\"img/bash.png\" alt=\"Bash\" width=\"80\"> Shift to the `Bash` kernel"
   ]
  },
  {
   "cell_type": "code",
   "execution_count": 1,
   "id": "886e496b-40e4-45f9-987d-04ef170d0574",
   "metadata": {},
   "outputs": [
    {
     "name": "stdout",
     "output_type": "stream",
     "text": [
      "PLINK v1.90b6.21 64-bit (19 Oct 2020)          www.cog-genomics.org/plink/1.9/\n",
      "(C) 2005-2020 Shaun Purcell, Christopher Chang   GNU General Public License v3\n",
      "Logging to Results/GWA-QC_sflt_hflt_mflt.log.\n",
      "Options in effect:\n",
      "  --bfile Results/GWA-QC_sflt\n",
      "  --make-bed\n",
      "  --out Results/GWA-QC_sflt_hflt_mflt\n",
      "  --remove Results/wrong_het_missing_values.txt\n",
      "\n",
      "385583 MB RAM detected; reserving 192791 MB for main workspace.\n",
      "317503 variants loaded from .bim file.\n",
      "1997 people (997 males, 1000 females) loaded from .fam.\n",
      "1997 phenotype values loaded from .fam.\n",
      "--remove: 1954 people remaining.\n",
      "Using 1 thread (no multithreaded calculations invoked).\n",
      "Before main variant filters, 1954 founders and 0 nonfounders present.\n",
      "Calculating allele frequencies... 10111213141516171819202122232425262728293031323334353637383940414243444546474849505152535455565758596061626364656667686970717273747576777879808182838485868788899091929394959697989 done.\n",
      "Warning: 11116 het. haploid genotypes present (see\n",
      "Results/GWA-QC_sflt_hflt_mflt.hh ); many commands treat these as missing.\n",
      "Total genotyping rate in remaining samples is 0.98671.\n",
      "317503 variants and 1954 people pass filters and QC.\n",
      "Among remaining phenotypes, 995 are cases and 959 are controls.\n",
      "--make-bed to Results/GWA-QC_sflt_hflt_mflt.bed +\n",
      "Results/GWA-QC_sflt_hflt_mflt.bim + Results/GWA-QC_sflt_hflt_mflt.fam ... 101112131415161718192021222324252627282930313233343536373839404142434445464748495051525354555657585960616263646566676869707172737475767778798081828384858687888990919293949596979899done.\n"
     ]
    }
   ],
   "source": [
    "plink --bfile Results/GWA-QC_sflt --remove Results/wrong_het_missing_values.txt --make-bed --out Results/GWA-QC_sflt_hflt_mflt"
   ]
  },
  {
   "cell_type": "markdown",
   "id": "0cfe830b-e02e-4d6a-9701-d9e46b24085e",
   "metadata": {},
   "source": [
    "After that, you should have the same number of variants and 1954 samples left. You should also see that we have created bed, bim and fam files for `GWA-QC_sflt_mflt_hflt`, containing our filtered dataset."
   ]
  },
  {
   "cell_type": "code",
   "execution_count": 2,
   "id": "e1ea0f4a-55cb-4de5-88ba-c5cf781d1e4a",
   "metadata": {},
   "outputs": [
    {
     "name": "stdout",
     "output_type": "stream",
     "text": [
      "Results/GWA-QC_sflt_hflt_mflt.bed  Results/GWA-QC_sflt_hflt_mflt.hh\n",
      "Results/GWA-QC_sflt_hflt_mflt.bim  Results/GWA-QC_sflt_hflt_mflt.log\n",
      "Results/GWA-QC_sflt_hflt_mflt.fam\n"
     ]
    }
   ],
   "source": [
    "ls Results/GWA-QC_sflt_hflt_mflt*"
   ]
  },
  {
   "cell_type": "markdown",
   "id": "31e4c6e4-cbee-40bd-80e4-f8b6d32b5865",
   "metadata": {},
   "source": [
    "## Identification of duplicated or related individuals\n",
    "To identify duplicated or related individuals we will calculate the identity by descent (IBD) matrix, indicative of relatedness between individuals or repeated samples, that could bias our GWAS. This works best if it is done on a set of non-correlated SNPs. So first we will “prune” the data and create a list of SNPs where no pair (within a given genomic interval) has an r2 value greater than a given threshold, typically chosen to be 0.2.  This can be done by the `indep-pairwise` command, using 500kb as window size and 5 variants as step size:\n"
   ]
  },
  {
   "cell_type": "code",
   "execution_count": 1,
   "id": "6235709c-4346-4992-97aa-318093bdf0a3",
   "metadata": {},
   "outputs": [
    {
     "name": "stdout",
     "output_type": "stream",
     "text": [
      "PLINK v1.90b6.21 64-bit (19 Oct 2020)          www.cog-genomics.org/plink/1.9/\n",
      "(C) 2005-2020 Shaun Purcell, Christopher Chang   GNU General Public License v3\n",
      "Logging to Results/GWA-QC_sflt_hflt_mflt.log.\n",
      "Options in effect:\n",
      "  --bfile Results/GWA-QC_sflt_hflt_mflt\n",
      "  --indep-pairwise 500kb 5 0.2\n",
      "  --out Results/GWA-QC_sflt_hflt_mflt\n",
      "\n",
      "Warning: --indep-pairwise step size should be 1 when window size is in kb\n",
      "units.\n",
      "385583 MB RAM detected; reserving 192791 MB for main workspace.\n",
      "317503 variants loaded from .bim file.\n",
      "1954 people (973 males, 981 females) loaded from .fam.\n",
      "1954 phenotype values loaded from .fam.\n",
      "Using 1 thread (no multithreaded calculations invoked).\n",
      "Before main variant filters, 1954 founders and 0 nonfounders present.\n",
      "Calculating allele frequencies... 10111213141516171819202122232425262728293031323334353637383940414243444546474849505152535455565758596061626364656667686970717273747576777879808182838485868788899091929394959697989 done.\n",
      "Warning: 11116 het. haploid genotypes present (see\n",
      "Results/GWA-QC_sflt_hflt_mflt.hh ); many commands treat these as missing.\n",
      "Total genotyping rate is 0.98671.\n",
      "317503 variants and 1954 people pass filters and QC.\n",
      "Among remaining phenotypes, 995 are cases and 959 are controls.\n",
      "Pruned 210 variants from chromosome 1, leaving 23065.\n",
      "Pruned 222 variants from chromosome 2, leaving 25129.\n",
      "Pruned 234 variants from chromosome 3, leaving 21346.\n",
      "Pruned 180 variants from chromosome 4, leaving 18933.\n",
      "Pruned 184 variants from chromosome 5, leaving 19088.\n",
      "Pruned 277 variants from chromosome 6, leaving 20534.\n",
      "Pruned 169 variants from chromosome 7, leaving 16506.\n",
      "Pruned 208 variants from chromosome 8, leaving 18066.\n",
      "Pruned 134 variants from chromosome 9, leaving 15701.\n",
      "Pruned 145 variants from chromosome 10, leaving 15447.\n",
      "Pruned 134 variants from chromosome 11, leaving 14526.\n",
      "Pruned 159 variants from chromosome 12, leaving 14873.\n",
      "Pruned 117 variants from chromosome 13, leaving 11409.\n",
      "Pruned 61 variants from chromosome 14, leaving 9768.\n",
      "Pruned 64 variants from chromosome 15, leaving 8836.\n",
      "Pruned 71 variants from chromosome 16, leaving 8935.\n",
      "Pruned 60 variants from chromosome 17, leaving 8283.\n",
      "Pruned 100 variants from chromosome 18, leaving 10395.\n",
      "Pruned 90 variants from chromosome 19, leaving 5837.\n",
      "Pruned 77 variants from chromosome 20, leaving 7759.\n",
      "Pruned 55 variants from chromosome 21, leaving 5438.\n",
      "Pruned 104 variants from chromosome 22, leaving 5401.\n",
      "Pruned 249 variants from chromosome 23, leaving 8922.\n",
      "Pruned 0 variants from chromosome 25, leaving 2.\n",
      "Pruning complete.  3304 of 317503 variants removed.\n",
      "Marker lists written to Results/GWA-QC_sflt_hflt_mflt.prune.in and\n",
      "Results/GWA-QC_sflt_hflt_mflt.prune.out .\n",
      "PLINK v1.90b6.21 64-bit (19 Oct 2020)          www.cog-genomics.org/plink/1.9/\n",
      "(C) 2005-2020 Shaun Purcell, Christopher Chang   GNU General Public License v3\n",
      "Logging to Results/GWA-QC_sflt_hflt_mflt.log.\n",
      "Options in effect:\n",
      "  --bfile Results/GWA-QC_sflt_hflt_mflt\n",
      "  --extract Results/GWA-QC_sflt_hflt_mflt.prune.in\n",
      "  --genome\n",
      "  --min 0.185\n",
      "  --out Results/GWA-QC_sflt_hflt_mflt\n",
      "\n",
      "385583 MB RAM detected; reserving 192791 MB for main workspace.\n",
      "317503 variants loaded from .bim file.\n",
      "1954 people (973 males, 981 females) loaded from .fam.\n",
      "1954 phenotype values loaded from .fam.\n",
      "--extract: 314199 variants remaining.\n",
      "Using up to 63 threads (change this with --threads).\n",
      "Before main variant filters, 1954 founders and 0 nonfounders present.\n",
      "Calculating allele frequencies... 10111213141516171819202122232425262728293031323334353637383940414243444546474849505152535455565758596061626364656667686970717273747576777879808182838485868788899091929394959697989 done.\n",
      "Warning: 11116 het. haploid genotypes present (see\n",
      "Results/GWA-QC_sflt_hflt_mflt.hh ); many commands treat these as missing.\n",
      "Total genotyping rate is 0.996987.\n",
      "314199 variants and 1954 people pass filters and QC.\n",
      "Among remaining phenotypes, 995 are cases and 959 are controls.\n",
      "Excluding 8922 variants on non-autosomes from IBD calculation.\n",
      "IBD calculations complete.  \n",
      "Finished writing Results/GWA-QC_sflt_hflt_mflt.genome .\n",
      "total 334M\n",
      "-rw-r--r--. 1 ucloud users 1.9K Jan 18 09:56 GWA-QC_sflt_hflt_mflt.genome\n",
      "-rw-r--r--. 1 ucloud users 1.3K Jan 18 09:56 GWA-QC_sflt_hflt_mflt.log\n",
      "-rw-r--r--. 1 ucloud users 205K Jan 18 09:56 GWA-QC_sflt_hflt_mflt.hh\n",
      "-rw-r--r--. 1 ucloud users  33K Jan 18 09:56 GWA-QC_sflt_hflt_mflt.prune.out\n",
      "-rw-r--r--. 1 ucloud users 3.1M Jan 18 09:56 GWA-QC_sflt_hflt_mflt.prune.in\n",
      "-rw-r--r--. 1 ucloud users  573 Jan 18 09:51 GWA-data_sflt_hflt_mflt.log\n",
      "-rw-r--r--. 1 ucloud users 8.4M Jan 18 09:51 GWA-QC_sflt_hflt_mflt.bim\n",
      "-rw-r--r--. 1 ucloud users  33K Jan 18 09:51 GWA-QC_sflt_hflt_mflt.fam\n",
      "-rw-r--r--. 1 ucloud users 149M Jan 18 09:51 GWA-QC_sflt_hflt_mflt.bed\n",
      "-rw-r--r--. 1 ucloud users  372 Jan 18 09:49 wrong_het_missing_values.txt\n",
      "-rw-r--r--. 1 ucloud users 1.1K Jan 18 09:46 GWA-QC_sflt.log\n",
      "-rw-r--r--. 1 ucloud users 121K Jan 18 09:46 GWA-QC_sflt.het\n",
      "-rw-r--r--. 1 ucloud users 211K Jan 18 09:46 GWA-QC_sflt.hh\n",
      "-rw-r--r--. 1 ucloud users  94K Jan 18 09:43 GWA-QC_sflt.imiss\n",
      "-rw-r--r--. 1 ucloud users  14M Jan 18 09:43 GWA-QC_sflt.lmiss\n",
      "-rw-r--r--. 1 ucloud users 8.4M Jan 18 09:42 GWA-QC_sflt.bim\n",
      "-rw-r--r--. 1 ucloud users  33K Jan 18 09:42 GWA-QC_sflt.fam\n",
      "-rw-r--r--. 1 ucloud users 152M Jan 18 09:42 GWA-QC_sflt.bed\n",
      "-rw-r--r--. 1 ucloud users  248 Jan 18 09:40 wrong_sex.txt\n",
      "-rw-r--r--. 1 ucloud users 1.1K Jan 18 09:36 GWA-QC.log\n",
      "-rw-r--r--. 1 ucloud users 122K Jan 18 09:36 GWA-QC.sexcheck\n",
      "-rw-r--r--. 1 ucloud users 211K Jan 18 09:36 GWA-QC.hh\n"
     ]
    }
   ],
   "source": [
    "plink --bfile Results/GWA-QC_sflt_hflt_mflt --indep-pairwise 500kb 5 0.2 --out Results/GWA-QC_sflt_hflt_mflt\n",
    "plink --bfile Results/GWA-QC_sflt_hflt_mflt --extract Results/GWA-QC_sflt_hflt_mflt.prune.in --genome --min 0.185 --out Results/GWA-QC_sflt_hflt_mflt\n",
    "ls -lht Results/"
   ]
  },
  {
   "cell_type": "markdown",
   "id": "84fb3824-2012-4d80-b91b-1d0ef3751396",
   "metadata": {},
   "source": [
    "The `--min 0.185` option means that it will only print the calculated IBD if it is above 0.185 (Mean between second-degree relatives:0.25 and third-degree relatives:0.125). The PI_HAT value in column 10 of the output file will be a number between 0 and 1 saying how much of the genome the two individuals share (1 for identical twins, 0.5 for siblings etc.). This command will produce a file called GWA-data_sflt_hflt_mflt.genome .\n",
    "\n",
    "\n",
    "<img src=\"img/R.png\" alt=\"R\" width=\"80\"> Shift to the `popgen course` kernel\n",
    "\n",
    "In `R`, I proceed in analyzing the output file, named `Results/GWA-QC_sflt_hflt_mflt.genome`, to remove a member from each of the pairs that are too closely related from the data set."
   ]
  },
  {
   "cell_type": "code",
   "execution_count": 1,
   "id": "059f7725-6fd3-4377-b047-626274af5271",
   "metadata": {},
   "outputs": [
    {
     "data": {
      "text/html": [
       "14"
      ],
      "text/latex": [
       "14"
      ],
      "text/markdown": [
       "14"
      ],
      "text/plain": [
       "[1] 14"
      ]
     },
     "metadata": {},
     "output_type": "display_data"
    }
   ],
   "source": [
    "ibd = read.table('Results/GWA-QC_sflt_hflt_mflt.genome', header = TRUE)\n",
    "members = ibd[,1]\n",
    "members = unique(members)\n",
    "length(members)\n",
    "write.table(cbind(members,members), file = 'Results/wrong_ibd.txt', col.names = F, row.names = F)"
   ]
  },
  {
   "cell_type": "markdown",
   "id": "efce4695-902c-4723-b799-bc40744ef827",
   "metadata": {},
   "source": [
    "With these lines of code, I obtain a unique set of 14 samples that show outlying IDB with another sample. Here we are exploiting the fact that FID and IID are the same in our dataset, but we would have to contition on both if that wasn't the case. Back to the command line, I filter out samples in our dataset using this file by running:\n",
    "\n",
    "<img src=\"img/bash.png\" alt=\"Bash\" width=\"80\"> Shift to the `Bash` kernel\n"
   ]
  },
  {
   "cell_type": "code",
   "execution_count": 1,
   "id": "3ac22d99-6f46-4444-aba4-10586d07a6b7",
   "metadata": {},
   "outputs": [
    {
     "name": "stdout",
     "output_type": "stream",
     "text": [
      "PLINK v1.90b6.21 64-bit (19 Oct 2020)          www.cog-genomics.org/plink/1.9/\n",
      "(C) 2005-2020 Shaun Purcell, Christopher Chang   GNU General Public License v3\n",
      "Logging to Results/GWA-QC_sflt_hflt_mflt_iflt.log.\n",
      "Options in effect:\n",
      "  --bfile Results/GWA-QC_sflt_hflt_mflt\n",
      "  --make-bed\n",
      "  --out Results/GWA-QC_sflt_hflt_mflt_iflt\n",
      "  --remove Results/wrong_ibd.txt\n",
      "\n",
      "385583 MB RAM detected; reserving 192791 MB for main workspace.\n",
      "317503 variants loaded from .bim file.\n",
      "1954 people (973 males, 981 females) loaded from .fam.\n",
      "1954 phenotype values loaded from .fam.\n",
      "--remove: 1940 people remaining.\n",
      "Using 1 thread (no multithreaded calculations invoked).\n",
      "Before main variant filters, 1940 founders and 0 nonfounders present.\n",
      "Calculating allele frequencies... 10111213141516171819202122232425262728293031323334353637383940414243444546474849505152535455565758596061626364656667686970717273747576777879808182838485868788899091929394959697989 done.\n",
      "Warning: 10977 het. haploid genotypes present (see\n",
      "Results/GWA-QC_sflt_hflt_mflt_iflt.hh ); many commands treat these as missing.\n",
      "Total genotyping rate in remaining samples is 0.986697.\n",
      "317503 variants and 1940 people pass filters and QC.\n",
      "Among remaining phenotypes, 988 are cases and 952 are controls.\n",
      "--make-bed to Results/GWA-QC_sflt_hflt_mflt_iflt.bed +\n",
      "Results/GWA-QC_sflt_hflt_mflt_iflt.bim + Results/GWA-QC_sflt_hflt_mflt_iflt.fam\n",
      "... 101112131415161718192021222324252627282930313233343536373839404142434445464748495051525354555657585960616263646566676869707172737475767778798081828384858687888990919293949596979899done.\n"
     ]
    }
   ],
   "source": [
    "plink --bfile Results/GWA-QC_sflt_hflt_mflt --remove Results/wrong_ibd.txt --make-bed --out Results/GWA-QC_sflt_hflt_mflt_iflt"
   ]
  },
  {
   "cell_type": "markdown",
   "id": "582f46d2-7bd9-4d3e-a1f2-eb124bf23b14",
   "metadata": {},
   "source": [
    "I get a new set of files, containing the same number of variables and the samples that survived the wrong sex, the missing data and ibd filtering. At this point, you should have 1940 samples, 988 cases and 952 controls."
   ]
  },
  {
   "cell_type": "markdown",
   "id": "4f57edc0-3618-44c5-a9c5-58cdb8b77c49",
   "metadata": {},
   "source": [
    "# Variant QC\n",
    "\n",
    "## SNPs with an excessive missing data rate\n",
    "\n",
    "We need to re-compute the missing data for each variant, since we filtered some samples. Using the `--missing` command again to generate the `GWA-QC_sflt_hflt_mflt_iflt.lmiss` with the missing data rate for each SNP. I do that by running:"
   ]
  },
  {
   "cell_type": "code",
   "execution_count": 2,
   "id": "c956e47f-d30c-412e-b326-1350577499d8",
   "metadata": {},
   "outputs": [
    {
     "name": "stdout",
     "output_type": "stream",
     "text": [
      "PLINK v1.90b6.21 64-bit (19 Oct 2020)          www.cog-genomics.org/plink/1.9/\n",
      "(C) 2005-2020 Shaun Purcell, Christopher Chang   GNU General Public License v3\n",
      "Logging to Results/GWA-QC_sflt_hflt_mflt_iflt.log.\n",
      "Options in effect:\n",
      "  --bfile Results/GWA-QC_sflt_hflt_mflt_iflt\n",
      "  --missing\n",
      "  --out Results/GWA-QC_sflt_hflt_mflt_iflt\n",
      "\n",
      "385583 MB RAM detected; reserving 192791 MB for main workspace.\n",
      "317503 variants loaded from .bim file.\n",
      "1940 people (965 males, 975 females) loaded from .fam.\n",
      "1940 phenotype values loaded from .fam.\n",
      "Using 1 thread (no multithreaded calculations invoked).\n",
      "Before main variant filters, 1940 founders and 0 nonfounders present.\n",
      "Calculating allele frequencies... 10111213141516171819202122232425262728293031323334353637383940414243444546474849505152535455565758596061626364656667686970717273747576777879808182838485868788899091929394959697989 done.\n",
      "Warning: 10977 het. haploid genotypes present (see\n",
      "Results/GWA-QC_sflt_hflt_mflt_iflt.hh ); many commands treat these as missing.\n",
      "Total genotyping rate is 0.986697.\n",
      "--missing: Sample missing data report written to\n",
      "Results/GWA-QC_sflt_hflt_mflt_iflt.imiss, and variant-based missing data report\n",
      "written to Results/GWA-QC_sflt_hflt_mflt_iflt.lmiss.\n"
     ]
    }
   ],
   "source": [
    "plink --bfile Results/GWA-QC_sflt_hflt_mflt_iflt --missing --out Results/GWA-QC_sflt_hflt_mflt_iflt"
   ]
  },
  {
   "cell_type": "markdown",
   "id": "7db6aca2-b705-4916-be36-16d52ecf1dde",
   "metadata": {},
   "source": [
    "I open `Results/GWA-data_sflt_hflt_mflt_iflt.lmiss` in `R` to plot an histogram of the variant's missing frequency:\n",
    "\n",
    "<img src=\"img/R.png\" alt=\"R\" width=\"80\"> Shift to the `popgen course` kernel"
   ]
  },
  {
   "cell_type": "code",
   "execution_count": 1,
   "id": "7cb5cd90-191d-480f-9d54-6e865cac7e20",
   "metadata": {},
   "outputs": [
    {
     "data": {
      "image/png": "[encoded data removed]",
      "text/plain": [
       "Plot with title “Missing Data Distribution”"
      ]
     },
     "metadata": {
      "image/png": {
       "height": 420,
       "width": 420
      }
     },
     "output_type": "display_data"
    }
   ],
   "source": [
    "miss_data = read.table('Results/GWA-QC_sflt_hflt_mflt_iflt.lmiss', header = T)\n",
    "hist(miss_data$F_MISS, breaks = 50, col = 'light blue', main = 'Missing Data Distribution', xlab = 'Missing Data rate')"
   ]
  },
  {
   "cell_type": "markdown",
   "id": "4a0a562e-d8d9-42d9-b434-b41f87d966b6",
   "metadata": {},
   "source": [
    "A lot of care must be taken when filtering variants, since we can lose potential variants associaated with the phenotypic trait. Therefore, we only filter these variants in which the missigness is associated with the phenotype, i.e case or control, so they could be a source of bias in our study.\n",
    "\n",
    "We use `plink` with the `--test-missing` command to test for association between missingness and case/control status, using Fisher's exact test. It produces a file with `.missing` suffix. We make a list of all the names of all SNPs where the differential missingness p-value is less than 1e-5. The list is saved as `fail-diffmiss-qc.txt`\n",
    "\n",
    "<img src=\"img/bash.png\" alt=\"Bash\" width=\"80\"> Shift to the `Bash` kernel"
   ]
  },
  {
   "cell_type": "code",
   "execution_count": 1,
   "id": "8d6c9836-4c78-4ce9-9f07-c23888450d65",
   "metadata": {},
   "outputs": [
    {
     "name": "stdout",
     "output_type": "stream",
     "text": [
      "PLINK v1.90b6.21 64-bit (19 Oct 2020)          www.cog-genomics.org/plink/1.9/\n",
      "(C) 2005-2020 Shaun Purcell, Christopher Chang   GNU General Public License v3\n",
      "Logging to Results/GWA-QC_sflt_hflt_mflt_iflt.log.\n",
      "Options in effect:\n",
      "  --bfile Results/GWA-QC_sflt_hflt_mflt_iflt\n",
      "  --out Results/GWA-QC_sflt_hflt_mflt_iflt\n",
      "  --test-missing\n",
      "\n",
      "385583 MB RAM detected; reserving 192791 MB for main workspace.\n",
      "317503 variants loaded from .bim file.\n",
      "1940 people (965 males, 975 females) loaded from .fam.\n",
      "1940 phenotype values loaded from .fam.\n",
      "Using 1 thread (no multithreaded calculations invoked).\n",
      "Before main variant filters, 1940 founders and 0 nonfounders present.\n",
      "Calculating allele frequencies... 10111213141516171819202122232425262728293031323334353637383940414243444546474849505152535455565758596061626364656667686970717273747576777879808182838485868788899091929394959697989 done.\n",
      "Warning: 10977 het. haploid genotypes present (see\n",
      "Results/GWA-QC_sflt_hflt_mflt_iflt.hh ); many commands treat these as missing.\n",
      "Total genotyping rate is 0.986697.\n",
      "317503 variants and 1940 people pass filters and QC.\n",
      "Among remaining phenotypes, 988 are cases and 952 are controls.\n",
      "Writing --test-missing report to Results/GWA-QC_sflt_hflt_mflt_iflt.missing ...\n",
      "done.\n"
     ]
    }
   ],
   "source": [
    "plink --bfile Results/GWA-QC_sflt_hflt_mflt_iflt --test-missing --out Results/GWA-QC_sflt_hflt_mflt_iflt"
   ]
  },
  {
   "cell_type": "markdown",
   "id": "def015db-978a-4203-bdc5-1cb61491c791",
   "metadata": {},
   "source": [
    "This outputs a file named `GWA-data_sflt_mflt_hflt_iflt.missing`. Using `R` and applying a significance criterion of 10e-5, I get significant variants by:\n",
    "\n",
    "\n",
    "<img src=\"img/R.png\" alt=\"R\" width=\"80\"> Shift to the `popgen course` kernel"
   ]
  },
  {
   "cell_type": "code",
   "execution_count": 1,
   "id": "ac22027c-25f1-4aa8-b885-8f5f92e2eaca",
   "metadata": {},
   "outputs": [],
   "source": [
    "test_missing = read.table('Results/GWA-QC_sflt_hflt_mflt_iflt.missing', header = TRUE)\n",
    "fail_diffmiss_qc = test_missing[test_missing$P < 10e-5, 2]\n",
    "write.table(fail_diffmiss_qc, file = 'Results/fail-diffmiss-qc.txt', row.names = F, col.names = F)"
   ]
  },
  {
   "cell_type": "markdown",
   "id": "983ecefa-e544-413f-93dc-8b9588e9daf8",
   "metadata": {},
   "source": [
    "Now we can remove low-quality SNPs. In addition to removing SNPs identified with differential call rates between cases and controls, this command removes SNPs with call rate less than 95% with `--geno` option and deviation from HWE (p<1e-5) with the `--hwe` option. It also removes all SNPs with minor allele frequency less than a specified threshold using the `--maf` option.\n",
    "\n",
    "<img src=\"img/bash.png\" alt=\"Bash\" width=\"80\"> Shift to the `Bash` kernel"
   ]
  },
  {
   "cell_type": "code",
   "execution_count": 1,
   "id": "b0cd6d0e-723f-4f40-a55a-aec6210d8a76",
   "metadata": {},
   "outputs": [
    {
     "name": "stdout",
     "output_type": "stream",
     "text": [
      "PLINK v1.90b6.21 64-bit (19 Oct 2020)          www.cog-genomics.org/plink/1.9/\n",
      "(C) 2005-2020 Shaun Purcell, Christopher Chang   GNU General Public License v3\n",
      "Logging to Results/GWA-QC_sflt_hflt_mflt_iflt_vflt.log.\n",
      "Options in effect:\n",
      "  --bfile Results/GWA-QC_sflt_hflt_mflt_iflt\n",
      "  --exclude Results/fail-diffmiss-qc.txt\n",
      "  --geno 0.05\n",
      "  --hwe 0.00001\n",
      "  --maf 0.01\n",
      "  --make-bed\n",
      "  --out Results/GWA-QC_sflt_hflt_mflt_iflt_vflt\n",
      "\n",
      "385583 MB RAM detected; reserving 192791 MB for main workspace.\n",
      "317503 variants loaded from .bim file.\n",
      "1940 people (965 males, 975 females) loaded from .fam.\n",
      "1940 phenotype values loaded from .fam.\n",
      "--exclude: 317503 variants remaining.\n",
      "Using 1 thread (no multithreaded calculations invoked).\n",
      "Before main variant filters, 1940 founders and 0 nonfounders present.\n",
      "Calculating allele frequencies... 10111213141516171819202122232425262728293031323334353637383940414243444546474849505152535455565758596061626364656667686970717273747576777879808182838485868788899091929394959697989 done.\n",
      "Warning: 10977 het. haploid genotypes present (see\n",
      "Results/GWA-QC_sflt_hflt_mflt_iflt_vflt.hh ); many commands treat these as\n",
      "missing.\n",
      "Total genotyping rate is 0.986697.\n",
      "3340 variants removed due to missing genotype data (--geno).\n",
      "Warning: --hwe observation counts vary by more than 10%, due to the X\n",
      "chromosome.  You may want to use a less stringent --hwe p-value threshold for X\n",
      "chromosome variants.\n",
      "--hwe: 16 variants removed due to Hardy-Weinberg exact test.\n",
      "251 variants removed due to minor allele threshold(s)\n",
      "(--maf/--max-maf/--mac/--max-mac).\n",
      "313896 variants and 1940 people pass filters and QC.\n",
      "Among remaining phenotypes, 988 are cases and 952 are controls.\n",
      "--make-bed to Results/GWA-QC_sflt_hflt_mflt_iflt_vflt.bed +\n",
      "Results/GWA-QC_sflt_hflt_mflt_iflt_vflt.bim +\n",
      "Results/GWA-QC_sflt_hflt_mflt_iflt_vflt.fam ... 101112131415161718192021222324252627282930313233343536373839404142434445464748495051525354555657585960616263646566676869707172737475767778798081828384858687888990919293949596979899done.\n"
     ]
    }
   ],
   "source": [
    "plink --bfile Results/GWA-QC_sflt_hflt_mflt_iflt --exclude Results/fail-diffmiss-qc.txt --geno 0.05 --hwe 0.00001 --maf 0.01 --make-bed --out Results/GWA-QC_sflt_hflt_mflt_iflt_vflt"
   ]
  },
  {
   "cell_type": "markdown",
   "id": "90d3dbe7-4b31-4f65-b87b-519e4c6a9bda",
   "metadata": {},
   "source": [
    "Deviations from HWE might indicate genotype error, but we choose a very low siginifcance value, since deviations from HWE might also be a product of selection implying that we could be filtering out variants potentially associated with the phenotypic trait. \n",
    "Samples with low allele frequency are also more likely to be miss-calls. Additionally, these variants have low power to be significant associations in the GWAS study due to their low small sample size.\n",
    "\n",
    "After all filtering, you should be left with:\n",
    "- 313896 variants.\n",
    "- 1940 people (988 cases and 952 controls)."
   ]
  }
 ],
 "metadata": {
  "kernelspec": {
   "display_name": "Bash",
   "language": "bash",
   "name": "bash"
  },
  "language_info": {
   "codemirror_mode": "shell",
   "file_extension": ".sh",
   "mimetype": "text/x-sh",
   "name": "bash"
  }
 },
 "nbformat": 4,
 "nbformat_minor": 5
}
