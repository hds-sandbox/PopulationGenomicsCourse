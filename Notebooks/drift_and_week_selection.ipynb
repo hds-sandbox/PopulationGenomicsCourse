{
 "cells": [
  {
   "cell_type": "markdown",
   "metadata": {},
   "source": [
    "# Genetic drift"
   ]
  },
  {
   "cell_type": "code",
   "execution_count": 1,
   "metadata": {},
   "outputs": [],
   "source": [
    "%matplotlib widget\n",
    "\n",
    "# Make inline plots vector graphics instead of raster graphics\n",
    "from IPython.display import set_matplotlib_formats\n",
    "set_matplotlib_formats('retina', 'png')\n",
    "\n",
    "import matplotlib.pyplot as plt\n",
    "#from mpl_toolkits.mplot3d import Axes3D\n",
    "from mpl_toolkits.mplot3d.axes3d import Axes3D, get_test_data\n",
    "from matplotlib import cm\n",
    "\n",
    "from matplotlib.patches import Rectangle\n",
    "\n",
    "import numpy as np\n",
    "import pandas as pd\n",
    "import seaborn as sns\n",
    "sns.set_style(\"whitegrid\")\n",
    "sns.set_context(\"paper\")\n",
    "\n",
    "def tight(fig):\n",
    "    fig.canvas.header_visible = False\n",
    "    plt.tight_layout()"
   ]
  },
  {
   "cell_type": "code",
   "execution_count": 2,
   "metadata": {},
   "outputs": [
    {
     "data": {
      "application/vnd.jupyter.widget-view+json": {
       "model_id": "161855301749494d8de304ad1a71e207",
       "version_major": 2,
       "version_minor": 0
      },
      "text/plain": [
       "Canvas(toolbar=Toolbar(toolitems=[('Home', 'Reset original view', 'home', 'home'), ('Back', 'Back to previous …"
      ]
     },
     "metadata": {},
     "output_type": "display_data"
    }
   ],
   "source": [
    "# Number of haploid individuals with the allele\n",
    "n = 500\n",
    "# Population size\n",
    "N = 1000\n",
    "# selection coeficient\n",
    "s = 0.0\n",
    "\n",
    "def freq_trajectory(N, n=1, s=0):\n",
    "    yield n\n",
    "    while N > n > 0:\n",
    "        n = np.random.binomial(N, n*(1+s)/((N-n)+(n)*(1+s)), 1)[0]\n",
    "        yield n\n",
    "\n",
    "fig = plt.figure(figsize=(9, 4))\n",
    "\n",
    "for i in range(1):\n",
    "    plt.plot(list(freq_trajectory(N, n=n, s=s)))\n",
    "\n",
    "plt.xlim(0, 200)\n",
    "plt.ylim(0, N)\n",
    "tight(fig)"
   ]
  },
  {
   "cell_type": "code",
   "execution_count": 3,
   "metadata": {},
   "outputs": [
    {
     "data": {
      "application/vnd.jupyter.widget-view+json": {
       "model_id": "6d04323f051440e4aed956e6033e323d",
       "version_major": 2,
       "version_minor": 0
      },
      "text/plain": [
       "Canvas(toolbar=Toolbar(toolitems=[('Home', 'Reset original view', 'home', 'home'), ('Back', 'Back to previous …"
      ]
     },
     "metadata": {},
     "output_type": "display_data"
    }
   ],
   "source": [
    "fig = plt.figure(figsize=(9, 4))\n",
    "plt.xlim(0, 200)\n",
    "plt.ylim(0, N)\n",
    "\n",
    "for i in range(10):\n",
    "    plt.plot(list(freq_trajectory(N, n=n, s=s)))\n",
    "tight(fig)"
   ]
  },
  {
   "cell_type": "code",
   "execution_count": 4,
   "metadata": {},
   "outputs": [
    {
     "data": {
      "application/vnd.jupyter.widget-view+json": {
       "model_id": "9a6652dbf1094b4ab7d40afbc72f47d4",
       "version_major": 2,
       "version_minor": 0
      },
      "text/plain": [
       "Canvas(toolbar=Toolbar(toolitems=[('Home', 'Reset original view', 'home', 'home'), ('Back', 'Back to previous …"
      ]
     },
     "metadata": {},
     "output_type": "display_data"
    }
   ],
   "source": [
    "fig = plt.figure(figsize=(9, 4))\n",
    "plt.xlim(0, 200)\n",
    "plt.ylim(0, N)\n",
    "\n",
    "for i in range(50):\n",
    "    plt.plot(list(freq_trajectory(N, n=n, s=s)))\n",
    "tight(fig)       "
   ]
  },
  {
   "cell_type": "code",
   "execution_count": 5,
   "metadata": {},
   "outputs": [
    {
     "data": {
      "application/vnd.jupyter.widget-view+json": {
       "model_id": "d69ba2550d754b2186643a455468235c",
       "version_major": 2,
       "version_minor": 0
      },
      "text/plain": [
       "Canvas(toolbar=Toolbar(toolitems=[('Home', 'Reset original view', 'home', 'home'), ('Back', 'Back to previous …"
      ]
     },
     "metadata": {},
     "output_type": "display_data"
    }
   ],
   "source": [
    "fig, (ax1, ax2) = plt.subplots(2, 1, figsize=(9, 6), sharex=True)\n",
    "plt.xlim(0, 200)\n",
    "for i in range(20):\n",
    "    ax1.plot(list(freq_trajectory(1000, n=500, s=s)))\n",
    "    ax1.set_ylim(0, 1000)\n",
    "    ax2.plot(list(freq_trajectory(10000, n=5000, s=s)))\n",
    "    ax2.set_ylim(0, 10000)\n",
    "tight(fig)       "
   ]
  },
  {
   "cell_type": "markdown",
   "metadata": {},
   "source": [
    "In small populations mutations fix faster than in large populations. That is hte reason large populations have more variation:"
   ]
  },
  {
   "cell_type": "code",
   "execution_count": 6,
   "metadata": {},
   "outputs": [
    {
     "data": {
      "application/vnd.jupyter.widget-view+json": {
       "model_id": "2a1b3bbd3a90405f80db4e1cdc78f8ee",
       "version_major": 2,
       "version_minor": 0
      },
      "text/plain": [
       "Canvas(toolbar=Toolbar(toolitems=[('Home', 'Reset original view', 'home', 'home'), ('Back', 'Back to previous …"
      ]
     },
     "metadata": {},
     "output_type": "display_data"
    }
   ],
   "source": [
    "fig, (ax1, ax2) = plt.subplots(2, 1, figsize=(9, 4), sharex=True)\n",
    "\n",
    "for i in range(20):\n",
    "    ax1.plot(list(freq_trajectory(1000, n=500, s=s)))\n",
    "    ax1.set_ylim(0, 1000)\n",
    "    ax2.plot(list(freq_trajectory(10000, n=5000, s=s)))\n",
    "    ax2.set_ylim(0, 10000)    \n",
    "tight(fig)      "
   ]
  },
  {
   "cell_type": "markdown",
   "metadata": {},
   "source": [
    "# Weak positive selection"
   ]
  },
  {
   "cell_type": "code",
   "execution_count": 7,
   "metadata": {},
   "outputs": [
    {
     "name": "stdout",
     "output_type": "stream",
     "text": [
      "Ns = 5.0\n"
     ]
    },
    {
     "data": {
      "application/vnd.jupyter.widget-view+json": {
       "model_id": "089b7948bbbe48b094cf1a1871654182",
       "version_major": 2,
       "version_minor": 0
      },
      "text/plain": [
       "Canvas(toolbar=Toolbar(toolitems=[('Home', 'Reset original view', 'home', 'home'), ('Back', 'Back to previous …"
      ]
     },
     "metadata": {},
     "output_type": "display_data"
    }
   ],
   "source": [
    "# Number of alleles at onset of selection\n",
    "n = 1\n",
    "# Population size (total nr. of alleles)\n",
    "N = 10000\n",
    "# selection coeficient\n",
    "s = 0.0005\n",
    "print(f\"Ns = {N*s}\")\n",
    "def freq_trajectory(N, n=1, s=0):\n",
    "    yield n\n",
    "    while N > n > 0:\n",
    "        n = np.random.binomial(N, n*(1+s)/((N-n)+(n)*(1+s)), 1)[0]\n",
    "        yield n\n",
    "\n",
    "fig = plt.figure(figsize=(9, 4))\n",
    "for i in range(1000):\n",
    "    plt.plot(list(freq_trajectory(N, n=n, s=s)))\n",
    "\n",
    "#plt.xlim(0, 1000)\n",
    "plt.ylim(0, N)\n",
    "tight(fig)"
   ]
  },
  {
   "cell_type": "markdown",
   "metadata": {},
   "source": [
    "# Fixation times dependence on N"
   ]
  },
  {
   "cell_type": "code",
   "execution_count": 8,
   "metadata": {},
   "outputs": [
    {
     "ename": "KeyboardInterrupt",
     "evalue": "",
     "output_type": "error",
     "traceback": [
      "\u001b[0;31m---------------------------------------------------------------------------\u001b[0m",
      "\u001b[0;31mKeyboardInterrupt\u001b[0m                         Traceback (most recent call last)",
      "\u001b[0;32m<ipython-input-8-a2b755a3ea74>\u001b[0m in \u001b[0;36m<module>\u001b[0;34m\u001b[0m\n\u001b[1;32m      8\u001b[0m \u001b[0;34m\u001b[0m\u001b[0m\n\u001b[1;32m      9\u001b[0m \u001b[0mtimes_small\u001b[0m \u001b[0;34m=\u001b[0m \u001b[0mfixation_times\u001b[0m\u001b[0;34m(\u001b[0m\u001b[0;36m1000\u001b[0m\u001b[0;34m,\u001b[0m \u001b[0mn\u001b[0m\u001b[0;34m=\u001b[0m\u001b[0;36m1\u001b[0m\u001b[0;34m,\u001b[0m \u001b[0ms\u001b[0m\u001b[0;34m=\u001b[0m\u001b[0;36m0.0005\u001b[0m\u001b[0;34m)\u001b[0m\u001b[0;34m\u001b[0m\u001b[0;34m\u001b[0m\u001b[0m\n\u001b[0;32m---> 10\u001b[0;31m \u001b[0mtimes_medium\u001b[0m \u001b[0;34m=\u001b[0m \u001b[0mfixation_times\u001b[0m\u001b[0;34m(\u001b[0m\u001b[0;36m5000\u001b[0m\u001b[0;34m,\u001b[0m \u001b[0mn\u001b[0m\u001b[0;34m=\u001b[0m\u001b[0;36m1\u001b[0m\u001b[0;34m,\u001b[0m \u001b[0ms\u001b[0m\u001b[0;34m=\u001b[0m\u001b[0;36m0.0005\u001b[0m\u001b[0;34m)\u001b[0m\u001b[0;34m\u001b[0m\u001b[0;34m\u001b[0m\u001b[0m\n\u001b[0m\u001b[1;32m     11\u001b[0m \u001b[0mtimes_large\u001b[0m \u001b[0;34m=\u001b[0m \u001b[0mfixation_times\u001b[0m\u001b[0;34m(\u001b[0m\u001b[0;36m10000\u001b[0m\u001b[0;34m,\u001b[0m \u001b[0mn\u001b[0m\u001b[0;34m=\u001b[0m\u001b[0;36m1\u001b[0m\u001b[0;34m,\u001b[0m \u001b[0ms\u001b[0m\u001b[0;34m=\u001b[0m\u001b[0;36m0.0005\u001b[0m\u001b[0;34m)\u001b[0m\u001b[0;34m\u001b[0m\u001b[0;34m\u001b[0m\u001b[0m\n",
      "\u001b[0;32m<ipython-input-8-a2b755a3ea74>\u001b[0m in \u001b[0;36mfixation_times\u001b[0;34m(N, n, s)\u001b[0m\n\u001b[1;32m      2\u001b[0m     \u001b[0mtimes\u001b[0m \u001b[0;34m=\u001b[0m \u001b[0mlist\u001b[0m\u001b[0;34m(\u001b[0m\u001b[0;34m)\u001b[0m\u001b[0;34m\u001b[0m\u001b[0;34m\u001b[0m\u001b[0m\n\u001b[1;32m      3\u001b[0m     \u001b[0;32mfor\u001b[0m \u001b[0mi\u001b[0m \u001b[0;32min\u001b[0m \u001b[0mrange\u001b[0m\u001b[0;34m(\u001b[0m\u001b[0;36m100000\u001b[0m\u001b[0;34m)\u001b[0m\u001b[0;34m:\u001b[0m\u001b[0;34m\u001b[0m\u001b[0;34m\u001b[0m\u001b[0m\n\u001b[0;32m----> 4\u001b[0;31m         \u001b[0mfreqs\u001b[0m \u001b[0;34m=\u001b[0m \u001b[0mlist\u001b[0m\u001b[0;34m(\u001b[0m\u001b[0mfreq_trajectory\u001b[0m\u001b[0;34m(\u001b[0m\u001b[0mN\u001b[0m\u001b[0;34m,\u001b[0m \u001b[0mn\u001b[0m\u001b[0;34m=\u001b[0m\u001b[0mn\u001b[0m\u001b[0;34m,\u001b[0m \u001b[0ms\u001b[0m\u001b[0;34m=\u001b[0m\u001b[0ms\u001b[0m\u001b[0;34m)\u001b[0m\u001b[0;34m)\u001b[0m\u001b[0;34m\u001b[0m\u001b[0;34m\u001b[0m\u001b[0m\n\u001b[0m\u001b[1;32m      5\u001b[0m         \u001b[0;32mif\u001b[0m \u001b[0mfreqs\u001b[0m\u001b[0;34m[\u001b[0m\u001b[0;34m-\u001b[0m\u001b[0;36m1\u001b[0m\u001b[0;34m]\u001b[0m\u001b[0;34m:\u001b[0m\u001b[0;34m\u001b[0m\u001b[0;34m\u001b[0m\u001b[0m\n\u001b[1;32m      6\u001b[0m             \u001b[0mtimes\u001b[0m\u001b[0;34m.\u001b[0m\u001b[0mappend\u001b[0m\u001b[0;34m(\u001b[0m\u001b[0mlen\u001b[0m\u001b[0;34m(\u001b[0m\u001b[0mfreqs\u001b[0m\u001b[0;34m)\u001b[0m\u001b[0;34m)\u001b[0m\u001b[0;34m\u001b[0m\u001b[0;34m\u001b[0m\u001b[0m\n",
      "\u001b[0;32m<ipython-input-7-db191034d4ed>\u001b[0m in \u001b[0;36mfreq_trajectory\u001b[0;34m(N, n, s)\u001b[0m\n\u001b[1;32m      9\u001b[0m     \u001b[0;32myield\u001b[0m \u001b[0mn\u001b[0m\u001b[0;34m\u001b[0m\u001b[0;34m\u001b[0m\u001b[0m\n\u001b[1;32m     10\u001b[0m     \u001b[0;32mwhile\u001b[0m \u001b[0mN\u001b[0m \u001b[0;34m>\u001b[0m \u001b[0mn\u001b[0m \u001b[0;34m>\u001b[0m \u001b[0;36m0\u001b[0m\u001b[0;34m:\u001b[0m\u001b[0;34m\u001b[0m\u001b[0;34m\u001b[0m\u001b[0m\n\u001b[0;32m---> 11\u001b[0;31m         \u001b[0mn\u001b[0m \u001b[0;34m=\u001b[0m \u001b[0mnp\u001b[0m\u001b[0;34m.\u001b[0m\u001b[0mrandom\u001b[0m\u001b[0;34m.\u001b[0m\u001b[0mbinomial\u001b[0m\u001b[0;34m(\u001b[0m\u001b[0mN\u001b[0m\u001b[0;34m,\u001b[0m \u001b[0mn\u001b[0m\u001b[0;34m*\u001b[0m\u001b[0;34m(\u001b[0m\u001b[0;36m1\u001b[0m\u001b[0;34m+\u001b[0m\u001b[0ms\u001b[0m\u001b[0;34m)\u001b[0m\u001b[0;34m/\u001b[0m\u001b[0;34m(\u001b[0m\u001b[0;34m(\u001b[0m\u001b[0mN\u001b[0m\u001b[0;34m-\u001b[0m\u001b[0mn\u001b[0m\u001b[0;34m)\u001b[0m\u001b[0;34m+\u001b[0m\u001b[0;34m(\u001b[0m\u001b[0mn\u001b[0m\u001b[0;34m)\u001b[0m\u001b[0;34m*\u001b[0m\u001b[0;34m(\u001b[0m\u001b[0;36m1\u001b[0m\u001b[0;34m+\u001b[0m\u001b[0ms\u001b[0m\u001b[0;34m)\u001b[0m\u001b[0;34m)\u001b[0m\u001b[0;34m,\u001b[0m \u001b[0;36m1\u001b[0m\u001b[0;34m)\u001b[0m\u001b[0;34m[\u001b[0m\u001b[0;36m0\u001b[0m\u001b[0;34m]\u001b[0m\u001b[0;34m\u001b[0m\u001b[0;34m\u001b[0m\u001b[0m\n\u001b[0m\u001b[1;32m     12\u001b[0m         \u001b[0;32myield\u001b[0m \u001b[0mn\u001b[0m\u001b[0;34m\u001b[0m\u001b[0;34m\u001b[0m\u001b[0m\n\u001b[1;32m     13\u001b[0m \u001b[0;34m\u001b[0m\u001b[0m\n",
      "\u001b[0;31mKeyboardInterrupt\u001b[0m: "
     ]
    }
   ],
   "source": [
    "def fixation_times(N, n=n, s=s):\n",
    "    times = list()\n",
    "    for i in range(100000): \n",
    "        freqs = list(freq_trajectory(N, n=n, s=s))\n",
    "        if freqs[-1]:\n",
    "            times.append(len(freqs))\n",
    "    return times\n",
    "\n",
    "times_small = fixation_times(1000, n=1, s=0.0005)\n",
    "times_medium = fixation_times(5000, n=1, s=0.0005)\n",
    "times_large = fixation_times(10000, n=1, s=0.0005)"
   ]
  },
  {
   "cell_type": "code",
   "execution_count": null,
   "metadata": {},
   "outputs": [],
   "source": [
    "plt.hist(times_small, bins=range(0, 20000, 1000), alpha=0.5) \n",
    "plt.hist(times_medium, bins=range(0, 20000, 1000), alpha=0.5) \n",
    "plt.hist(times_large, bins=range(0, 20000, 1000), alpha=0.5) ;"
   ]
  },
  {
   "cell_type": "markdown",
   "metadata": {},
   "source": [
    "# Weak negative selection"
   ]
  },
  {
   "cell_type": "code",
   "execution_count": null,
   "metadata": {},
   "outputs": [],
   "source": [
    "# Number of alleles at onset of selection\n",
    "n = 1\n",
    "# Population size (total nr. of alleles)\n",
    "N = 10000\n",
    "#N = 100\n",
    "# selection coeficient\n",
    "s = -0.0005\n",
    "print(f\"Ns = {N*s}\")\n",
    "def freq_trajectory(N, n=1, s=0):\n",
    "    yield n\n",
    "    while N > n > 0:\n",
    "        n = np.random.binomial(N, n*(1+s)/((N-n)+(n)*(1+s)), 1)[0]\n",
    "        yield n\n",
    "\n",
    "fig = plt.figure(figsize=(9, 4))\n",
    "for i in range(1000):\n",
    "    plt.plot(list(freq_trajectory(N, n=n, s=s)))\n",
    "\n",
    "#plt.xlim(0, 1000)\n",
    "plt.ylim(0, N)\n",
    "tight(fig)"
   ]
  },
  {
   "cell_type": "markdown",
   "metadata": {},
   "source": [
    "## Fixation probability\n",
    "\n",
    "$$\\frac{1 - \\exp(-4sN_e/2N)}{1 - \\exp(-4N_es)}$$\n",
    "\n",
    "Assuming a panmictic population, this simplifies to: \n",
    "\n",
    "$$\\frac{1-\\exp(-2s)}{1-\\exp(-4 N_e s)} \\approx \\frac{2s}{1-\\exp(-4 N_e s)}$$\n",
    "\n",
    "Further assuming $N_e s \\gg 1$, it siplifies to:\n",
    "\n",
    "$$2s$$"
   ]
  },
  {
   "cell_type": "code",
   "execution_count": null,
   "metadata": {
    "collapsed": false,
    "jupyter": {
     "outputs_hidden": false
    }
   },
   "outputs": [],
   "source": [
    "def prob_fixation(s, Ne, N):\n",
    "    return (1 - np.exp(-4*s*Ne/(2*N))) / (1 - np.exp(-4 * Ne * s))\n",
    "\n",
    "def simple_prob_fixation(s, N):\n",
    "    return (1 - np.exp(-2*s)) / (1 - np.exp(-4 * N * s))\n",
    "\n",
    "def simplest_prob_fixation(s, N):\n",
    "    return 2*s / (1 - np.exp(-4 * N * s))\n",
    "\n",
    "nr_points = 100"
   ]
  },
  {
   "cell_type": "code",
   "execution_count": null,
   "metadata": {},
   "outputs": [],
   "source": [
    "%matplotlib inline"
   ]
  },
  {
   "cell_type": "code",
   "execution_count": null,
   "metadata": {},
   "outputs": [],
   "source": []
  },
  {
   "cell_type": "code",
   "execution_count": null,
   "metadata": {},
   "outputs": [],
   "source": [
    "Ne = 10000\n",
    "N = Ne\n",
    "max_s = 0.0005\n",
    "\n",
    "s_arr = np.linspace(-max_s, max_s, num=nr_points)\n",
    "Ne_arr = np.full(nr_points, Ne)\n",
    "N_arr = np.full(nr_points, N)\n",
    "\n",
    "fig, (ax1) = plt.subplots(1, 1)\n",
    "\n",
    "ax1.plot(s_arr, prob_fixation(s_arr, Ne_arr, N_arr), linewidth=5)\n",
    "ax1.plot(s_arr, simple_prob_fixation(s_arr, Ne_arr), color='orange')\n",
    "ax1.plot(s_arr, simplest_prob_fixation(s_arr, Ne_arr), color='red', linestyle='dotted', linewidth=2)\n",
    "ax1.set_xlabel('s')\n",
    "ax1.set_ylabel('Fixation probability')\n",
    "ax1.set_title('$N = N_e$')\n",
    "tight(fig)"
   ]
  },
  {
   "cell_type": "code",
   "execution_count": null,
   "metadata": {},
   "outputs": [],
   "source": [
    "nr_points = 100\n",
    "Ne = 10000\n",
    "N = Ne\n",
    "max_s = 0.0005\n",
    "\n",
    "fig, ax = plt.subplots(1, 1)\n",
    "s_arr = np.linspace(-max_s, max_s, num=nr_points)\n",
    "Ne_arr = np.full(nr_points, Ne)\n",
    "N_arr = np.full(nr_points, N)\n",
    "\n",
    "plt.plot(s_arr, prob_fixation(s_arr, Ne_arr, N_arr))\n",
    "plt.plot(np.linspace(0, max_s, 2), np.linspace(0, max_s, 2)*2, linestyle='dashed')\n",
    "\n",
    "ax.add_patch(Rectangle((-1/Ne, 0), 2/Ne, 0.001, alpha=0.2, color='grey', zorder=0))\n",
    "\n",
    "plt.axvline(x=1/Ne, linestyle='dashed', color='grey')\n",
    "plt.axvline(x=-1/Ne, linestyle='dashed', color='grey')\n",
    "plt.tight_layout()\n",
    "\n",
    "plt.xlabel('s')\n",
    "plt.ylabel('Fixation probability') \n",
    "tight(fig)"
   ]
  },
  {
   "cell_type": "code",
   "execution_count": null,
   "metadata": {},
   "outputs": [],
   "source": [
    "Ne = 10000\n",
    "N = Ne\n",
    "max_s = 0.0005\n",
    "\n",
    "s_arr = np.linspace(-max_s, max_s, num=nr_points)\n",
    "Ne_arr = np.full(nr_points, Ne)\n",
    "N_arr = np.full(nr_points, N)\n",
    "\n",
    "fig, (ax1, ax2, ax3) = plt.subplots(1, 3, figsize=(9, 4))\n",
    "\n",
    "ax1.plot(s_arr, prob_fixation(s_arr, Ne_arr, N_arr))\n",
    "ax1.plot(s_arr, simple_prob_fixation(s_arr, Ne_arr), color='black', linestyle='dotted')\n",
    "ax1.set_xlabel('s')\n",
    "ax1.set_ylabel('Fixation probability')\n",
    "ax1.set_title('$N = N_e$')\n",
    "\n",
    "ax2.plot(s_arr, prob_fixation(s_arr, Ne_arr, N_arr*2))\n",
    "ax2.plot(s_arr, simple_prob_fixation(s_arr, Ne_arr), color='black', linestyle='dotted')\n",
    "ax2.set_xlabel('s')\n",
    "ax2.set_ylabel('Fixation probability')\n",
    "ax2.set_title('$N = 2 * N_e$')\n",
    "\n",
    "# ax2.plot(np.linspace(0, max_s, 2), np.linspace(0, max_s, 2)*2, linestyle='dashed', color='orange')\n",
    "# ax2.plot(np.linspace(0, max_s, 2), np.linspace(0, max_s, 2)*2/2, linestyle='dashed', color='orange')\n",
    "\n",
    "\n",
    "ax3.plot(s_arr, prob_fixation(s_arr, Ne_arr, N_arr*100))\n",
    "ax3.plot(s_arr, simple_prob_fixation(s_arr, Ne_arr), color='black', linestyle='dotted')\n",
    "ax3.set_xlabel('s')\n",
    "ax3.set_ylabel('Fixation probability')\n",
    "ax3.set_title('$N = 100 * N_e$')\n",
    "\n",
    "tight(fig)"
   ]
  },
  {
   "cell_type": "markdown",
   "metadata": {},
   "source": [
    "In a non-panmictic population (where $N \\neq N_e$)"
   ]
  },
  {
   "cell_type": "code",
   "execution_count": null,
   "metadata": {},
   "outputs": [],
   "source": [
    "Ne = 10000\n",
    "N = Ne\n",
    "max_s = 0.0005\n",
    "\n",
    "s_arr = np.linspace(-max_s, max_s, num=nr_points)\n",
    "Ne_arr = np.full(nr_points, Ne)\n",
    "N_arr = np.full(nr_points, N)\n",
    "\n",
    "fig, (ax1, ax2) = plt.subplots(1, 2, figsize=(9, 4))\n",
    "\n",
    "ax1.plot(s_arr, prob_fixation(s_arr, Ne_arr, N_arr))\n",
    "ax1.plot(s_arr, simple_prob_fixation(s_arr, Ne_arr), color='black', linestyle='dotted')\n",
    "ax1.set_xlabel('s')\n",
    "ax1.set_ylabel('Fixation probability')\n",
    "ax1.set_title('$N = N_e$')\n",
    "\n",
    "ax2.plot(s_arr, prob_fixation(s_arr, Ne_arr, N_arr*2))\n",
    "ax2.plot(s_arr, simple_prob_fixation(s_arr, Ne_arr), color='black', linestyle='dotted')\n",
    "ax2.set_xlabel('s')\n",
    "ax2.set_ylabel('Fixation probability')\n",
    "ax2.set_title('$N = 2 * N_e$')\n",
    "\n",
    "ax1.plot(np.linspace(0, max_s, 2), np.linspace(0, max_s, 2)*2, linestyle='dashed', color='orange')\n",
    "ax2.plot(np.linspace(0, max_s, 2), np.linspace(0, max_s, 2)*2/2, linestyle='dashed', color='orange')\n",
    "\n",
    "tight(fig)"
   ]
  },
  {
   "cell_type": "code",
   "execution_count": null,
   "metadata": {
    "collapsed": false,
    "jupyter": {
     "outputs_hidden": false
    }
   },
   "outputs": [],
   "source": [
    "Ne = 10000\n",
    "N = Ne\n",
    "max_s = 0.0005\n",
    "\n",
    "s_arr = np.linspace(-max_s, max_s, num=nr_points)\n",
    "Ne_arr = np.full(nr_points, Ne)\n",
    "N_arr = np.full(nr_points, N)\n",
    "\n",
    "_s = np.repeat(s_arr, nr_points).reshape((nr_points, nr_points)).transpose()\n",
    "_N = np.repeat(np.linspace(10000, 20000, num=nr_points), nr_points).reshape((nr_points, nr_points))\n",
    "_Ne = np.repeat(Ne_arr, nr_points).reshape((nr_points, nr_points))\n",
    "_f = prob_fixation(_s, _Ne, _N)\n",
    "\n",
    "fig = plt.figure(figsize=(10, 6))\n",
    "ax = fig.add_subplot(111, projection='3d')\n",
    "ax.plot_wireframe(_s, _N, _f, alpha=0.5, color='grey')\n",
    "#ax.plot_surface(_s, _N, _f, alpha=0.5, color='black')\n",
    "ax.contour(_s, _N, _f, zdir='z', offset=0, cmap=cm.coolwarm)\n",
    "ax.set_xlabel('s')\n",
    "ax.set_ylabel('N')\n",
    "ax.set_zlabel('fixation prob')\n",
    "\n",
    "tight(fig)"
   ]
  },
  {
   "cell_type": "code",
   "execution_count": null,
   "metadata": {},
   "outputs": [],
   "source": [
    "\n",
    "_s = np.repeat(s_arr, nr_points).reshape((nr_points, nr_points)).transpose()\n",
    "_N = np.repeat(N_arr, nr_points).reshape((nr_points, nr_points))\n",
    "_Ne = np.repeat(np.linspace(1000, 10000, num=nr_points), nr_points).reshape((nr_points, nr_points))\n",
    "_f = prob_fixation(_s, _Ne, _N)\n",
    "\n",
    "fig = plt.figure(figsize=(10, 6))\n",
    "ax = fig.add_subplot(111, projection='3d')\n",
    "ax.plot_wireframe(_s, _Ne, _f, alpha=0.5, color='grey')\n",
    "#ax.plot_surface(_s, _Ne, _f, alpha=0.2, color='grey')\n",
    "ax.contour(_s, _Ne, _f, zdir='z', offset=0, cmap=cm.coolwarm)\n",
    "ax.set_xlabel('s')\n",
    "ax.set_ylabel('Ne')\n",
    "ax.set_zlabel('fixation prob')\n",
    "\n",
    "tight(fig)"
   ]
  },
  {
   "cell_type": "markdown",
   "metadata": {},
   "source": [
    "Compare to the figures above where we plotted just the fixation probability for a single $N_e$."
   ]
  },
  {
   "cell_type": "code",
   "execution_count": null,
   "metadata": {},
   "outputs": [],
   "source": []
  },
  {
   "cell_type": "code",
   "execution_count": null,
   "metadata": {},
   "outputs": [],
   "source": []
  }
 ],
 "metadata": {
  "anaconda-cloud": {},
  "kernelspec": {
   "display_name": "Python 3",
   "language": "python",
   "name": "python3"
  },
  "language_info": {
   "codemirror_mode": {
    "name": "ipython",
    "version": 3
   },
   "file_extension": ".py",
   "mimetype": "text/x-python",
   "name": "python",
   "nbconvert_exporter": "python",
   "pygments_lexer": "ipython3",
   "version": "3.8.6"
  }
 },
 "nbformat": 4,
 "nbformat_minor": 4
}
