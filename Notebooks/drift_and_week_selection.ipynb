{
 "cells": [
  {
   "cell_type": "markdown",
   "metadata": {},
   "source": [
    "# Genetic drift"
   ]
  },
  {
   "cell_type": "code",
   "execution_count": 46,
   "metadata": {},
   "outputs": [],
   "source": [
    "%matplotlib widget\n",
    "\n",
    "# Make inline plots vector graphics instead of raster graphics\n",
    "from IPython.display import set_matplotlib_formats\n",
    "set_matplotlib_formats('retina', 'png')\n",
    "\n",
    "import matplotlib.pyplot as plt\n",
    "#from mpl_toolkits.mplot3d import Axes3D\n",
    "from mpl_toolkits.mplot3d.axes3d import Axes3D, get_test_data\n",
    "from matplotlib import cm\n",
    "\n",
    "from matplotlib.patches import Rectangle\n",
    "\n",
    "import numpy as np\n",
    "import pandas as pd\n",
    "import seaborn as sns\n",
    "sns.set_style(\"whitegrid\")\n",
    "sns.set_context(\"paper\")\n",
    "\n",
    "def tight(fig):\n",
    "    fig.canvas.header_visible = False\n",
    "    plt.tight_layout()"
   ]
  },
  {
   "cell_type": "code",
   "execution_count": 47,
   "metadata": {},
   "outputs": [
    {
     "data": {
      "application/vnd.jupyter.widget-view+json": {
       "model_id": "7d5e57308f5f4e498eb2b4e06ec28b5d",
       "version_major": 2,
       "version_minor": 0
      },
      "text/plain": [
       "Canvas(toolbar=Toolbar(toolitems=[('Home', 'Reset original view', 'home', 'home'), ('Back', 'Back to previous …"
      ]
     },
     "metadata": {},
     "output_type": "display_data"
    }
   ],
   "source": [
    "# Number of haploid individuals with the allele\n",
    "n = 500\n",
    "# Population size\n",
    "N = 1000\n",
    "# selection coeficient\n",
    "s = 0.0\n",
    "\n",
    "def freq_trajectory(N, n=1, s=0):\n",
    "    yield n\n",
    "    while N > n > 0:\n",
    "        n = np.random.binomial(N, n*(1+s)/((N-n)+(n)*(1+s)), 1)[0]\n",
    "        yield n\n",
    "\n",
    "fig = plt.figure(figsize=(12, 6))\n",
    "\n",
    "for i in range(1):\n",
    "    plt.plot(list(freq_trajectory(N, n=n, s=s)))\n",
    "\n",
    "plt.xlim(0, 200)\n",
    "plt.ylim(0, N)\n",
    "tight(fig)"
   ]
  },
  {
   "cell_type": "code",
   "execution_count": 48,
   "metadata": {},
   "outputs": [
    {
     "data": {
      "application/vnd.jupyter.widget-view+json": {
       "model_id": "65a3b5f2e69a4fa5b83d829323809038",
       "version_major": 2,
       "version_minor": 0
      },
      "text/plain": [
       "Canvas(toolbar=Toolbar(toolitems=[('Home', 'Reset original view', 'home', 'home'), ('Back', 'Back to previous …"
      ]
     },
     "metadata": {},
     "output_type": "display_data"
    }
   ],
   "source": [
    "fig = plt.figure(figsize=(12, 6))\n",
    "plt.xlim(0, 200)\n",
    "plt.ylim(0, N)\n",
    "\n",
    "for i in range(10):\n",
    "    plt.plot(list(freq_trajectory(N, n=n, s=s)))\n",
    "tight(fig)"
   ]
  },
  {
   "cell_type": "code",
   "execution_count": 49,
   "metadata": {},
   "outputs": [
    {
     "data": {
      "application/vnd.jupyter.widget-view+json": {
       "model_id": "5ec84184bf8845a78ac647b44657fb6c",
       "version_major": 2,
       "version_minor": 0
      },
      "text/plain": [
       "Canvas(toolbar=Toolbar(toolitems=[('Home', 'Reset original view', 'home', 'home'), ('Back', 'Back to previous …"
      ]
     },
     "metadata": {},
     "output_type": "display_data"
    }
   ],
   "source": [
    "fig = plt.figure(figsize=(12, 6))\n",
    "plt.xlim(0, 200)\n",
    "plt.ylim(0, N)\n",
    "\n",
    "for i in range(50):\n",
    "    plt.plot(list(freq_trajectory(N, n=n, s=s)))\n",
    "tight(fig)       "
   ]
  },
  {
   "cell_type": "code",
   "execution_count": 50,
   "metadata": {},
   "outputs": [
    {
     "data": {
      "application/vnd.jupyter.widget-view+json": {
       "model_id": "c83fa6abcbe84d4983a896c4daedd7d6",
       "version_major": 2,
       "version_minor": 0
      },
      "text/plain": [
       "Canvas(toolbar=Toolbar(toolitems=[('Home', 'Reset original view', 'home', 'home'), ('Back', 'Back to previous …"
      ]
     },
     "metadata": {},
     "output_type": "display_data"
    }
   ],
   "source": [
    "fig, (ax1, ax2) = plt.subplots(2, 1, figsize=(12, 8), sharex=True)\n",
    "plt.xlim(0, 200)\n",
    "for i in range(20):\n",
    "    ax1.plot(list(freq_trajectory(1000, n=500, s=s)))\n",
    "    ax1.set_ylim(0, 1000)\n",
    "    ax2.plot(list(freq_trajectory(10000, n=5000, s=s)))\n",
    "    ax2.set_ylim(0, 10000)\n",
    "tight(fig)       "
   ]
  },
  {
   "cell_type": "markdown",
   "metadata": {},
   "source": [
    "In small populations mutations fix faster than in large populations. That is hte reason large populations have more variation:"
   ]
  },
  {
   "cell_type": "code",
   "execution_count": 51,
   "metadata": {},
   "outputs": [
    {
     "data": {
      "application/vnd.jupyter.widget-view+json": {
       "model_id": "e7a9c00addcb48fda307e4a1a45205cd",
       "version_major": 2,
       "version_minor": 0
      },
      "text/plain": [
       "Canvas(toolbar=Toolbar(toolitems=[('Home', 'Reset original view', 'home', 'home'), ('Back', 'Back to previous …"
      ]
     },
     "metadata": {},
     "output_type": "display_data"
    }
   ],
   "source": [
    "fig, (ax1, ax2) = plt.subplots(2, 1, figsize=(12, 8), sharex=True)\n",
    "\n",
    "for i in range(20):\n",
    "    ax1.plot(list(freq_trajectory(1000, n=500, s=s)))\n",
    "    ax1.set_ylim(0, 1000)\n",
    "    ax2.plot(list(freq_trajectory(10000, n=5000, s=s)))\n",
    "    ax2.set_ylim(0, 10000)    \n",
    "tight(fig)      "
   ]
  },
  {
   "cell_type": "markdown",
   "metadata": {},
   "source": [
    "# Weak positive selection"
   ]
  },
  {
   "cell_type": "code",
   "execution_count": 52,
   "metadata": {},
   "outputs": [
    {
     "name": "stdout",
     "output_type": "stream",
     "text": [
      "Ns = 5.0\n"
     ]
    },
    {
     "data": {
      "application/vnd.jupyter.widget-view+json": {
       "model_id": "530cf9987d714456892ad0185af312ec",
       "version_major": 2,
       "version_minor": 0
      },
      "text/plain": [
       "Canvas(toolbar=Toolbar(toolitems=[('Home', 'Reset original view', 'home', 'home'), ('Back', 'Back to previous …"
      ]
     },
     "metadata": {},
     "output_type": "display_data"
    }
   ],
   "source": [
    "# Number of alleles at onset of selection\n",
    "n = 1\n",
    "# Population size (total nr. of alleles)\n",
    "N = 10000\n",
    "# selection coeficient\n",
    "s = 0.0005\n",
    "print(f\"Ns = {N*s}\")\n",
    "def freq_trajectory(N, n=1, s=0):\n",
    "    yield n\n",
    "    while N > n > 0:\n",
    "        n = np.random.binomial(N, n*(1+s)/((N-n)+(n)*(1+s)), 1)[0]\n",
    "        yield n\n",
    "\n",
    "fig = plt.figure(figsize=(12, 4))\n",
    "for i in range(1000):\n",
    "    plt.plot(list(freq_trajectory(N, n=n, s=s)))\n",
    "\n",
    "#plt.xlim(0, 1000)\n",
    "plt.ylim(0, N)\n",
    "tight(fig)"
   ]
  },
  {
   "cell_type": "markdown",
   "metadata": {},
   "source": [
    "# Fixation times dependence on N"
   ]
  },
  {
   "cell_type": "code",
   "execution_count": 40,
   "metadata": {},
   "outputs": [],
   "source": [
    "def fixation_times(N, n=n, s=s):\n",
    "    times = list()\n",
    "    for i in range(100000): \n",
    "        freqs = list(freq_trajectory(N, n=n, s=s))\n",
    "        if freqs[-1]:\n",
    "            times.append(len(freqs))\n",
    "    return times\n",
    "\n",
    "times_small = fixation_times(1000, n=1, s=0.0005)\n",
    "times_medium = fixation_times(5000, n=1, s=0.0005)\n",
    "times_large = fixation_times(10000, n=1, s=0.0005)"
   ]
  },
  {
   "cell_type": "code",
   "execution_count": 53,
   "metadata": {},
   "outputs": [],
   "source": [
    "plt.hist(times_small, bins=range(0, 20000, 1000), alpha=0.5) \n",
    "plt.hist(times_medium, bins=range(0, 20000, 1000), alpha=0.5) \n",
    "plt.hist(times_large, bins=range(0, 20000, 1000), alpha=0.5) ;"
   ]
  },
  {
   "cell_type": "markdown",
   "metadata": {},
   "source": [
    "# Weak negative selection"
   ]
  },
  {
   "cell_type": "code",
   "execution_count": 54,
   "metadata": {},
   "outputs": [
    {
     "name": "stdout",
     "output_type": "stream",
     "text": [
      "Ns = -5.0\n"
     ]
    },
    {
     "data": {
      "application/vnd.jupyter.widget-view+json": {
       "model_id": "8cb66bde3f644c6381753cd83df472f9",
       "version_major": 2,
       "version_minor": 0
      },
      "text/plain": [
       "Canvas(toolbar=Toolbar(toolitems=[('Home', 'Reset original view', 'home', 'home'), ('Back', 'Back to previous …"
      ]
     },
     "metadata": {},
     "output_type": "display_data"
    }
   ],
   "source": [
    "# Number of alleles at onset of selection\n",
    "n = 1\n",
    "# Population size (total nr. of alleles)\n",
    "N = 10000\n",
    "#N = 100\n",
    "# selection coeficient\n",
    "s = -0.0005\n",
    "print(f\"Ns = {N*s}\")\n",
    "def freq_trajectory(N, n=1, s=0):\n",
    "    yield n\n",
    "    while N > n > 0:\n",
    "        n = np.random.binomial(N, n*(1+s)/((N-n)+(n)*(1+s)), 1)[0]\n",
    "        yield n\n",
    "\n",
    "fig = plt.figure(figsize=(12, 4))\n",
    "for i in range(1000):\n",
    "    plt.plot(list(freq_trajectory(N, n=n, s=s)))\n",
    "\n",
    "#plt.xlim(0, 1000)\n",
    "plt.ylim(0, N)\n",
    "tight(fig)"
   ]
  },
  {
   "cell_type": "markdown",
   "metadata": {},
   "source": [
    "## Fixation probability\n",
    "\n",
    "$$\\frac{1 - \\exp(-4sN_e/2N)}{1 - \\exp(-4N_es)}$$\n",
    "\n",
    "Assuming a panmictic population, this simplifies to: \n",
    "\n",
    "$$\\frac{1-\\exp(-2s)}{1-\\exp(-4 N_e s)} \\approx \\frac{2s}{1-\\exp(-4 N_e s)}$$\n",
    "\n",
    "Further assuming $N_e s \\gg 1$, it siplifies to:\n",
    "\n",
    "$$2s$$"
   ]
  },
  {
   "cell_type": "code",
   "execution_count": 12,
   "metadata": {
    "jupyter": {
     "outputs_hidden": false
    }
   },
   "outputs": [],
   "source": [
    "def prob_fixation(s, Ne, N):\n",
    "    return (1 - np.exp(-4*s*Ne/(2*N))) / (1 - np.exp(-4 * Ne * s))\n",
    "\n",
    "def simple_prob_fixation(s, N):\n",
    "    return (1 - np.exp(-2*s)) / (1 - np.exp(-4 * N * s))\n",
    "\n",
    "def simplest_prob_fixation(s, N):\n",
    "    return 2*s / (1 - np.exp(-4 * N * s))\n",
    "\n",
    "nr_points = 100"
   ]
  },
  {
   "cell_type": "code",
   "execution_count": 13,
   "metadata": {},
   "outputs": [],
   "source": [
    "%matplotlib inline"
   ]
  },
  {
   "cell_type": "code",
   "execution_count": 43,
   "metadata": {},
   "outputs": [],
   "source": []
  },
  {
   "cell_type": "code",
   "execution_count": 45,
   "metadata": {},
   "outputs": [
    {
     "data": {
      "application/vnd.jupyter.widget-view+json": {
       "model_id": "251d256450fe40f89c9cba2955109f52",
       "version_major": 2,
       "version_minor": 0
      },
      "text/plain": [
       "Canvas(toolbar=Toolbar(toolitems=[('Home', 'Reset original view', 'home', 'home'), ('Back', 'Back to previous …"
      ]
     },
     "metadata": {},
     "output_type": "display_data"
    }
   ],
   "source": [
    "Ne = 10000\n",
    "N = Ne\n",
    "max_s = 0.0005\n",
    "\n",
    "s_arr = np.linspace(-max_s, max_s, num=nr_points)\n",
    "Ne_arr = np.full(nr_points, Ne)\n",
    "N_arr = np.full(nr_points, N)\n",
    "\n",
    "fig, (ax1) = plt.subplots(1, 1)\n",
    "\n",
    "ax1.plot(s_arr, prob_fixation(s_arr, Ne_arr, N_arr), linewidth=5)\n",
    "ax1.plot(s_arr, simple_prob_fixation(s_arr, Ne_arr), color='orange')\n",
    "ax1.plot(s_arr, simplest_prob_fixation(s_arr, Ne_arr), color='red', linestyle='dotted', linewidth=2)\n",
    "ax1.set_xlabel('s')\n",
    "ax1.set_ylabel('Fixation probability')\n",
    "ax1.set_title('$N = N_e$')\n",
    "tight(fig)"
   ]
  },
  {
   "cell_type": "code",
   "execution_count": 55,
   "metadata": {},
   "outputs": [
    {
     "data": {
      "application/vnd.jupyter.widget-view+json": {
       "model_id": "2fd596aa3cdb4ab6b9078dc12643a434",
       "version_major": 2,
       "version_minor": 0
      },
      "text/plain": [
       "Canvas(toolbar=Toolbar(toolitems=[('Home', 'Reset original view', 'home', 'home'), ('Back', 'Back to previous …"
      ]
     },
     "metadata": {},
     "output_type": "display_data"
    }
   ],
   "source": [
    "nr_points = 100\n",
    "Ne = 10000\n",
    "N = Ne\n",
    "max_s = 0.0005\n",
    "\n",
    "fig, ax = plt.subplots(1, 1)\n",
    "s_arr = np.linspace(-max_s, max_s, num=nr_points)\n",
    "Ne_arr = np.full(nr_points, Ne)\n",
    "N_arr = np.full(nr_points, N)\n",
    "\n",
    "plt.plot(s_arr, prob_fixation(s_arr, Ne_arr, N_arr))\n",
    "plt.plot(np.linspace(0, max_s, 2), np.linspace(0, max_s, 2)*2, linestyle='dashed')\n",
    "\n",
    "ax.add_patch(Rectangle((-1/Ne, 0), 2/Ne, 0.001, alpha=0.2, color='grey', zorder=0))\n",
    "\n",
    "plt.axvline(x=1/Ne, linestyle='dashed', color='grey')\n",
    "plt.axvline(x=-1/Ne, linestyle='dashed', color='grey')\n",
    "plt.tight_layout()\n",
    "\n",
    "plt.xlabel('s')\n",
    "plt.ylabel('Fixation probability') \n",
    "tight(fig)"
   ]
  },
  {
   "cell_type": "code",
   "execution_count": 57,
   "metadata": {},
   "outputs": [
    {
     "data": {
      "application/vnd.jupyter.widget-view+json": {
       "model_id": "5b9d6600230240da9def0c05100b4653",
       "version_major": 2,
       "version_minor": 0
      },
      "text/plain": [
       "Canvas(toolbar=Toolbar(toolitems=[('Home', 'Reset original view', 'home', 'home'), ('Back', 'Back to previous …"
      ]
     },
     "metadata": {},
     "output_type": "display_data"
    }
   ],
   "source": [
    "Ne = 10000\n",
    "N = Ne\n",
    "max_s = 0.0005\n",
    "\n",
    "s_arr = np.linspace(-max_s, max_s, num=nr_points)\n",
    "Ne_arr = np.full(nr_points, Ne)\n",
    "N_arr = np.full(nr_points, N)\n",
    "\n",
    "fig, (ax1, ax2, ax3) = plt.subplots(1, 3, figsize=(12, 4))\n",
    "\n",
    "ax1.plot(s_arr, prob_fixation(s_arr, Ne_arr, N_arr))\n",
    "ax1.plot(s_arr, simple_prob_fixation(s_arr, Ne_arr), color='black', linestyle='dotted')\n",
    "ax1.set_xlabel('s')\n",
    "ax1.set_ylabel('Fixation probability')\n",
    "ax1.set_title('$N = N_e$')\n",
    "\n",
    "ax2.plot(s_arr, prob_fixation(s_arr, Ne_arr, N_arr*2))\n",
    "ax2.plot(s_arr, simple_prob_fixation(s_arr, Ne_arr), color='black', linestyle='dotted')\n",
    "ax2.set_xlabel('s')\n",
    "ax2.set_ylabel('Fixation probability')\n",
    "ax2.set_title('$N = 2 * N_e$')\n",
    "\n",
    "# ax2.plot(np.linspace(0, max_s, 2), np.linspace(0, max_s, 2)*2, linestyle='dashed', color='orange')\n",
    "# ax2.plot(np.linspace(0, max_s, 2), np.linspace(0, max_s, 2)*2/2, linestyle='dashed', color='orange')\n",
    "\n",
    "\n",
    "ax3.plot(s_arr, prob_fixation(s_arr, Ne_arr, N_arr*100))\n",
    "ax3.plot(s_arr, simple_prob_fixation(s_arr, Ne_arr), color='black', linestyle='dotted')\n",
    "ax3.set_xlabel('s')\n",
    "ax3.set_ylabel('Fixation probability')\n",
    "ax3.set_title('$N = 100 * N_e$')\n",
    "\n",
    "tight(fig)"
   ]
  },
  {
   "cell_type": "markdown",
   "metadata": {},
   "source": [
    "In a non-panmictic population (where $N \\neq N_e$)"
   ]
  },
  {
   "cell_type": "code",
   "execution_count": 58,
   "metadata": {},
   "outputs": [
    {
     "data": {
      "application/vnd.jupyter.widget-view+json": {
       "model_id": "37160195d90b41ef961afd4bc07afe52",
       "version_major": 2,
       "version_minor": 0
      },
      "text/plain": [
       "Canvas(toolbar=Toolbar(toolitems=[('Home', 'Reset original view', 'home', 'home'), ('Back', 'Back to previous …"
      ]
     },
     "metadata": {},
     "output_type": "display_data"
    }
   ],
   "source": [
    "Ne = 10000\n",
    "N = Ne\n",
    "max_s = 0.0005\n",
    "\n",
    "s_arr = np.linspace(-max_s, max_s, num=nr_points)\n",
    "Ne_arr = np.full(nr_points, Ne)\n",
    "N_arr = np.full(nr_points, N)\n",
    "\n",
    "fig, (ax1, ax2) = plt.subplots(1, 2, figsize=(10, 4))\n",
    "\n",
    "ax1.plot(s_arr, prob_fixation(s_arr, Ne_arr, N_arr))\n",
    "ax1.plot(s_arr, simple_prob_fixation(s_arr, Ne_arr), color='black', linestyle='dotted')\n",
    "ax1.set_xlabel('s')\n",
    "ax1.set_ylabel('Fixation probability')\n",
    "ax1.set_title('$N = N_e$')\n",
    "\n",
    "ax2.plot(s_arr, prob_fixation(s_arr, Ne_arr, N_arr*2))\n",
    "ax2.plot(s_arr, simple_prob_fixation(s_arr, Ne_arr), color='black', linestyle='dotted')\n",
    "ax2.set_xlabel('s')\n",
    "ax2.set_ylabel('Fixation probability')\n",
    "ax2.set_title('$N = 2 * N_e$')\n",
    "\n",
    "ax1.plot(np.linspace(0, max_s, 2), np.linspace(0, max_s, 2)*2, linestyle='dashed', color='orange')\n",
    "ax2.plot(np.linspace(0, max_s, 2), np.linspace(0, max_s, 2)*2/2, linestyle='dashed', color='orange')\n",
    "\n",
    "tight(fig)"
   ]
  },
  {
   "cell_type": "code",
   "execution_count": 59,
   "metadata": {
    "jupyter": {
     "outputs_hidden": false
    }
   },
   "outputs": [
    {
     "data": {
      "application/vnd.jupyter.widget-view+json": {
       "model_id": "7b08c8d731e34d379ff078e3f750aa9b",
       "version_major": 2,
       "version_minor": 0
      },
      "text/plain": [
       "Canvas(toolbar=Toolbar(toolitems=[('Home', 'Reset original view', 'home', 'home'), ('Back', 'Back to previous …"
      ]
     },
     "metadata": {},
     "output_type": "display_data"
    }
   ],
   "source": [
    "Ne = 10000\n",
    "N = Ne\n",
    "max_s = 0.0005\n",
    "\n",
    "s_arr = np.linspace(-max_s, max_s, num=nr_points)\n",
    "Ne_arr = np.full(nr_points, Ne)\n",
    "N_arr = np.full(nr_points, N)\n",
    "\n",
    "_s = np.repeat(s_arr, nr_points).reshape((nr_points, nr_points)).transpose()\n",
    "_N = np.repeat(np.linspace(10000, 20000, num=nr_points), nr_points).reshape((nr_points, nr_points))\n",
    "_Ne = np.repeat(Ne_arr, nr_points).reshape((nr_points, nr_points))\n",
    "_f = prob_fixation(_s, _Ne, _N)\n",
    "\n",
    "fig = plt.figure(figsize=(10, 6))\n",
    "ax = fig.add_subplot(111, projection='3d')\n",
    "ax.plot_wireframe(_s, _N, _f, alpha=0.5, color='grey')\n",
    "#ax.plot_surface(_s, _N, _f, alpha=0.5, color='black')\n",
    "ax.contour(_s, _N, _f, zdir='z', offset=0, cmap=cm.coolwarm)\n",
    "ax.set_xlabel('s')\n",
    "ax.set_ylabel('N')\n",
    "ax.set_zlabel('fixation prob')\n",
    "\n",
    "tight(fig)"
   ]
  },
  {
   "cell_type": "code",
   "execution_count": 60,
   "metadata": {},
   "outputs": [
    {
     "data": {
      "application/vnd.jupyter.widget-view+json": {
       "model_id": "0595a358f84a475799c90e8bdad2ad10",
       "version_major": 2,
       "version_minor": 0
      },
      "text/plain": [
       "Canvas(toolbar=Toolbar(toolitems=[('Home', 'Reset original view', 'home', 'home'), ('Back', 'Back to previous …"
      ]
     },
     "metadata": {},
     "output_type": "display_data"
    }
   ],
   "source": [
    "\n",
    "_s = np.repeat(s_arr, nr_points).reshape((nr_points, nr_points)).transpose()\n",
    "_N = np.repeat(N_arr, nr_points).reshape((nr_points, nr_points))\n",
    "_Ne = np.repeat(np.linspace(1000, 10000, num=nr_points), nr_points).reshape((nr_points, nr_points))\n",
    "_f = prob_fixation(_s, _Ne, _N)\n",
    "\n",
    "fig = plt.figure(figsize=(10, 6))\n",
    "ax = fig.add_subplot(111, projection='3d')\n",
    "ax.plot_wireframe(_s, _Ne, _f, alpha=0.5, color='grey')\n",
    "#ax.plot_surface(_s, _Ne, _f, alpha=0.2, color='grey')\n",
    "ax.contour(_s, _Ne, _f, zdir='z', offset=0, cmap=cm.coolwarm)\n",
    "ax.set_xlabel('s')\n",
    "ax.set_ylabel('Ne')\n",
    "ax.set_zlabel('fixation prob')\n",
    "\n",
    "tight(fig)"
   ]
  },
  {
   "cell_type": "markdown",
   "metadata": {},
   "source": [
    "Compare to the figures above where we plotted just the fixation probability for a single $N_e$."
   ]
  },
  {
   "cell_type": "code",
   "execution_count": null,
   "metadata": {},
   "outputs": [],
   "source": []
  },
  {
   "cell_type": "code",
   "execution_count": null,
   "metadata": {},
   "outputs": [],
   "source": []
  }
 ],
 "metadata": {
  "anaconda-cloud": {},
  "kernelspec": {
   "display_name": "Python 3",
   "language": "python",
   "name": "python3"
  },
  "language_info": {
   "codemirror_mode": {
    "name": "ipython",
    "version": 3
   },
   "file_extension": ".py",
   "mimetype": "text/x-python",
   "name": "python",
   "nbconvert_exporter": "python",
   "pygments_lexer": "ipython3",
   "version": "3.8.5"
  }
 },
 "nbformat": 4,
 "nbformat_minor": 4
}
