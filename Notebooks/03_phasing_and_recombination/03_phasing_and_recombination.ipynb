{
 "cells": [
  {
   "cell_type": "markdown",
   "id": "7e030bba-afe9-4f1d-aaad-5c6803fa952a",
   "metadata": {
    "execution": {
     "iopub.execute_input": "2022-10-19T09:05:47.342011Z",
     "iopub.status.busy": "2022-10-19T09:05:47.341266Z",
     "iopub.status.idle": "2022-10-19T09:05:47.358932Z",
     "shell.execute_reply": "2022-10-19T09:05:47.357514Z",
     "shell.execute_reply.started": "2022-10-19T09:05:47.341953Z"
    }
   },
   "source": [
    "# Phasing and recombination tutorial\n",
    "\n",
    "In this tutorial you will extract information about the genotype phases and the recombination rate starting from VCF files.\n",
    "\n",
    "## How to make this notebook work\n",
    "\n",
    "* In this notebook we will use both the `command line bash` commands and `R` to setup the file folders.\n",
    "* Having to shift between two languages, you need to choose a kernel every time we shift from one language to another. A kernel contains a programming language and the necessary packages to run the course material. To choose a kernel, go on the menu on the top of the page and select `Kernel --> Change Kernel`, and then select the preferred one. We will shift between two kernels, and along the code in this notebook you will see a picture telling you to change kernel. The two pictures are below:\n",
    "\n",
    "<img src=\"img/bash.png\" alt=\"Bash\" width=\"80\"> Shift to the `Bash` kernel\n",
    "\n",
    "<img src=\"img/R.png\" alt=\"R\" width=\"80\"> Shift to the `popgen course` kernel\n",
    "* You can run the code in each cell by clicking on the run cell sign in the toolbar, or simply by pressing <kbd>Shift</kbd>+<kbd>Enter</kbd>. When the code is done running, a small green check sign will appear on the left side.\n",
    "* You need to run the cells in sequential order to execute the analysis. Please do not run a cell until the one above is done running, and do not skip any cells\n",
    "* The code goes along with textual descriptions to help you understand what happens. Please try not to focus on understanding the code itself in too much detail - but rather try to focus on the explanations and on the output of the commands \n",
    "*   You can create new code cells by pressing `+` in the Menu bar above or by pressing <kbd>B</kbd> after you select a cell. \n",
    "\n",
    "\n",
    "## Learning outcomes\n",
    "\n",
    "At the end of this tutorial you will be able to\n",
    "\n",
    "- **Create** phased data and **discuss** the results through the genome viewer\n",
    "- **Estimate and analyze** recombination maps\n",
    "- **Plot** recombination maps in `R` and **compare** different populations\n",
    "\n",
    "## Setting up folders\n",
    "\n",
    "Here we setup a link to the `Data` folder and create the `Results` folder\n",
    "\n",
    "<img src=\"img/bash.png\" alt=\"Bash\" width=\"80\"> Choose the `Bash` kernel"
   ]
  },
  {
   "cell_type": "code",
   "execution_count": null,
   "id": "d984619b-309b-4919-8fd6-da62eeab700a",
   "metadata": {
    "tags": [],
    "vscode": {
     "languageId": "r"
    }
   },
   "outputs": [],
   "source": [
    "ln -s ../../Data\n",
    "mkdir -p Results"
   ]
  },
  {
   "cell_type": "markdown",
   "id": "ed2a71ae-b8bb-4881-b65d-37e097beba02",
   "metadata": {},
   "source": [
    "# Inferring the genotype phase (AKA Phasing)\n",
    "\n",
    "During base calling, we identified the two bases at each position in each diploid individual. However, we do not know which base goes on which of the two chromosomes. That means that we do not know if the two haploid chromosomes look like the left or right example below:\n",
    "\n",
    "    -----A-----C------         -----T-----C------ \n",
    "    -----T-----G------    or   -----A-----G------\n",
    "\n",
    "\n",
    "To do that we use the program [Beagle](http://faculty.washington.edu/browning/beagle/beagle.html), which applies a clustering algorithm to call the genotype phase.\n",
    "\n",
    "We put the jointly called bases for Africans, West Eurasians, and East Asians in these three files:\n",
    "\n",
    "- Africa (9 individuals): `Data/vcf/Allvariants_africa.vcf`\n",
    "- West Eurasia (10 individuals): `Data/vcf/Allvariants_westeurasia.vcf`\n",
    "- Eash Asia (8 individuals): `Data/vcf/Allvariants_eastasia.vcf`\n",
    "\n",
    "In this exercise we will just use the Africans and the West Eurasians."
   ]
  },
  {
   "cell_type": "markdown",
   "id": "442bf3cc-422e-4a12-9537-092d74851b5b",
   "metadata": {},
   "source": [
    "## Running Beagle\n",
    "\n",
    "For additional information see the [Beagle 4.1 manual](https://faculty.washington.edu/browning/beagle/beagle_4.1_03Oct15.pdf)\n",
    "\n",
    "To obtain phased data, Beagle needs a [genetic map](https://www.genome.gov/genetics-glossary/Genetic-Map). Genetic maps for widely used organisms (humans, mice, yeast, ...) are already available online. You can find the genetic map for chr2 (hg19 assembly) here: `Data/genetic_map/plink.chr2.GRCh37.map`.\n",
    "\n",
    "We run `Beagle` on the african vcf file. `Beagle` is written in `java` language in a file with extension `.jar`, so we call it using `java -jar`."
   ]
  },
  {
   "cell_type": "code",
   "execution_count": null,
   "id": "ebcfa071-e4e6-44b1-88f5-a46ce00916a1",
   "metadata": {
    "tags": [],
    "vscode": {
     "languageId": "r"
    }
   },
   "outputs": [],
   "source": [
    "java -jar Data/software/beagle.08Jun17.d8b.jar \\\n",
    "        gt=Data/vcf/Allvariants_africa.vcf \\\n",
    "        map=Data/genetic_map/plink.chr2.GRCh37.map \\\n",
    "        out=Results/Allvariants_africa_phased"
   ]
  },
  {
   "cell_type": "markdown",
   "id": "91e369ea-ae8d-43ae-9b66-10b991b1ea75",
   "metadata": {},
   "source": [
    "We run the same command for the west eurasian vsc file:"
   ]
  },
  {
   "cell_type": "code",
   "execution_count": null,
   "id": "57e86724-bc03-4675-9e3f-15a445a5f555",
   "metadata": {
    "tags": [],
    "vscode": {
     "languageId": "r"
    }
   },
   "outputs": [],
   "source": [
    "java -jar Data/software/beagle.08Jun17.d8b.jar \\\n",
    "        gt=Data/vcf/Allvariants_westeurasia.vcf \\\n",
    "        map=Data/genetic_map/plink.chr2.GRCh37.map \\\n",
    "        out=Results/Allvariants_westeurasia_phased"
   ]
  },
  {
   "cell_type": "markdown",
   "id": "7f5f4962-689e-4a16-8660-c7b6a50a069f",
   "metadata": {},
   "source": [
    "Vcf files can both be compressed (gz) or uncompressed. IGV needs it in an uncompressed format, so decompress using"
   ]
  },
  {
   "cell_type": "code",
   "execution_count": null,
   "id": "1e011af8-992a-4a67-993b-4d03e2897a02",
   "metadata": {
    "tags": [],
    "vscode": {
     "languageId": "r"
    }
   },
   "outputs": [],
   "source": [
    "gunzip -c Results/Allvariants_africa_phased.vcf.gz > Results/Allvariants_africa_phased_t.vcf"
   ]
  },
  {
   "cell_type": "code",
   "execution_count": null,
   "id": "066432b0-f715-4939-a705-0a00f7775d22",
   "metadata": {
    "tags": [],
    "vscode": {
     "languageId": "r"
    }
   },
   "outputs": [],
   "source": [
    "gunzip -c Results/Allvariants_westeurasia_phased.vcf.gz > Results/Allvariants_westeurasia_phased_t.vcf"
   ]
  },
  {
   "cell_type": "markdown",
   "id": "3b852f25-d069-41f0-bcf9-e624375aa076",
   "metadata": {},
   "source": [
    "This command outputs the decompressed to stdout, which then is written into your file name of choice using `>`."
   ]
  },
  {
   "cell_type": "markdown",
   "id": "659e716f-f6cf-4083-a0b8-bafe2ea4bd6d",
   "metadata": {},
   "source": [
    "## Browsing the phased results\n",
    "\n",
    "Download the phased VCF files to your computer and open them in IGV (integrative genomics viewer): \n",
    "    \n",
    "1. Choose Human hg19 as the reference genome.\n",
    "2. Click `File > Load from File...` and select you phased VCF file.\n",
    "\n",
    "Explore phases of haplotypes at two positions in the alignment:\n",
    "\n",
    "Select chr2, zoom all the way in and select find the base at position 136608646. First, take a look at the WestEurasian samples. Consider these questions while zooming further out:\n",
    "\n",
    "1. What does the haplotypes look like?\n",
    "2. Do you see any long streches of homozygosity?\n",
    "3. Which haplotypes agree?\n",
    "4. How wide is the region where they agree?\n",
    "\n",
    "To help derive your answers, make use of the metadata file: `Data/metadata/Sample_meta_subset.tsv`\n",
    "\n",
    "Now, compare it with the African samples.\n",
    "\n",
    "Try to search the position chr2:136608646 in the [UCSC genome browser](https://genome-euro.ucsc.edu/cgi-bin/hgGateway?redirect=manual&source=genome.ucsc.edu). Remember we are using the Hg19 assembly version of the reference human genome. Can you find anything that explains your observations? (HINT: https://omim.org/entry/601806#0004)\n",
    "\n",
    "# Estimating a recombination map\n",
    "\n",
    "We use `LDhat`, a package for the analysis of recombination rates from population genetic data, to estimate a recombination map from the vcf files. The proportion of crossovers occurring between two genes can be used to indicate the distance between them, and thus enable the construction of a genetic map that illustrates how all genes in the genome are related in space.\n",
    "\n",
    "## Format input data for LDhat\n",
    "\n",
    "LDhat needs its input data in a particular format ([LDhat  manual](https://github.com/auton1/LDhat/blob/master/manual.pdf)). We will use `vcftools` to produce these input files from the phased VCF file.\n",
    "\n",
    "For Africa:"
   ]
  },
  {
   "cell_type": "code",
   "execution_count": null,
   "id": "afb1cbc0-a601-449d-8afa-456d8b55ac40",
   "metadata": {
    "tags": [],
    "vscode": {
     "languageId": "r"
    }
   },
   "outputs": [],
   "source": [
    "vcftools --gzvcf Results/Allvariants_africa_phased.vcf.gz --chr 2 --ldhat --out Results/recmap_data_africa"
   ]
  },
  {
   "cell_type": "markdown",
   "id": "ede9511d-71c5-4235-846e-91899aa257e5",
   "metadata": {},
   "source": [
    "West Eurasia"
   ]
  },
  {
   "cell_type": "code",
   "execution_count": null,
   "id": "25a07503-99b2-4429-a479-99fb28aba9af",
   "metadata": {
    "tags": [],
    "vscode": {
     "languageId": "r"
    }
   },
   "outputs": [],
   "source": [
    "vcftools --gzvcf Results/Allvariants_westeurasia_phased.vcf.gz --chr 2 --ldhat --out Results/recmap_data_westeurasia"
   ]
  },
  {
   "cell_type": "markdown",
   "id": "c1ba88f2-beb8-49f3-8b1b-bd5d64bef267",
   "metadata": {},
   "source": [
    "Have a look at the two files produced"
   ]
  },
  {
   "cell_type": "code",
   "execution_count": null,
   "id": "d6371a95-8308-4440-b9a9-7472668ee5c4",
   "metadata": {
    "tags": [],
    "vscode": {
     "languageId": "r"
    }
   },
   "outputs": [],
   "source": [
    "head Results/recmap_data_westeurasia.ldhat.locs"
   ]
  },
  {
   "cell_type": "code",
   "execution_count": null,
   "id": "ce470510-9279-4100-9c63-8ec042b0b016",
   "metadata": {
    "collapsed": true,
    "jupyter": {
     "outputs_hidden": true
    },
    "tags": [],
    "vscode": {
     "languageId": "r"
    }
   },
   "outputs": [],
   "source": [
    "head Results/recmap_data_westeurasia.ldhat.sites"
   ]
  },
  {
   "cell_type": "markdown",
   "id": "eaf37bba-b5ce-449f-a478-fa30e6caa923",
   "metadata": {},
   "source": [
    "How do you think the information is encoded in these files?"
   ]
  },
  {
   "cell_type": "markdown",
   "id": "f4a16f9f-bf8b-4340-aa1b-b3972d4d6e16",
   "metadata": {},
   "source": [
    "## Running LDhat\n",
    "\n",
    "To speed up computations you can make a lookup table first. That takes a while, so we did if for you. But it is done using the `complete` program that comes with LDhat as below (command is ineffective because commented with the `#` symbol). The parameters are\n",
    "- `-n 20`:the number of haplotypes (2 * 10).\n",
    "- `-rhomax 100`: maximum rho ($4N_e r$) alowed: 100 (recommended).\n",
    "- `-n_pts 101`: number of points in grid: 101 (recommended).\n",
    "- `-theta 0.0001`: human theta ($4N_e \\mu$)."
   ]
  },
  {
   "cell_type": "code",
   "execution_count": null,
   "id": "6b15362e-f34a-457c-860b-f011fefc5799",
   "metadata": {
    "tags": [],
    "vscode": {
     "languageId": "r"
    }
   },
   "outputs": [],
   "source": [
    "#Data/software/builds/LDhat/complete -n 20 -rhomax 100 -n_pts 101 -theta 0.0001"
   ]
  },
  {
   "cell_type": "markdown",
   "id": "16b5709a-5d48-47a9-86e9-1f0a726a2d4d",
   "metadata": {},
   "source": [
    "The output is a file that will serve as a look up table for the algorithm. It includes coalescent likelihoods for each pairs of SNPs using a grid of recombination rates. You can find it in `Data/ldhat/new_lk.txt`."
   ]
  },
  {
   "cell_type": "markdown",
   "id": "d350e108-f0d7-4972-bb60-3c701ae9a7c4",
   "metadata": {},
   "source": [
    "The next step is to calculate the recombination map. This command will take some time to run (~ 6 min). The options we are using are \n",
    "- `-lk`: likelihood lookup table.\n",
    "- `-its`: number of iterations of the MCMC.\n",
    "- `-samp`: number of iterations between sampling events, i.e how often to sample from the MCMC.\n",
    "- `-burn`: how many of the initial iterations to discard. Here we set it to zero to leave keep all samples. Then we look later how much burnin to discard.\n",
    "\n",
    "Africa:"
   ]
  },
  {
   "cell_type": "code",
   "execution_count": null,
   "id": "8e70e323-fb59-4a2d-a5fe-b588b3286cd8",
   "metadata": {
    "collapsed": true,
    "jupyter": {
     "outputs_hidden": true
    },
    "tags": [],
    "vscode": {
     "languageId": "r"
    }
   },
   "outputs": [],
   "source": [
    "Data/software/builds/LDhat/rhomap -seq Results/recmap_data_africa.ldhat.sites \\\n",
    "                                        -loc Results/recmap_data_africa.ldhat.locs \\\n",
    "                                        -prefix Results/recmap_data_africa. \\\n",
    "                                        -lk Data/ldhat/new_lk.txt -its 100000 -samp 500 -burn 0"
   ]
  },
  {
   "cell_type": "markdown",
   "id": "d303bf38-14d8-459b-92d8-37f69ddaf758",
   "metadata": {},
   "source": [
    "West Eurasia:"
   ]
  },
  {
   "cell_type": "code",
   "execution_count": null,
   "id": "4631adc6-d72b-4bcb-9cb0-b514720140e2",
   "metadata": {
    "collapsed": true,
    "jupyter": {
     "outputs_hidden": true
    },
    "tags": [],
    "vscode": {
     "languageId": "r"
    }
   },
   "outputs": [],
   "source": [
    "Data/software/builds/LDhat/rhomap -seq Results/recmap_data_westeurasia.ldhat.sites \\\n",
    "                                        -loc Results/recmap_data_westeurasia.ldhat.locs \\\n",
    "                                        -prefix Results/recmap_data_westeurasia. \\\n",
    "                                        -lk Data/ldhat/new_lk.txt -its 100000 -samp 500 -burn 0"
   ]
  },
  {
   "cell_type": "markdown",
   "id": "5f40ae91-56fa-442a-b759-86b227556ce5",
   "metadata": {},
   "source": [
    "When `rhomap` completes, it writes three files:\n",
    "\n",
    "- `acceptance_rates.txt`: acceptance rates of the MCMC. If they are lower than 1%. The program should be run with more iterations.\n",
    "- `summary.txt`: (quoting the manual) for each SNP interval, the estimated genetic map position, the estimated recombination rate, and the hotspot density (the number of hotspots per kb per iteration).\n",
    "- `rates.txt`: (quoting the manual) is the output from each sample detailing the recombination rate (expressed in $4N_e r$ per kb) between each SNP. "
   ]
  },
  {
   "cell_type": "markdown",
   "id": "ba9eab02-4d45-4de8-850d-266317605600",
   "metadata": {},
   "source": [
    "## Analyze results in R\n",
    "\n",
    "<img src=\"img/R.png\" alt=\"R\" width=\"80\"> Shift to the `popgen course` kernel\n",
    "\n",
    "We now import the resulting files from `LDhat` in `R` using a function create by the author of `LDhat`. The resulting summary file from this function will be useful to perform some analysis later on."
   ]
  },
  {
   "cell_type": "code",
   "execution_count": null,
   "id": "411cbb95-2814-4eb9-8316-d4411319cb4a",
   "metadata": {
    "tags": [],
    "vscode": {
     "languageId": "r"
    }
   },
   "outputs": [],
   "source": [
    "source(\"Data/software/ldhat.r\")"
   ]
  },
  {
   "cell_type": "markdown",
   "id": "c288e14a-91fd-43b0-beb5-5999c394f1f8",
   "metadata": {},
   "source": [
    "One of the loaded functions is `summarise.rhomap`, which produces two plots:\n",
    "- A graph of the recombination rate across on each polymorphic loci, along with confidence intervals.\n",
    "- A plot showing how estimation of recombination rate has progressed with each MCMC sample. Notice that the initial run of MCMC samples are atypical. This is the \"burn-in\" of the MCMC. We want to remove that, so take notice of how many samples it corresponds to. We can produce a new set of estimates that excludes this burn-in using the `stat` program that comes with LDhat:"
   ]
  },
  {
   "cell_type": "code",
   "execution_count": null,
   "id": "1a1b348a-3b78-4e41-bed0-c29e615e7e5f",
   "metadata": {
    "collapsed": true,
    "jupyter": {
     "outputs_hidden": true
    },
    "tags": [],
    "vscode": {
     "languageId": "r"
    }
   },
   "outputs": [],
   "source": [
    "summarise.rhomap(rates.file = \"Results/recmap_data_africa.rates.txt\", \n",
    "                 locs.file=\"Results/recmap_data_africa.ldhat.locs\")"
   ]
  },
  {
   "cell_type": "code",
   "execution_count": null,
   "id": "863c7268-d834-43fa-b65a-71e5e5c65224",
   "metadata": {
    "collapsed": true,
    "jupyter": {
     "outputs_hidden": true
    },
    "tags": [],
    "vscode": {
     "languageId": "r"
    }
   },
   "outputs": [],
   "source": [
    "summarise.rhomap(rates.file = \"Results/recmap_data_westeurasia.rates.txt\", \n",
    "                 locs.file=\"Results/recmap_data_westeurasia.ldhat.locs\")"
   ]
  },
  {
   "cell_type": "markdown",
   "id": "266c0f34-630b-443f-8346-aa23adfc3b20",
   "metadata": {},
   "source": [
    "<img src=\"img/bash.png\" alt=\"Bash\" width=\"80\"> Shift to the `Bash` kernel"
   ]
  },
  {
   "cell_type": "markdown",
   "id": "ff647b4c-22f2-4495-a528-b224e7f7c54f",
   "metadata": {},
   "source": [
    "We run `LDhat stat`. This produces a file called `res.txt` that describes the confidence in the estimated recombination rate along the sequence."
   ]
  },
  {
   "cell_type": "code",
   "execution_count": null,
   "id": "22c2b439-0482-43ff-8a21-0a2ca28591c0",
   "metadata": {
    "collapsed": true,
    "jupyter": {
     "outputs_hidden": true
    },
    "tags": [],
    "vscode": {
     "languageId": "r"
    }
   },
   "outputs": [],
   "source": [
    "Data/software/builds/LDhat/stat -input Results/recmap_data_africa.rates.txt \\\n",
    "                                -loc Results/recmap_data_africa.ldhat.locs \\\n",
    "                                -burn 60\n",
    "mv res.txt Results/recmap_data_africa.res.txt"
   ]
  },
  {
   "cell_type": "code",
   "execution_count": null,
   "id": "7be1d28a-7690-48a8-9cb7-1e23eb87b91e",
   "metadata": {
    "collapsed": true,
    "jupyter": {
     "outputs_hidden": true
    },
    "tags": [],
    "vscode": {
     "languageId": "r"
    }
   },
   "outputs": [],
   "source": [
    "Data/software/builds/LDhat/stat -input Results/recmap_data_westeurasia.rates.txt \\\n",
    "                                -loc Results/recmap_data_westeurasia.ldhat.locs \\\n",
    "                                -burn 60\n",
    "mv res.txt Results/recmap_data_westeurasia.res.txt"
   ]
  },
  {
   "cell_type": "markdown",
   "id": "8a9bc7ed-818d-4fe1-9280-c2ab3e5409a2",
   "metadata": {},
   "source": [
    "<img src=\"img/R.png\" alt=\"R\" width=\"80\"> Shift to the `popgen course` kernel\n",
    "\n",
    "Now we to plot the final results. To have the positions of the loci for which we have estimated mean recombination rates, we will merge the new dataset created with the summary files generated by LDhat:"
   ]
  },
  {
   "cell_type": "code",
   "execution_count": null,
   "id": "d5f232ab-b03c-48f5-ad77-c1b915c0dd2e",
   "metadata": {
    "tags": [],
    "vscode": {
     "languageId": "r"
    }
   },
   "outputs": [],
   "source": [
    "library(ggplot2)\n",
    "library(dplyr)\n",
    "library(tidyr)\n",
    "library(magrittr)"
   ]
  },
  {
   "cell_type": "markdown",
   "id": "3987d8e8-e989-4464-ab3f-a59561113f48",
   "metadata": {},
   "source": [
    "We plot the mean of the recombination rate along genome positions. In blue we visualize the average rec. rate, and in gray the 95% confidence interval"
   ]
  },
  {
   "cell_type": "code",
   "execution_count": null,
   "id": "f54903a8-9b0e-492e-8345-31dc086808d6",
   "metadata": {
    "tags": [],
    "vscode": {
     "languageId": "r"
    }
   },
   "outputs": [],
   "source": [
    "summary <- read.table('Results/recmap_data_africa.summary.txt', header = T)\n",
    "rates <- read.table(\"Results/recmap_data_africa.res.txt\", header=T)\n",
    "rates %>%\n",
    "  filter(Loci > 0) %>%\n",
    "  mutate(pos=summary$Position.kb.*1000) %>%\n",
    "  ggplot(aes(x=pos, y=Mean_rho, ymin=L95, ymax=U95)) +  \n",
    "  geom_line(color='blue') +\n",
    "  geom_ribbon(alpha=0.1) +\n",
    "  theme_bw()"
   ]
  },
  {
   "cell_type": "code",
   "execution_count": null,
   "id": "e1e53237-24af-42dd-85cd-a7ea50d6cd48",
   "metadata": {
    "tags": [],
    "vscode": {
     "languageId": "r"
    }
   },
   "outputs": [],
   "source": [
    "summary <- read.table('Results/recmap_data_westeurasia.summary.txt', header = T)\n",
    "rates <- read.table(\"Results/recmap_data_westeurasia.res.txt\", header=T)\n",
    "rates %>%\n",
    "  filter(Loci > 0) %>%\n",
    "  mutate(pos=summary$Position.kb.*1000) %>%\n",
    "  ggplot(aes(x=pos, y=Mean_rho, ymin=L95, ymax=U95)) +  \n",
    "  geom_line(color='blue') +\n",
    "  geom_ribbon(alpha=0.1) +\n",
    "  theme_bw()"
   ]
  },
  {
   "cell_type": "markdown",
   "id": "defe3f0a-32da-48f0-8b2a-98b4ec61c324",
   "metadata": {},
   "source": [
    "Look at the plots and ponder the following questions:\n",
    "\n",
    "- Are there any recombination hotspots?\n",
    "- Are there any regions where the estimated recombination rate is really low? \n",
    "- Can you see any hotspots in Africans that are not found in West Eurasians - other the othe way around?\n",
    "- What does the recombination rate look like around the lactase gene?"
   ]
  }
 ],
 "metadata": {
  "kernelspec": {
   "display_name": "popgen course",
   "language": "R",
   "name": "popgen_course"
  },
  "language_info": {
   "codemirror_mode": "r",
   "file_extension": ".r",
   "mimetype": "text/x-r-source",
   "name": "R",
   "pygments_lexer": "r",
   "version": "4.1.2"
  }
 },
 "nbformat": 4,
 "nbformat_minor": 5
}
