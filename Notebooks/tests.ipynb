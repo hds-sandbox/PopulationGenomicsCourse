{
 "cells": [
  {
   "cell_type": "code",
   "execution_count": null,
   "id": "rational-seeker",
   "metadata": {},
   "outputs": [],
   "source": [
    "library(ggplot2)\n",
    "library(dplyr)\n",
    "library(magrittr)"
   ]
  },
  {
   "cell_type": "code",
   "execution_count": 6,
   "id": "coral-douglas",
   "metadata": {},
   "outputs": [],
   "source": [
    "source(\"http://ldhat.sourceforge.net/R/coalescent.r\")"
   ]
  },
  {
   "cell_type": "code",
   "execution_count": 10,
   "id": "immune-sarah",
   "metadata": {},
   "outputs": [
    {
     "name": "stderr",
     "output_type": "stream",
     "text": [
      "also installing the dependency ‘rehh.data’\n",
      "\n",
      "\n",
      "Updating HTML index of packages in '.Library'\n",
      "\n",
      "Making 'packages.html' ...\n",
      " done\n",
      "\n"
     ]
    }
   ],
   "source": [
    "install.packages(\"rehh\")"
   ]
  },
  {
   "cell_type": "code",
   "execution_count": 11,
   "id": "professional-newcastle",
   "metadata": {},
   "outputs": [],
   "source": [
    "library(rehh)\n"
   ]
  },
  {
   "cell_type": "code",
   "execution_count": 3,
   "id": "atomic-orange",
   "metadata": {},
   "outputs": [
    {
     "ename": "ERROR",
     "evalue": "Error in eval(expr, envir, enclos): objekt 'movies' blev ikke fundet\n",
     "output_type": "error",
     "traceback": [
      "Error in eval(expr, envir, enclos): objekt 'movies' blev ikke fundet\nTraceback:\n"
     ]
    }
   ],
   "source": [
    "# Load ggplot (install it first if you need to)\n",
    "library(ggplot2)\n",
    "\n",
    "# Load built-in data\n",
    "mtcars <- mtcars\n",
    "movies <- movies\n",
    "# Select 1000 of the movies\n",
    "movies <- movies[sample(nrow(movies), 1000), ]\n",
    "\n",
    "# If you want to use data from Stata, do the following:\n",
    "# library(foreign)  # Lets you load data from other programs\n",
    "# read.dta(file.choose())  # read.dta() opens a .dta file. file.choose() opens a file dialog so you can navigate to your dta file. \n",
    "\n",
    "# Alternatively you can put the actual path to the file, like so:\n",
    "# read.dta(\"data.dta\")\n",
    "# Also, if your data is a csv or something, you don't need to use the foreign library and you can just do this:\n",
    "# read.csv(file.choose())\n",
    "\n",
    "\n",
    "# Univariate stuff\n",
    "# Continuous data\n",
    "# Histograms\n",
    "p <- ggplot(data=movies, aes(x=rating))\n",
    "p + geom_histogram()  # default bins"
   ]
  },
  {
   "cell_type": "code",
   "execution_count": 7,
   "id": "processed-raising",
   "metadata": {},
   "outputs": [],
   "source": [
    "Sys.setenv(https_proxy = \"http://in:3128\", http_proxy = \"http://in:3128\")"
   ]
  },
  {
   "cell_type": "code",
   "execution_count": 5,
   "id": "commercial-uniform",
   "metadata": {},
   "outputs": [
    {
     "name": "stderr",
     "output_type": "stream",
     "text": [
      "Bioconductor version 3.12 (BiocManager 1.30.10), R 4.0.3 (2020-10-10)\n",
      "\n",
      "Installing package(s) 'BiocVersion', 'SNPRelate'\n",
      "\n",
      "also installing the dependency ‘gdsfmt’\n",
      "\n",
      "\n",
      "Updating HTML index of packages in '.Library'\n",
      "\n",
      "Making 'packages.html' ...\n",
      " done\n",
      "\n"
     ]
    }
   ],
   "source": [
    "BiocManager::install(c(\"SNPRelate\"))\n"
   ]
  },
  {
   "cell_type": "code",
   "execution_count": 6,
   "id": "statistical-peripheral",
   "metadata": {},
   "outputs": [
    {
     "name": "stderr",
     "output_type": "stream",
     "text": [
      "Loading required package: gdsfmt\n",
      "\n",
      "SNPRelate -- supported by Streaming SIMD Extensions 2 (SSE2)\n",
      "\n"
     ]
    }
   ],
   "source": [
    "library(SNPRelate)"
   ]
  },
  {
   "cell_type": "code",
   "execution_count": 2,
   "id": "endangered-sister",
   "metadata": {},
   "outputs": [
    {
     "ename": "ERROR",
     "evalue": "Error: With R version 3.5 or greater, install Bioconductor packages using BiocManager; see https://bioconductor.org/install\n",
     "output_type": "error",
     "traceback": [
      "Error: With R version 3.5 or greater, install Bioconductor packages using BiocManager; see https://bioconductor.org/install\nTraceback:\n",
      "1. source(\"http://bioconductor.org/biocLite.R\")",
      "2. withVisible(eval(ei, envir))",
      "3. eval(ei, envir)",
      "4. eval(ei, envir)",
      "5. local({\n .     vers <- getRversion()\n .     if (vers >= \"3.6\") {\n .         stop(\"With R version 3.5 or greater, install Bioconductor \", \n .             \"packages using BiocManager; see https://bioconductor.org/install\", \n .             call. = FALSE)\n .     }\n .     biocVers <- tryCatch({\n .         BiocInstaller::biocVersion()\n .     }, error = function(...) {\n .         BioC_version_associated_with_R_version <- get(\".BioC_version_associated_with_R_version\", \n .             envir = asNamespace(\"tools\"), inherits = FALSE)\n .         if (is.function(BioC_version_associated_with_R_version)) \n .             BioC_version_associated_with_R_version()\n .         else BioC_version_associated_with_R_version\n .     })\n .     if (vers < \"3.0\") {\n .         txt <- strwrap(\"A new version of Bioconductor is available\\n            after installing the most recent version of R; see\\n            http://bioconductor.org/install\", \n .             exdent = 2)\n .         message(paste(txt, collapse = \"\\n\"))\n .     }\n .     else if (\"package:BiocInstaller\" %in% search()) {\n .         tryCatch(BiocInstaller:::.onAttach(), error = function(...) NULL)\n .     }\n .     if (vers > \"2.13\" && biocVers > \"2.8\") {\n .         if (exists(\"biocLite\", .GlobalEnv, inherits = FALSE)) {\n .             txt <- strwrap(\"There is an outdated biocLite() function in the\\n                global environment; run 'rm(biocLite)' and try again.\")\n .             stop(\"\\n\", paste(txt, collapse = \"\\n\"))\n .         }\n .         if (!suppressWarnings(require(\"BiocInstaller\", quietly = TRUE))) {\n .             a <- NULL\n .             p <- file.path(Sys.getenv(\"HOME\"), \".R\", \"repositories\")\n .             if (file.exists(p)) {\n .                 a <- tools:::.read_repositories(p)\n .                 if (!\"BioCsoft\" %in% rownames(a)) \n .                   a <- NULL\n .             }\n .             if (is.null(a)) {\n .                 p <- file.path(R.home(\"etc\"), \"repositories\")\n .                 a <- tools:::.read_repositories(p)\n .             }\n .             if (!\"package:utils\" %in% search()) {\n .                 path <- \"//bioconductor.org/biocLite.R\"\n .                 txt <- sprintf(\"use 'source(\\\"https:%s\\\")' or\\n                    'source(\\\"http:%s\\\")' to update 'BiocInstaller' after\\n                    library(\\\"utils\\\")\", \n .                   path, path)\n .                 message(paste(strwrap(txt), collapse = \"\\n  \"))\n .             }\n .             else {\n .                 if (vers >= \"3.2.2\" && vers < \"3.3.0\") {\n .                   con <- file(fl <- tempfile(), \"w\")\n .                   sink(con, type = \"message\")\n .                   tryCatch({\n .                     xx <- close(file(\"https://bioconductor.org\"))\n .                   }, error = function(e) {\n .                     message(conditionMessage(e))\n .                   })\n .                   sink(type = \"message\")\n .                   close(con)\n .                   if (!length(readLines(fl))) \n .                     a[\"BioCsoft\", \"URL\"] <- sub(\"^http:\", \"https:\", \n .                       a[\"BioCsoft\", \"URL\"])\n .                 }\n .                 if (vers >= \"3.5.0\") {\n .                   a[\"BioCsoft\", \"URL\"] <- sub(as.character(biocVers), \n .                     \"3.7\", a[\"BioCsoft\", \"URL\"])\n .                 }\n .                 else if (vers >= \"3.4.0\") {\n .                   a[\"BioCsoft\", \"URL\"] <- sub(as.character(biocVers), \n .                     \"3.6\", a[\"BioCsoft\", \"URL\"])\n .                 }\n .                 else if (vers >= \"3.3.0\") {\n .                   a[\"BioCsoft\", \"URL\"] <- sub(as.character(biocVers), \n .                     \"3.4\", a[\"BioCsoft\", \"URL\"])\n .                 }\n .                 else if (vers >= \"3.2\") {\n .                   a[\"BioCsoft\", \"URL\"] <- sub(as.character(biocVers), \n .                     \"3.2\", a[\"BioCsoft\", \"URL\"])\n .                 }\n .                 else if (vers == \"3.1.1\") {\n .                   a[\"BioCsoft\", \"URL\"] <- sub(as.character(biocVers), \n .                     \"3.0\", a[\"BioCsoft\", \"URL\"])\n .                 }\n .                 else if (vers == \"3.1.0\") {\n .                   a[\"BioCsoft\", \"URL\"] <- sub(as.character(biocVers), \n .                     \"2.14\", a[\"BioCsoft\", \"URL\"])\n .                 }\n .                 else if (vers >= \"2.15\" && vers < \"2.16\") {\n .                   a[\"BioCsoft\", \"URL\"] <- sub(as.character(biocVers), \n .                     \"2.11\", a[\"BioCsoft\", \"URL\"])\n .                   biocVers <- numeric_version(\"2.11\")\n .                 }\n .                 install.packages(\"BiocInstaller\", repos = a[\"BioCsoft\", \n .                   \"URL\"])\n .                 if (!suppressWarnings(require(\"BiocInstaller\", \n .                   quietly = TRUE))) {\n .                   path0 <- \"//bioconductor.org/packages\"\n .                   path <- sprintf(\"%s/%s/bioc\", path0, as.character(biocVers))\n .                   txt0 <- \"'biocLite.R' failed to install 'BiocInstaller',\\n                        use 'install.packages(\\\"BiocInstaller\\\",\\n                        repos=\\\"https:%s\\\")' or\\n                        'install.packages(\\\"BiocInstaller\\\", repos=\\\"http:%s\\\")'\"\n .                   txt <- sprintf(txt0, path, path)\n .                   message(paste(strwrap(txt), collapse = \"\\n  \"))\n .                 }\n .             }\n .         }\n .         else {\n .             installerVersion <- utils::packageVersion(\"BiocInstaller\")\n .             test0 <- (vers > \"3.1.2\") && !identical(getOption(\"pkgType\"), \n .                 \"source\") && (installerVersion >= \"1.16.0\") && \n .                 (installerVersion <= \"1.16.4\")\n .             if (test0) {\n .                 if (installerVersion < \"1.16.4\") {\n .                   txt <- \"Update BiocInstaller with\\n                         oldPkgType=options(pkgType=\\\"source\\\");\\n                         biocLite(\\\"BiocInstaller\\\"); options(oldPkgType)\"\n .                   message(paste(strwrap(txt, exdent = 2), collapse = \"\\n\"))\n .                 }\n .                 if (vers >= \"3.2\") {\n .                   path <- \"//bioconductor.org/biocLite.R\"\n .                   txt <- sprintf(\"BiocInstaller version %s is too old for\\n                         R version %s; remove.packages(\\\"BiocInstaller\\\"),\\n                         re-start R, then source(\\\"https:%s\\\") or\\n                         source(\\\"http:%s\\\")\", \n .                     biocVers, vers, path, path)\n .                   warning(paste(strwrap(txt, exdent = 2), collapse = \"\\n\"))\n .                 }\n .             }\n .         }\n .     }\n .     else {\n .         tryCatch({\n .             source(\"https://bioconductor.org/getBioC.R\")\n .         }, error = function(e) {\n .             warning(\"https: failed (\", conditionMessage(e), \"), trying http\", \n .                 immediate. = TRUE)\n .             source(\"http://bioconductor.org/getBioC.R\")\n .         })\n .         biocLite <<- function(pkgs, groupName = \"lite\", ...) {\n .             if (missing(pkgs)) \n .                 biocinstall(groupName = groupName, ...)\n .             else biocinstall(pkgs = pkgs, groupName = groupName, \n .                 ...)\n .         }\n .     }\n . })",
      "6. eval.parent(substitute(eval(quote(expr), envir)))",
      "7. eval(expr, p)",
      "8. eval(expr, p)",
      "9. eval(quote({\n .     vers <- getRversion()\n .     if (vers >= \"3.6\") {\n .         stop(\"With R version 3.5 or greater, install Bioconductor \", \n .             \"packages using BiocManager; see https://bioconductor.org/install\", \n .             call. = FALSE)\n .     }\n .     biocVers <- tryCatch({\n .         BiocInstaller::biocVersion()\n .     }, error = function(...) {\n .         BioC_version_associated_with_R_version <- get(\".BioC_version_associated_with_R_version\", \n .             envir = asNamespace(\"tools\"), inherits = FALSE)\n .         if (is.function(BioC_version_associated_with_R_version)) BioC_version_associated_with_R_version() else BioC_version_associated_with_R_version\n .     })\n .     if (vers < \"3.0\") {\n .         txt <- strwrap(\"A new version of Bioconductor is available\\n            after installing the most recent version of R; see\\n            http://bioconductor.org/install\", \n .             exdent = 2)\n .         message(paste(txt, collapse = \"\\n\"))\n .     } else if (\"package:BiocInstaller\" %in% search()) {\n .         tryCatch(BiocInstaller:::.onAttach(), error = function(...) NULL)\n .     }\n .     if (vers > \"2.13\" && biocVers > \"2.8\") {\n .         if (exists(\"biocLite\", .GlobalEnv, inherits = FALSE)) {\n .             txt <- strwrap(\"There is an outdated biocLite() function in the\\n                global environment; run 'rm(biocLite)' and try again.\")\n .             stop(\"\\n\", paste(txt, collapse = \"\\n\"))\n .         }\n .         if (!suppressWarnings(require(\"BiocInstaller\", quietly = TRUE))) {\n .             a <- NULL\n .             p <- file.path(Sys.getenv(\"HOME\"), \".R\", \"repositories\")\n .             if (file.exists(p)) {\n .                 a <- tools:::.read_repositories(p)\n .                 if (!\"BioCsoft\" %in% rownames(a)) a <- NULL\n .             }\n .             if (is.null(a)) {\n .                 p <- file.path(R.home(\"etc\"), \"repositories\")\n .                 a <- tools:::.read_repositories(p)\n .             }\n .             if (!\"package:utils\" %in% search()) {\n .                 path <- \"//bioconductor.org/biocLite.R\"\n .                 txt <- sprintf(\"use 'source(\\\"https:%s\\\")' or\\n                    'source(\\\"http:%s\\\")' to update 'BiocInstaller' after\\n                    library(\\\"utils\\\")\", \n .                   path, path)\n .                 message(paste(strwrap(txt), collapse = \"\\n  \"))\n .             } else {\n .                 if (vers >= \"3.2.2\" && vers < \"3.3.0\") {\n .                   con <- file(fl <- tempfile(), \"w\")\n .                   sink(con, type = \"message\")\n .                   tryCatch({\n .                     xx <- close(file(\"https://bioconductor.org\"))\n .                   }, error = function(e) {\n .                     message(conditionMessage(e))\n .                   })\n .                   sink(type = \"message\")\n .                   close(con)\n .                   if (!length(readLines(fl))) a[\"BioCsoft\", \"URL\"] <- sub(\"^http:\", \n .                     \"https:\", a[\"BioCsoft\", \"URL\"])\n .                 }\n .                 if (vers >= \"3.5.0\") {\n .                   a[\"BioCsoft\", \"URL\"] <- sub(as.character(biocVers), \n .                     \"3.7\", a[\"BioCsoft\", \"URL\"])\n .                 } else if (vers >= \"3.4.0\") {\n .                   a[\"BioCsoft\", \"URL\"] <- sub(as.character(biocVers), \n .                     \"3.6\", a[\"BioCsoft\", \"URL\"])\n .                 } else if (vers >= \"3.3.0\") {\n .                   a[\"BioCsoft\", \"URL\"] <- sub(as.character(biocVers), \n .                     \"3.4\", a[\"BioCsoft\", \"URL\"])\n .                 } else if (vers >= \"3.2\") {\n .                   a[\"BioCsoft\", \"URL\"] <- sub(as.character(biocVers), \n .                     \"3.2\", a[\"BioCsoft\", \"URL\"])\n .                 } else if (vers == \"3.1.1\") {\n .                   a[\"BioCsoft\", \"URL\"] <- sub(as.character(biocVers), \n .                     \"3.0\", a[\"BioCsoft\", \"URL\"])\n .                 } else if (vers == \"3.1.0\") {\n .                   a[\"BioCsoft\", \"URL\"] <- sub(as.character(biocVers), \n .                     \"2.14\", a[\"BioCsoft\", \"URL\"])\n .                 } else if (vers >= \"2.15\" && vers < \"2.16\") {\n .                   a[\"BioCsoft\", \"URL\"] <- sub(as.character(biocVers), \n .                     \"2.11\", a[\"BioCsoft\", \"URL\"])\n .                   biocVers <- numeric_version(\"2.11\")\n .                 }\n .                 install.packages(\"BiocInstaller\", repos = a[\"BioCsoft\", \n .                   \"URL\"])\n .                 if (!suppressWarnings(require(\"BiocInstaller\", \n .                   quietly = TRUE))) {\n .                   path0 <- \"//bioconductor.org/packages\"\n .                   path <- sprintf(\"%s/%s/bioc\", path0, as.character(biocVers))\n .                   txt0 <- \"'biocLite.R' failed to install 'BiocInstaller',\\n                        use 'install.packages(\\\"BiocInstaller\\\",\\n                        repos=\\\"https:%s\\\")' or\\n                        'install.packages(\\\"BiocInstaller\\\", repos=\\\"http:%s\\\")'\"\n .                   txt <- sprintf(txt0, path, path)\n .                   message(paste(strwrap(txt), collapse = \"\\n  \"))\n .                 }\n .             }\n .         } else {\n .             installerVersion <- utils::packageVersion(\"BiocInstaller\")\n .             test0 <- (vers > \"3.1.2\") && !identical(getOption(\"pkgType\"), \n .                 \"source\") && (installerVersion >= \"1.16.0\") && \n .                 (installerVersion <= \"1.16.4\")\n .             if (test0) {\n .                 if (installerVersion < \"1.16.4\") {\n .                   txt <- \"Update BiocInstaller with\\n                         oldPkgType=options(pkgType=\\\"source\\\");\\n                         biocLite(\\\"BiocInstaller\\\"); options(oldPkgType)\"\n .                   message(paste(strwrap(txt, exdent = 2), collapse = \"\\n\"))\n .                 }\n .                 if (vers >= \"3.2\") {\n .                   path <- \"//bioconductor.org/biocLite.R\"\n .                   txt <- sprintf(\"BiocInstaller version %s is too old for\\n                         R version %s; remove.packages(\\\"BiocInstaller\\\"),\\n                         re-start R, then source(\\\"https:%s\\\") or\\n                         source(\\\"http:%s\\\")\", \n .                     biocVers, vers, path, path)\n .                   warning(paste(strwrap(txt, exdent = 2), collapse = \"\\n\"))\n .                 }\n .             }\n .         }\n .     } else {\n .         tryCatch({\n .             source(\"https://bioconductor.org/getBioC.R\")\n .         }, error = function(e) {\n .             warning(\"https: failed (\", conditionMessage(e), \"), trying http\", \n .                 immediate. = TRUE)\n .             source(\"http://bioconductor.org/getBioC.R\")\n .         })\n .         biocLite <<- function(pkgs, groupName = \"lite\", ...) {\n .             if (missing(pkgs)) biocinstall(groupName = groupName, \n .                 ...) else biocinstall(pkgs = pkgs, groupName = groupName, \n .                 ...)\n .         }\n .     }\n . }), new.env())",
      "10. eval(quote({\n  .     vers <- getRversion()\n  .     if (vers >= \"3.6\") {\n  .         stop(\"With R version 3.5 or greater, install Bioconductor \", \n  .             \"packages using BiocManager; see https://bioconductor.org/install\", \n  .             call. = FALSE)\n  .     }\n  .     biocVers <- tryCatch({\n  .         BiocInstaller::biocVersion()\n  .     }, error = function(...) {\n  .         BioC_version_associated_with_R_version <- get(\".BioC_version_associated_with_R_version\", \n  .             envir = asNamespace(\"tools\"), inherits = FALSE)\n  .         if (is.function(BioC_version_associated_with_R_version)) BioC_version_associated_with_R_version() else BioC_version_associated_with_R_version\n  .     })\n  .     if (vers < \"3.0\") {\n  .         txt <- strwrap(\"A new version of Bioconductor is available\\n            after installing the most recent version of R; see\\n            http://bioconductor.org/install\", \n  .             exdent = 2)\n  .         message(paste(txt, collapse = \"\\n\"))\n  .     } else if (\"package:BiocInstaller\" %in% search()) {\n  .         tryCatch(BiocInstaller:::.onAttach(), error = function(...) NULL)\n  .     }\n  .     if (vers > \"2.13\" && biocVers > \"2.8\") {\n  .         if (exists(\"biocLite\", .GlobalEnv, inherits = FALSE)) {\n  .             txt <- strwrap(\"There is an outdated biocLite() function in the\\n                global environment; run 'rm(biocLite)' and try again.\")\n  .             stop(\"\\n\", paste(txt, collapse = \"\\n\"))\n  .         }\n  .         if (!suppressWarnings(require(\"BiocInstaller\", quietly = TRUE))) {\n  .             a <- NULL\n  .             p <- file.path(Sys.getenv(\"HOME\"), \".R\", \"repositories\")\n  .             if (file.exists(p)) {\n  .                 a <- tools:::.read_repositories(p)\n  .                 if (!\"BioCsoft\" %in% rownames(a)) a <- NULL\n  .             }\n  .             if (is.null(a)) {\n  .                 p <- file.path(R.home(\"etc\"), \"repositories\")\n  .                 a <- tools:::.read_repositories(p)\n  .             }\n  .             if (!\"package:utils\" %in% search()) {\n  .                 path <- \"//bioconductor.org/biocLite.R\"\n  .                 txt <- sprintf(\"use 'source(\\\"https:%s\\\")' or\\n                    'source(\\\"http:%s\\\")' to update 'BiocInstaller' after\\n                    library(\\\"utils\\\")\", \n  .                   path, path)\n  .                 message(paste(strwrap(txt), collapse = \"\\n  \"))\n  .             } else {\n  .                 if (vers >= \"3.2.2\" && vers < \"3.3.0\") {\n  .                   con <- file(fl <- tempfile(), \"w\")\n  .                   sink(con, type = \"message\")\n  .                   tryCatch({\n  .                     xx <- close(file(\"https://bioconductor.org\"))\n  .                   }, error = function(e) {\n  .                     message(conditionMessage(e))\n  .                   })\n  .                   sink(type = \"message\")\n  .                   close(con)\n  .                   if (!length(readLines(fl))) a[\"BioCsoft\", \"URL\"] <- sub(\"^http:\", \n  .                     \"https:\", a[\"BioCsoft\", \"URL\"])\n  .                 }\n  .                 if (vers >= \"3.5.0\") {\n  .                   a[\"BioCsoft\", \"URL\"] <- sub(as.character(biocVers), \n  .                     \"3.7\", a[\"BioCsoft\", \"URL\"])\n  .                 } else if (vers >= \"3.4.0\") {\n  .                   a[\"BioCsoft\", \"URL\"] <- sub(as.character(biocVers), \n  .                     \"3.6\", a[\"BioCsoft\", \"URL\"])\n  .                 } else if (vers >= \"3.3.0\") {\n  .                   a[\"BioCsoft\", \"URL\"] <- sub(as.character(biocVers), \n  .                     \"3.4\", a[\"BioCsoft\", \"URL\"])\n  .                 } else if (vers >= \"3.2\") {\n  .                   a[\"BioCsoft\", \"URL\"] <- sub(as.character(biocVers), \n  .                     \"3.2\", a[\"BioCsoft\", \"URL\"])\n  .                 } else if (vers == \"3.1.1\") {\n  .                   a[\"BioCsoft\", \"URL\"] <- sub(as.character(biocVers), \n  .                     \"3.0\", a[\"BioCsoft\", \"URL\"])\n  .                 } else if (vers == \"3.1.0\") {\n  .                   a[\"BioCsoft\", \"URL\"] <- sub(as.character(biocVers), \n  .                     \"2.14\", a[\"BioCsoft\", \"URL\"])\n  .                 } else if (vers >= \"2.15\" && vers < \"2.16\") {\n  .                   a[\"BioCsoft\", \"URL\"] <- sub(as.character(biocVers), \n  .                     \"2.11\", a[\"BioCsoft\", \"URL\"])\n  .                   biocVers <- numeric_version(\"2.11\")\n  .                 }\n  .                 install.packages(\"BiocInstaller\", repos = a[\"BioCsoft\", \n  .                   \"URL\"])\n  .                 if (!suppressWarnings(require(\"BiocInstaller\", \n  .                   quietly = TRUE))) {\n  .                   path0 <- \"//bioconductor.org/packages\"\n  .                   path <- sprintf(\"%s/%s/bioc\", path0, as.character(biocVers))\n  .                   txt0 <- \"'biocLite.R' failed to install 'BiocInstaller',\\n                        use 'install.packages(\\\"BiocInstaller\\\",\\n                        repos=\\\"https:%s\\\")' or\\n                        'install.packages(\\\"BiocInstaller\\\", repos=\\\"http:%s\\\")'\"\n  .                   txt <- sprintf(txt0, path, path)\n  .                   message(paste(strwrap(txt), collapse = \"\\n  \"))\n  .                 }\n  .             }\n  .         } else {\n  .             installerVersion <- utils::packageVersion(\"BiocInstaller\")\n  .             test0 <- (vers > \"3.1.2\") && !identical(getOption(\"pkgType\"), \n  .                 \"source\") && (installerVersion >= \"1.16.0\") && \n  .                 (installerVersion <= \"1.16.4\")\n  .             if (test0) {\n  .                 if (installerVersion < \"1.16.4\") {\n  .                   txt <- \"Update BiocInstaller with\\n                         oldPkgType=options(pkgType=\\\"source\\\");\\n                         biocLite(\\\"BiocInstaller\\\"); options(oldPkgType)\"\n  .                   message(paste(strwrap(txt, exdent = 2), collapse = \"\\n\"))\n  .                 }\n  .                 if (vers >= \"3.2\") {\n  .                   path <- \"//bioconductor.org/biocLite.R\"\n  .                   txt <- sprintf(\"BiocInstaller version %s is too old for\\n                         R version %s; remove.packages(\\\"BiocInstaller\\\"),\\n                         re-start R, then source(\\\"https:%s\\\") or\\n                         source(\\\"http:%s\\\")\", \n  .                     biocVers, vers, path, path)\n  .                   warning(paste(strwrap(txt, exdent = 2), collapse = \"\\n\"))\n  .                 }\n  .             }\n  .         }\n  .     } else {\n  .         tryCatch({\n  .             source(\"https://bioconductor.org/getBioC.R\")\n  .         }, error = function(e) {\n  .             warning(\"https: failed (\", conditionMessage(e), \"), trying http\", \n  .                 immediate. = TRUE)\n  .             source(\"http://bioconductor.org/getBioC.R\")\n  .         })\n  .         biocLite <<- function(pkgs, groupName = \"lite\", ...) {\n  .             if (missing(pkgs)) biocinstall(groupName = groupName, \n  .                 ...) else biocinstall(pkgs = pkgs, groupName = groupName, \n  .                 ...)\n  .         }\n  .     }\n  . }), new.env())",
      "11. stop(\"With R version 3.5 or greater, install Bioconductor \", \n  .     \"packages using BiocManager; see https://bioconductor.org/install\", \n  .     call. = FALSE)"
     ]
    }
   ],
   "source": [
    "\n",
    "#source(\"http://bioconductor.org/biocLite.R\")\n",
    "\n"
   ]
  },
  {
   "cell_type": "code",
   "execution_count": 5,
   "id": "joint-output",
   "metadata": {},
   "outputs": [
    {
     "name": "stderr",
     "output_type": "stream",
     "text": [
      "\n",
      "   *****       ***   vcfR   ***       *****\n",
      "   This is vcfR 1.12.0 \n",
      "     browseVignettes('vcfR') # Documentation\n",
      "     citation('vcfR') # Citation\n",
      "   *****       *****      *****       *****\n",
      "\n",
      "\n"
     ]
    }
   ],
   "source": [
    "library(vcfR)"
   ]
  },
  {
   "cell_type": "code",
   "execution_count": null,
   "id": "fantastic-builder",
   "metadata": {},
   "outputs": [],
   "source": []
  }
 ],
 "metadata": {
  "kernelspec": {
   "display_name": "R",
   "language": "R",
   "name": "ir"
  },
  "language_info": {
   "codemirror_mode": "r",
   "file_extension": ".r",
   "mimetype": "text/x-r-source",
   "name": "R",
   "pygments_lexer": "r",
   "version": "4.0.3"
  }
 },
 "nbformat": 4,
 "nbformat_minor": 5
}
