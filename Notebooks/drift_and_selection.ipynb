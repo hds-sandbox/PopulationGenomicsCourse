{
 "cells": [
  {
   "cell_type": "markdown",
   "metadata": {},
   "source": [
    "# Genetic drift and selection"
   ]
  },
  {
   "cell_type": "code",
   "execution_count": 1,
   "metadata": {},
   "outputs": [],
   "source": [
    "%matplotlib widget\n",
    "\n",
    "# Make inline plots vector graphics instead of raster graphics\n",
    "from IPython.display import set_matplotlib_formats\n",
    "set_matplotlib_formats('retina', 'png')\n",
    "\n",
    "import matplotlib.pyplot as plt\n",
    "#from mpl_toolkits.mplot3d import Axes3D\n",
    "from mpl_toolkits.mplot3d.axes3d import Axes3D, get_test_data\n",
    "from matplotlib import cm\n",
    "\n",
    "from matplotlib.patches import Rectangle\n",
    "\n",
    "import numpy as np\n",
    "import pandas as pd\n",
    "import seaborn as sns\n",
    "sns.set_style(\"whitegrid\")\n",
    "sns.set_context(\"paper\")\n",
    "\n",
    "def freq_trajectory(N, n=1, s=0):\n",
    "    yield n\n",
    "    while N > n > 0:\n",
    "        n = np.random.binomial(N, n*(1+s)/((N-n)+(n)*(1+s)), 1)[0]\n",
    "        yield n\n",
    "        \n",
    "def tight(fig):\n",
    "    fig.canvas.header_visible = False\n",
    "    plt.tight_layout()"
   ]
  },
  {
   "cell_type": "markdown",
   "metadata": {},
   "source": [
    "## Allele frequency of a neutral allele\n",
    "\n",
    "Rerun the cell below to see different outcomes:"
   ]
  },
  {
   "cell_type": "code",
   "execution_count": 2,
   "metadata": {},
   "outputs": [
    {
     "data": {
      "application/vnd.jupyter.widget-view+json": {
       "model_id": "f7a9f08c5ea14c7e8dde40523e668224",
       "version_major": 2,
       "version_minor": 0
      },
      "text/plain": [
       "Canvas(toolbar=Toolbar(toolitems=[('Home', 'Reset original view', 'home', 'home'), ('Back', 'Back to previous …"
      ]
     },
     "metadata": {},
     "output_type": "display_data"
    }
   ],
   "source": [
    "# Number of haploid individuals with the allele\n",
    "n = 500\n",
    "# Population size\n",
    "N = 1000\n",
    "# selection coeficient\n",
    "s = 0.0\n",
    "\n",
    "fig = plt.figure(figsize=(9, 4))\n",
    "for i in range(1):\n",
    "    plt.plot(list(freq_trajectory(N, n=n, s=s)))\n",
    "plt.xlim(0, 200)\n",
    "plt.ylim(0, N)\n",
    "tight(fig)"
   ]
  },
  {
   "cell_type": "markdown",
   "metadata": {},
   "source": [
    "Ten different outcomes:"
   ]
  },
  {
   "cell_type": "code",
   "execution_count": 3,
   "metadata": {},
   "outputs": [
    {
     "data": {
      "application/vnd.jupyter.widget-view+json": {
       "model_id": "2232f6ac5bd5467296d21d23790c9f0b",
       "version_major": 2,
       "version_minor": 0
      },
      "text/plain": [
       "Canvas(toolbar=Toolbar(toolitems=[('Home', 'Reset original view', 'home', 'home'), ('Back', 'Back to previous …"
      ]
     },
     "metadata": {},
     "output_type": "display_data"
    }
   ],
   "source": [
    "fig = plt.figure(figsize=(9, 4))\n",
    "plt.xlim(0, 200)\n",
    "plt.ylim(0, N)\n",
    "\n",
    "for i in range(10):\n",
    "    plt.plot(list(freq_trajectory(N, n=n, s=s)))\n",
    "tight(fig)"
   ]
  },
  {
   "cell_type": "markdown",
   "metadata": {},
   "source": [
    "50 different outcomes:"
   ]
  },
  {
   "cell_type": "code",
   "execution_count": 4,
   "metadata": {},
   "outputs": [
    {
     "data": {
      "application/vnd.jupyter.widget-view+json": {
       "model_id": "46aa9901e0d745539affde359f7eccca",
       "version_major": 2,
       "version_minor": 0
      },
      "text/plain": [
       "Canvas(toolbar=Toolbar(toolitems=[('Home', 'Reset original view', 'home', 'home'), ('Back', 'Back to previous …"
      ]
     },
     "metadata": {},
     "output_type": "display_data"
    }
   ],
   "source": [
    "fig = plt.figure(figsize=(9, 4))\n",
    "plt.xlim(0, 200)\n",
    "plt.ylim(0, N)\n",
    "\n",
    "for i in range(50):\n",
    "    plt.plot(list(freq_trajectory(N, n=n, s=s)))\n",
    "tight(fig)       "
   ]
  },
  {
   "cell_type": "markdown",
   "metadata": {},
   "source": [
    "20 outcomes for two different popoulation sizes: 500 and 5000"
   ]
  },
  {
   "cell_type": "code",
   "execution_count": 5,
   "metadata": {},
   "outputs": [
    {
     "data": {
      "application/vnd.jupyter.widget-view+json": {
       "model_id": "9f2a3f9d37da4a25aa25870e12f45fb9",
       "version_major": 2,
       "version_minor": 0
      },
      "text/plain": [
       "Canvas(toolbar=Toolbar(toolitems=[('Home', 'Reset original view', 'home', 'home'), ('Back', 'Back to previous …"
      ]
     },
     "metadata": {},
     "output_type": "display_data"
    }
   ],
   "source": [
    "fig, (ax1, ax2) = plt.subplots(2, 1, figsize=(9, 6), sharex=True)\n",
    "plt.xlim(0, 200)\n",
    "for i in range(20):\n",
    "    ax1.plot(list(freq_trajectory(1000, n=500, s=s)))\n",
    "    ax1.set_ylim(0, 1000)\n",
    "    ax2.plot(list(freq_trajectory(10000, n=5000, s=s)))\n",
    "    ax2.set_ylim(0, 10000)\n",
    "tight(fig)       "
   ]
  },
  {
   "cell_type": "markdown",
   "metadata": {},
   "source": [
    "Same as above, but now we let follow each allele long enough to see it get lost of fixed. In small populations mutations are lost or fix faster than in large populations."
   ]
  },
  {
   "cell_type": "code",
   "execution_count": 6,
   "metadata": {},
   "outputs": [
    {
     "data": {
      "application/vnd.jupyter.widget-view+json": {
       "model_id": "ac613613c5664ad5a8d0ecde4bcf5f73",
       "version_major": 2,
       "version_minor": 0
      },
      "text/plain": [
       "Canvas(toolbar=Toolbar(toolitems=[('Home', 'Reset original view', 'home', 'home'), ('Back', 'Back to previous …"
      ]
     },
     "metadata": {},
     "output_type": "display_data"
    }
   ],
   "source": [
    "fig, (ax1, ax2) = plt.subplots(2, 1, figsize=(9, 6), sharex=True)\n",
    "\n",
    "for i in range(20):\n",
    "    ax1.plot(list(freq_trajectory(1000, n=500, s=s)))\n",
    "    ax1.set_ylim(0, 1000)\n",
    "    ax2.plot(list(freq_trajectory(10000, n=5000, s=s)))\n",
    "    ax2.set_ylim(0, 10000)    \n",
    "tight(fig)      "
   ]
  },
  {
   "cell_type": "markdown",
   "metadata": {},
   "source": [
    "## Weak positive selection"
   ]
  },
  {
   "cell_type": "markdown",
   "metadata": {},
   "source": [
    "Frequency trajectories of new mutations with a selective advantage. Even with positive selection, most are quickly lost from the population. Use the Zoom tool on the figure to zoom in on the bottom left corner of the plot to see the the many alleles thare are lost."
   ]
  },
  {
   "cell_type": "code",
   "execution_count": 12,
   "metadata": {},
   "outputs": [
    {
     "name": "stdout",
     "output_type": "stream",
     "text": [
      "Ns = 5.0\n"
     ]
    },
    {
     "data": {
      "application/vnd.jupyter.widget-view+json": {
       "model_id": "7c8ee458c6bf4ec58e41940c5d5d2d5f",
       "version_major": 2,
       "version_minor": 0
      },
      "text/plain": [
       "Canvas(toolbar=Toolbar(toolitems=[('Home', 'Reset original view', 'home', 'home'), ('Back', 'Back to previous …"
      ]
     },
     "metadata": {},
     "output_type": "display_data"
    }
   ],
   "source": [
    "# Number of alleles at onset of selection\n",
    "n = 1\n",
    "# Population size (total nr. of alleles)\n",
    "N = 10000\n",
    "# selection coeficient\n",
    "s = 0.0005\n",
    "\n",
    "print(f\"Ns = {N*s}\")\n",
    "fig = plt.figure(figsize=(9, 4))\n",
    "for i in range(1000):\n",
    "    plt.plot(list(freq_trajectory(N, n=n, s=s)))\n",
    "#plt.xlim(0, 1000)\n",
    "plt.ylim(0, N)\n",
    "tight(fig)"
   ]
  },
  {
   "cell_type": "markdown",
   "metadata": {},
   "source": [
    "Fixation times dependence on N"
   ]
  },
  {
   "cell_type": "code",
   "execution_count": 9,
   "metadata": {},
   "outputs": [],
   "source": [
    "def fixation_times(N, n=n, s=s):\n",
    "    times = list()\n",
    "    for i in range(10000): \n",
    "        freqs = list(freq_trajectory(N, n=n, s=s))\n",
    "        if freqs[-1]:\n",
    "            times.append(len(freqs))\n",
    "    return times\n",
    "\n",
    "times_small = fixation_times(1000, n=1, s=0.0005)\n",
    "times_medium = fixation_times(5000, n=1, s=0.0005)\n",
    "times_large = fixation_times(10000, n=1, s=0.0005)"
   ]
  },
  {
   "cell_type": "code",
   "execution_count": 18,
   "metadata": {},
   "outputs": [],
   "source": [
    "plt.hist(times_small, bins=range(0, 20000, 1000), alpha=0.5) \n",
    "plt.hist(times_medium, bins=range(0, 20000, 1000), alpha=0.5) \n",
    "plt.hist(times_large, bins=range(0, 20000, 1000), alpha=0.5) ;\n"
   ]
  },
  {
   "cell_type": "markdown",
   "metadata": {},
   "source": [
    "## Weak negative selection"
   ]
  },
  {
   "cell_type": "markdown",
   "metadata": {},
   "source": [
    "Frequency trajectories of new mutations with a selective disadvantage. Even with negative selection, some alleles linger in the population and may even be fixed. Use the Zoom tool on the figure to zoom in on the bottom left corner of the plot to see the the many alleles thare are lost."
   ]
  },
  {
   "cell_type": "code",
   "execution_count": 20,
   "metadata": {},
   "outputs": [
    {
     "name": "stdout",
     "output_type": "stream",
     "text": [
      "Ns = -1.0\n"
     ]
    },
    {
     "data": {
      "application/vnd.jupyter.widget-view+json": {
       "model_id": "ee24ec1df68a4a7d80619a125c646937",
       "version_major": 2,
       "version_minor": 0
      },
      "text/plain": [
       "Canvas(toolbar=Toolbar(toolitems=[('Home', 'Reset original view', 'home', 'home'), ('Back', 'Back to previous …"
      ]
     },
     "metadata": {},
     "output_type": "display_data"
    }
   ],
   "source": [
    "# Number of alleles at onset of selection\n",
    "n = 1\n",
    "# Population size (total nr. of alleles)\n",
    "N = 10000\n",
    "#N = 100\n",
    "# selection coeficient\n",
    "s = -0.0001\n",
    "print(f\"Ns = {N*s}\")\n",
    "\n",
    "fig = plt.figure(figsize=(9, 4))\n",
    "for i in range(1000):\n",
    "    plt.plot(list(freq_trajectory(N, n=n, s=s)))\n",
    "#plt.xlim(0, 1000)\n",
    "plt.ylim(0, N)\n",
    "tight(fig)"
   ]
  },
  {
   "cell_type": "markdown",
   "metadata": {},
   "source": [
    "## Fixation probability\n",
    "\n",
    "$$\\frac{1 - \\exp(-4sN_e/2N)}{1 - \\exp(-4N_es)}$$\n",
    "\n",
    "Assuming a panmictic population, this simplifies to: \n",
    "\n",
    "$$\\frac{1-\\exp(-2s)}{1-\\exp(-4 N_e s)} \\approx \\frac{2s}{1-\\exp(-4 N_e s)}$$\n",
    "\n",
    "Further assuming $N_e s \\gg 1$, it siplifies to:\n",
    "\n",
    "$$2s$$"
   ]
  },
  {
   "cell_type": "code",
   "execution_count": 21,
   "metadata": {
    "collapsed": false,
    "jupyter": {
     "outputs_hidden": false
    }
   },
   "outputs": [],
   "source": [
    "def prob_fixation(s, Ne, N):\n",
    "    return (1 - np.exp(-4*s*Ne/(2*N))) / (1 - np.exp(-4 * Ne * s))\n",
    "\n",
    "def simple_prob_fixation(s, N):\n",
    "    return (1 - np.exp(-2*s)) / (1 - np.exp(-4 * N * s))\n",
    "\n",
    "def simplest_prob_fixation(s, N):\n",
    "    return 2*s / (1 - np.exp(-4 * N * s))\n",
    "\n",
    "nr_points = 100"
   ]
  },
  {
   "cell_type": "code",
   "execution_count": 22,
   "metadata": {},
   "outputs": [
    {
     "data": {
      "application/vnd.jupyter.widget-view+json": {
       "model_id": "e738b91c243740ddb8f5587a4b549684",
       "version_major": 2,
       "version_minor": 0
      },
      "text/plain": [
       "Canvas(toolbar=Toolbar(toolitems=[('Home', 'Reset original view', 'home', 'home'), ('Back', 'Back to previous …"
      ]
     },
     "metadata": {},
     "output_type": "display_data"
    }
   ],
   "source": [
    "Ne = 10000\n",
    "N = Ne\n",
    "max_s = 0.0005\n",
    "\n",
    "s_arr = np.linspace(-max_s, max_s, num=nr_points)\n",
    "Ne_arr = np.full(nr_points, Ne)\n",
    "N_arr = np.full(nr_points, N)\n",
    "\n",
    "fig, (ax1) = plt.subplots(1, 1)\n",
    "\n",
    "ax1.plot(s_arr, prob_fixation(s_arr, Ne_arr, N_arr), linewidth=5)\n",
    "ax1.plot(s_arr, simple_prob_fixation(s_arr, Ne_arr), color='orange')\n",
    "ax1.plot(s_arr, simplest_prob_fixation(s_arr, Ne_arr), color='red', linestyle='dotted', linewidth=2)\n",
    "ax1.set_xlabel('s')\n",
    "ax1.set_ylabel('Fixation probability')\n",
    "ax1.set_title('$N = N_e$')\n",
    "tight(fig)"
   ]
  },
  {
   "cell_type": "code",
   "execution_count": 23,
   "metadata": {},
   "outputs": [
    {
     "data": {
      "application/vnd.jupyter.widget-view+json": {
       "model_id": "a95252a767c246f583a63ac94f7e5e84",
       "version_major": 2,
       "version_minor": 0
      },
      "text/plain": [
       "Canvas(toolbar=Toolbar(toolitems=[('Home', 'Reset original view', 'home', 'home'), ('Back', 'Back to previous …"
      ]
     },
     "metadata": {},
     "output_type": "display_data"
    }
   ],
   "source": [
    "nr_points = 100\n",
    "Ne = 10000\n",
    "N = Ne\n",
    "max_s = 0.0005\n",
    "\n",
    "fig, ax = plt.subplots(1, 1)\n",
    "s_arr = np.linspace(-max_s, max_s, num=nr_points)\n",
    "Ne_arr = np.full(nr_points, Ne)\n",
    "N_arr = np.full(nr_points, N)\n",
    "\n",
    "plt.plot(s_arr, prob_fixation(s_arr, Ne_arr, N_arr))\n",
    "plt.plot(np.linspace(0, max_s, 2), np.linspace(0, max_s, 2)*2, linestyle='dashed')\n",
    "\n",
    "ax.add_patch(Rectangle((-1/Ne, 0), 2/Ne, 0.001, alpha=0.2, color='grey', zorder=0))\n",
    "\n",
    "plt.axvline(x=1/Ne, linestyle='dashed', color='grey')\n",
    "plt.axvline(x=-1/Ne, linestyle='dashed', color='grey')\n",
    "plt.tight_layout()\n",
    "\n",
    "plt.xlabel('s')\n",
    "plt.ylabel('Fixation probability') \n",
    "tight(fig)"
   ]
  },
  {
   "cell_type": "markdown",
   "metadata": {},
   "source": [
    "In a non-panmictic population (where $N \\neq N_e$)"
   ]
  },
  {
   "cell_type": "code",
   "execution_count": 25,
   "metadata": {},
   "outputs": [
    {
     "data": {
      "application/vnd.jupyter.widget-view+json": {
       "model_id": "1f29fb15a7674ef9bbc9bf8ef005a367",
       "version_major": 2,
       "version_minor": 0
      },
      "text/plain": [
       "Canvas(toolbar=Toolbar(toolitems=[('Home', 'Reset original view', 'home', 'home'), ('Back', 'Back to previous …"
      ]
     },
     "metadata": {},
     "output_type": "display_data"
    }
   ],
   "source": [
    "Ne = 10000\n",
    "N = Ne\n",
    "max_s = 0.0005\n",
    "\n",
    "s_arr = np.linspace(-max_s, max_s, num=nr_points)\n",
    "Ne_arr = np.full(nr_points, Ne)\n",
    "N_arr = np.full(nr_points, N)\n",
    "\n",
    "fig, (ax1, ax2) = plt.subplots(1, 2, figsize=(9, 4))\n",
    "\n",
    "ax1.plot(s_arr, prob_fixation(s_arr, Ne_arr, N_arr))\n",
    "ax1.plot(s_arr, simple_prob_fixation(s_arr, Ne_arr), color='black', linestyle='dotted')\n",
    "ax1.set_xlabel('s')\n",
    "ax1.set_ylabel('Fixation probability')\n",
    "ax1.set_title('$N = N_e$')\n",
    "\n",
    "ax2.plot(s_arr, prob_fixation(s_arr, Ne_arr, N_arr*2))\n",
    "ax2.plot(s_arr, simple_prob_fixation(s_arr, Ne_arr), color='black', linestyle='dotted')\n",
    "ax2.set_xlabel('s')\n",
    "ax2.set_ylabel('Fixation probability')\n",
    "ax2.set_title('$N = 2 * N_e$')\n",
    "\n",
    "ax1.plot(np.linspace(0, max_s, 2), np.linspace(0, max_s, 2)*2, linestyle='dashed', color='orange')\n",
    "ax2.plot(np.linspace(0, max_s, 2), np.linspace(0, max_s, 2)*2/2, linestyle='dashed', color='orange')\n",
    "\n",
    "tight(fig)"
   ]
  },
  {
   "cell_type": "code",
   "execution_count": 26,
   "metadata": {
    "collapsed": false,
    "jupyter": {
     "outputs_hidden": false
    }
   },
   "outputs": [
    {
     "data": {
      "application/vnd.jupyter.widget-view+json": {
       "model_id": "83449ee88cdb42e98f06eb743903aed7",
       "version_major": 2,
       "version_minor": 0
      },
      "text/plain": [
       "Canvas(toolbar=Toolbar(toolitems=[('Home', 'Reset original view', 'home', 'home'), ('Back', 'Back to previous …"
      ]
     },
     "metadata": {},
     "output_type": "display_data"
    }
   ],
   "source": [
    "Ne = 10000\n",
    "N = Ne\n",
    "max_s = 0.0005\n",
    "\n",
    "s_arr = np.linspace(-max_s, max_s, num=nr_points)\n",
    "Ne_arr = np.full(nr_points, Ne)\n",
    "N_arr = np.full(nr_points, N)\n",
    "\n",
    "_s = np.repeat(s_arr, nr_points).reshape((nr_points, nr_points)).transpose()\n",
    "_N = np.repeat(np.linspace(10000, 20000, num=nr_points), nr_points).reshape((nr_points, nr_points))\n",
    "_Ne = np.repeat(Ne_arr, nr_points).reshape((nr_points, nr_points))\n",
    "_f = prob_fixation(_s, _Ne, _N)\n",
    "\n",
    "fig = plt.figure(figsize=(10, 6))\n",
    "ax = fig.add_subplot(111, projection='3d')\n",
    "ax.plot_wireframe(_s, _N, _f, alpha=0.5, color='grey')\n",
    "#ax.plot_surface(_s, _N, _f, alpha=0.5, color='black')\n",
    "ax.contour(_s, _N, _f, zdir='z', offset=0, cmap=cm.coolwarm)\n",
    "ax.set_xlabel('s')\n",
    "ax.set_ylabel('N')\n",
    "ax.set_zlabel('fixation prob')\n",
    "\n",
    "tight(fig)"
   ]
  },
  {
   "cell_type": "code",
   "execution_count": 27,
   "metadata": {},
   "outputs": [
    {
     "data": {
      "application/vnd.jupyter.widget-view+json": {
       "model_id": "52e65688735945b6acbf04c24a7887be",
       "version_major": 2,
       "version_minor": 0
      },
      "text/plain": [
       "Canvas(toolbar=Toolbar(toolitems=[('Home', 'Reset original view', 'home', 'home'), ('Back', 'Back to previous …"
      ]
     },
     "metadata": {},
     "output_type": "display_data"
    }
   ],
   "source": [
    "\n",
    "_s = np.repeat(s_arr, nr_points).reshape((nr_points, nr_points)).transpose()\n",
    "_N = np.repeat(N_arr, nr_points).reshape((nr_points, nr_points))\n",
    "_Ne = np.repeat(np.linspace(1000, 10000, num=nr_points), nr_points).reshape((nr_points, nr_points))\n",
    "_f = prob_fixation(_s, _Ne, _N)\n",
    "\n",
    "fig = plt.figure(figsize=(10, 6))\n",
    "ax = fig.add_subplot(111, projection='3d')\n",
    "ax.plot_wireframe(_s, _Ne, _f, alpha=0.5, color='grey')\n",
    "#ax.plot_surface(_s, _Ne, _f, alpha=0.2, color='grey')\n",
    "ax.contour(_s, _Ne, _f, zdir='z', offset=0, cmap=cm.coolwarm)\n",
    "ax.set_xlabel('s')\n",
    "ax.set_ylabel('Ne')\n",
    "ax.set_zlabel('fixation prob')\n",
    "\n",
    "tight(fig)"
   ]
  },
  {
   "cell_type": "markdown",
   "metadata": {},
   "source": [
    "Compare to the figures above where we plotted just the fixation probability for a single $N_e$."
   ]
  },
  {
   "cell_type": "markdown",
   "metadata": {},
   "source": [
    "## Strong selection"
   ]
  },
  {
   "cell_type": "markdown",
   "metadata": {},
   "source": [
    "Freqency trajectory with deterministic selection $N_e s \\gg 1$:"
   ]
  },
  {
   "cell_type": "markdown",
   "metadata": {},
   "source": [
    "$$ f_A(t) = \\frac{f_A(0)}{f_A(0) + (1-s)^t f_a(0)}$$"
   ]
  },
  {
   "cell_type": "code",
   "execution_count": 40,
   "metadata": {
    "collapsed": false,
    "jupyter": {
     "outputs_hidden": false
    }
   },
   "outputs": [
    {
     "data": {
      "application/vnd.jupyter.widget-view+json": {
       "model_id": "389ba6fbdaa943c296472a066720d03c",
       "version_major": 2,
       "version_minor": 0
      },
      "text/plain": [
       "Canvas(toolbar=Toolbar(toolitems=[('Home', 'Reset original view', 'home', 'home'), ('Back', 'Back to previous …"
      ]
     },
     "metadata": {},
     "output_type": "display_data"
    }
   ],
   "source": [
    "# Number of alleles at onset of selection\n",
    "n = 1\n",
    "# Population size (total nr. of alleles)\n",
    "N = 10000\n",
    "# selection coeficient\n",
    "s = 0.01\n",
    "\n",
    "def haploid_trajectory(t, s, p):\n",
    "    return p / (p + (1-s)**t * (1-p))\n",
    "\n",
    "def logistic_function(t, s, p):\n",
    "    ts = -(2/(2*N*s)) * np.log(p)    \n",
    "    return p / (p + (1-p) * np.exp(-s*(t-ts)))\n",
    "\n",
    "fig = plt.figure()\n",
    "plt.plot([haploid_trajectory(x, 0.01, 1/10000) for x in range(2000)])\n",
    "plt.plot([logistic_function(x, 0.01, 1/10000) for x in range(2000)], color='black', linestyle='dashed') ;\n",
    "tight(fig)"
   ]
  },
  {
   "cell_type": "markdown",
   "metadata": {},
   "source": [
    "Frequency trajectories of new mutations with a strong selective disadvantage. Even with strong positive selection, most alleles are lost. Use the Zoom tool on the figure to zoom in on the bottom left corner of the plot to see the the many alleles thare are lost. Notice how the trajectory of fixed alleles follow the deterministic trajectory."
   ]
  },
  {
   "cell_type": "code",
   "execution_count": 44,
   "metadata": {
    "collapsed": false,
    "jupyter": {
     "outputs_hidden": false
    }
   },
   "outputs": [
    {
     "data": {
      "application/vnd.jupyter.widget-view+json": {
       "model_id": "cf5119f83a8249a9948ff18d70d252cd",
       "version_major": 2,
       "version_minor": 0
      },
      "text/plain": [
       "Canvas(toolbar=Toolbar(toolitems=[('Home', 'Reset original view', 'home', 'home'), ('Back', 'Back to previous …"
      ]
     },
     "metadata": {},
     "output_type": "display_data"
    }
   ],
   "source": [
    "# Number of alleles at onset of selection\n",
    "n = 1\n",
    "# Population size (total nr. of alleles)\n",
    "N = 10000\n",
    "# selection coeficient\n",
    "s = 0.01\n",
    "\n",
    "# try out:\n",
    "# N=100, s=0.01, \n",
    "# N=10000, s=0.001, N=10000, s=0.01\n",
    "\n",
    "fig = plt.figure(figsize=(12, 4))\n",
    "for i in range(100):\n",
    "    plt.plot(list(freq_trajectory(N, n=n, s=s)))\n",
    "plt.xlim(0, 2000)\n",
    "plt.ylim(0, 10000)\n",
    "tight(fig)"
   ]
  },
  {
   "cell_type": "markdown",
   "metadata": {},
   "source": [
    "## Fixation time"
   ]
  },
  {
   "cell_type": "markdown",
   "metadata": {},
   "source": [
    "Strong selection $N_e s \\gg 1$:\n",
    "\n",
    "$$\\bar{t} \\approx \\frac{2 \\ln (2N_e)}{s}$$"
   ]
  },
  {
   "cell_type": "code",
   "execution_count": 46,
   "metadata": {
    "collapsed": false,
    "jupyter": {
     "outputs_hidden": false
    }
   },
   "outputs": [
    {
     "data": {
      "application/vnd.jupyter.widget-view+json": {
       "model_id": "2dc7eb38a7634f28ba50317d0d2cad63",
       "version_major": 2,
       "version_minor": 0
      },
      "text/plain": [
       "Canvas(toolbar=Toolbar(toolitems=[('Home', 'Reset original view', 'home', 'home'), ('Back', 'Back to previous …"
      ]
     },
     "metadata": {},
     "output_type": "display_data"
    }
   ],
   "source": [
    "def fixation_time(s, N):\n",
    "    return 2 * math.log(2*N) / s\n",
    "\n",
    "fig, (ax1, ax2) = plt.subplots(2, 1, figsize=(10, 7))\n",
    "s_list = np.linspace(0.01, 0.05, 100)\n",
    "ax1.plot(s_list, [fixation_time(s, 10000) for s in s_list])\n",
    "ax1.set_xlabel('s')\n",
    "ax1.set_ylabel('g')\n",
    "\n",
    "N_list = range(1, 10000, 10)\n",
    "ax2.plot(N_list, [fixation_time(0.05, N) for N in N_list])\n",
    "ax2.set_xlabel('N')\n",
    "ax2.set_ylabel('g') ;"
   ]
  },
  {
   "cell_type": "code",
   "execution_count": null,
   "metadata": {},
   "outputs": [],
   "source": [
    "\n",
    "\n"
   ]
  }
 ],
 "metadata": {
  "anaconda-cloud": {},
  "kernelspec": {
   "display_name": "Python 3",
   "language": "python",
   "name": "python3"
  },
  "language_info": {
   "codemirror_mode": {
    "name": "ipython",
    "version": 3
   },
   "file_extension": ".py",
   "mimetype": "text/x-python",
   "name": "python",
   "nbconvert_exporter": "python",
   "pygments_lexer": "ipython3",
   "version": "3.8.6"
  }
 },
 "nbformat": 4,
 "nbformat_minor": 4
}
