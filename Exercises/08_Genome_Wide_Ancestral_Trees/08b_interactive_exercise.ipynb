{
 "cells": [
  {
   "cell_type": "markdown",
   "id": "8e493374-fce4-40c8-b37d-59f45a7be0e0",
   "metadata": {},
   "source": [
    "# The ancestral recombination graph (ARG)\n",
    "\n",
    "Here we will look at simulated Ancestral Recombination graphs. We do this by opening an interactive interface to perform simulations.\n",
    "\n",
    "You need to choose the kernel `args dashboard` using the upper menu `Kernel --> Change kernel`. Just run the code below to visualize the interactive interface of the exercise, and then try to answer to the questions below."
   ]
  },
  {
   "cell_type": "code",
   "execution_count": 1,
   "id": "a8d2447b-3ba4-44d0-af60-e8282a52f1b9",
   "metadata": {},
   "outputs": [
    {
     "data": {
      "text/html": [
       "\n",
       "        <iframe\n",
       "            width=\"100%\"\n",
       "            height=\"900\"\n",
       "            src=\"http://0.0.0.0:8850/\"\n",
       "            frameborder=\"0\"\n",
       "            allowfullscreen\n",
       "            \n",
       "        ></iframe>\n",
       "        "
      ],
      "text/plain": [
       "<IPython.lib.display.IFrame at 0x7f8eb6ae3df0>"
      ]
     },
     "metadata": {},
     "output_type": "display_data"
    }
   ],
   "source": [
    "import sys\n",
    "import warnings\n",
    "sys.path.append('./scripts/')\n",
    "import arg_dashboard\n",
    "\n",
    "with warnings.catch_warnings():\n",
    "    warnings.simplefilter(\"ignore\")\n",
    "    arg_dashboard.app.run_server(mode='inline', height=900, debug=True, port=8850, host='0.0.0.0')"
   ]
  },
  {
   "cell_type": "markdown",
   "id": "5a2cf217-6c0a-4417-99c7-c21d2e0f884f",
   "metadata": {},
   "source": [
    "## Exercise 1\n",
    "\n",
    "1. The *Main* panel shows a simulated graph. Click `New` to generate a new graph. Dropdown menus control the type of graph, the number of samples and the sequence length. Choose \"ARG\" for the simulation, a sample size of \"5\" and a sequence length of \"2kb\". \n",
    "2. Simulate a lot of ARGS. Just keep clicking `New` to see the variation of ARGS.\n",
    "3. Pick and ARG with 2-3 recombincombination events.\n",
    "4. The *Coalesce and recombination events* panel controls the number of events shown in the graph. The *Recombination points* panel shows the points of recombination in the sequence. Use the *Coalesce and recombination events* panel to reconstruct the graph step by step by moving the slider from left to right. Make sure you understand what happens at each coalescence and recombination event.\n",
    "5. Use the two sliders in the *Recombination points* to retrict the view to a smaller part of the sequence. Watch what happens to the arg as you include more or fewer recombination points on the sequence.\n",
    "\n",
    "## Exercise 2\n",
    "\n",
    "1. Click `New` to find an ARG with 2-3 recombincombination events where some of the nodes are not red. Ancestral node colors reflect the proportion of the sequence that is represented in the ancestor. Ancestral material is the part of the sequence that has a descendants among the sampled sequences. Mouse-over a node to see the type of event and the proportion of ancestal proportion sequence at each node. \n",
    "2. Notice how mouse-over also activates the *Ancestral sequences* and *Marginal trees* panels. The *Ancestral sequences* panel shows how ancestral material is merged at coalescence events and divided at recombination events. Sequence segments separated by recombination events are shown with separate colors. The genalogy for each segment is shown in the *Marginal tree* panel with a color matching the segment. Non-ancestral segments are shown in white. Mouse-over the root node of the ARG to see all marginal trees (genealogies) for the ARG. Mouse-over other nodes to see the marginal trees below that node.\n",
    "3. Use the slider in the  *Recombination points* panel to show the graph for only a subset of the sequence. Notice how this affects the shown ARG and the marginal trees when you mouse-over a node. Sequence outside the range specified in the *Recombination points* panel is shown as gray in the *Ancestral sequences* panel.\n",
    "\n",
    "## Exercise 3\n",
    "\n",
    "1. The marginal trees look a lot like each other. Try to understand how each one if different from its neighbor. You can make the range in the *Recombination points* slider really small so it shows only one marginal tree at a time. Now move it along the sequence to see how the ARG changes. Can you see that only one branch detaches and is moved somewhere else?\n",
    "2. Some recombination events do not show up as bifurcations. This because they are followed by a coalescence event that merge the same segments back into one lineage. Simulate some args to see if you can find some of these. You can see them as two nodes on a lineage following each other. Mouse-over the recombination node to see how the sequence segments first split into two lineages and then coalesce at the following coalescence node.\n",
    "\n",
    "## Exercise 4\n",
    "\n",
    "1. See if you can find any nodes where non-ancestral sequence is \"captured\" between two ancestral (colored) segments. Figure out how the segment you found got trapped between two ancestral sequence segments.\n",
    "2. See if you can find it in the SMC'. If you cannot, why do you think that is?"
   ]
  }
 ],
 "metadata": {
  "kernelspec": {
   "display_name": "args dashboard",
   "language": "python",
   "name": "args_dashboard"
  },
  "language_info": {
   "codemirror_mode": {
    "name": "ipython",
    "version": 3
   },
   "file_extension": ".py",
   "mimetype": "text/x-python",
   "name": "python",
   "nbconvert_exporter": "python",
   "pygments_lexer": "ipython3",
   "version": "3.10.8"
  }
 },
 "nbformat": 4,
 "nbformat_minor": 5
}
