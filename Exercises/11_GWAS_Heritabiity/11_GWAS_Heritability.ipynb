{
 "cells": [
  {
   "cell_type": "markdown",
   "id": "93184726-acc1-4cae-88a8-6aaa1a5860f3",
   "metadata": {},
   "source": [
    "# Estimating heritability using GCTA\n",
    "\n",
    "Despite the great success of genome-wide association studies (GWAS), which have identified hundreds of SNPs conferring the genetic variation of human complex diseases and traits, the genetic architecture of human complex traits still remains largely unexplained. For most traits, the associated SNPs from GWAS only explain a small fraction of the heritability. There has not been any consensus on the explanation of the “missing heritability.” Possible explanations include a large number of common variants with small effects, rare variants with large effects, and DNA structural variation. In this tutorial we will apply `GCTA`, a method of estimating the total amount of phenotypic variance captured by all SNPs.\n",
    "\n",
    "## Software:\n",
    "\n",
    "In this exercise we will be using GCTA. You can see the documentation [here](\n",
    "http://cnsgenomics.com/software/gcta/#Download). We will be also using `plink`, you can see the documentation [here](https://www.cog-genomics.org/plink/1.9/).\n",
    "\n",
    "## How to make this notebook work\n",
    "\n",
    "* In this notebook we will use both the `command line bash` commands and `R` to setup the file folders.\n",
    "* Having to shift between two languages, you need to choose a kernel every time we shift from one language to another. A kernel contains a programming language and the necessary packages to run the course material. To choose a kernel, go on the menu on the top of the page and select `Kernel --> Change Kernel`, and then select the preferred one. We will shift between two kernels, and along the code in this notebook you will see a picture telling you to change kernel. The two pictures are below:\n",
    "\n",
    "<img src=\"img/bash.png\" alt=\"Bash\" width=\"80\"> Shift to the `Bash` kernel\n",
    "\n",
    "<img src=\"img/R.png\" alt=\"R\" width=\"80\"> Shift to the `popgen course` kernel\n",
    "\n",
    "* You can run the code in each cell by clicking on the run cell sign in the toolbar, or simply by pressing <kbd>Shift</kbd>+<kbd>Enter</kbd>. When the code is done running, a small green check sign will appear on the left side.\n",
    "* You need to run the cells in sequential order to execute the analysis. Please do not run a cell until the one above is done running, and do not skip any cells\n",
    "* The code goes along with textual descriptions to help you understand what happens. Please try not to focus on understanding the code itself in too much detail - but rather try to focus on the explanations and on the output of the commands \n",
    "*   You can create new code cells by pressing `+` in the Menu bar above or by pressing <kbd>B</kbd> after you select a cell. \n",
    "\n",
    "## Background material\n",
    "\n",
    "- [Yang et al 2011](https://www.ncbi.nlm.nih.gov/pmc/articles/PMC3014363/), the article about GCTA\n",
    "- A [Reference](http://ibg.colorado.edu/cdrom2017/evansL/GCTA_practical/references/Yang%20et%20al.%202011%20GCTA_UserManual_v1.0.pdf) for GCTA\n",
    "\n",
    "## Data:\n",
    "\n",
    "We will estimate the amount of variance explained by the SNPs in a GWAS dataset. You can find the data here:\n",
    "\n",
    "```bash\n",
    "GWAS_heritability/gwa.bim\n",
    "GWAS_heritability/gwa.bed\n",
    "GWAS_heritability/gwa.fam\n",
    "GWAS_heritability/gwa.phen\n",
    "```\n",
    "\n",
    "We create the `Results` folder and a link to the data\n",
    "\n",
    "<img src=\"img/bash.png\" alt=\"Bash\" width=\"80\"> Shift to the `Bash` kernel"
   ]
  },
  {
   "cell_type": "code",
   "execution_count": 1,
   "id": "7157df92-acbd-46f7-ac87-fda7c100926c",
   "metadata": {},
   "outputs": [],
   "source": [
    "ln -s ../../Data/GWAS/GWAS_heritability/\n",
    "mkdir -p Results"
   ]
  },
  {
   "cell_type": "markdown",
   "id": "2ecf63d1-12fb-4e11-a9fb-e349c0e17924",
   "metadata": {},
   "source": [
    "## Calculating the genetic relationship matrix\n",
    "\n",
    "We will use plink to calculate the genetic relationship matrix (GRM) since it is faster than gcta. At the shell prompt, type:"
   ]
  },
  {
   "cell_type": "code",
   "execution_count": 2,
   "id": "c5ea8349-cd6a-4c88-90be-7a8628fcf025",
   "metadata": {},
   "outputs": [
    {
     "name": "stdout",
     "output_type": "stream",
     "text": [
      "PLINK v1.90b6.21 64-bit (19 Oct 2020)          www.cog-genomics.org/plink/1.9/\n",
      "(C) 2005-2020 Shaun Purcell, Christopher Chang   GNU General Public License v3\n",
      "Logging to Results/gwa.log.\n",
      "Options in effect:\n",
      "  --bfile GWAS_heritability/gwa\n",
      "  --make-grm-gz\n",
      "  --out Results/gwa\n",
      "\n",
      "385583 MB RAM detected; reserving 192791 MB for main workspace.\n",
      "301676 variants loaded from .bim file.\n",
      "1941 people (966 males, 975 females) loaded from .fam.\n",
      "1941 phenotype values loaded from .fam.\n",
      "Using up to 63 threads (change this with --threads).\n",
      "Before main variant filters, 1941 founders and 0 nonfounders present.\n",
      "Calculating allele frequencies... 10111213141516171819202122232425262728293031323334353637383940414243444546474849505152535455565758596061626364656667686970717273747576777879808182838485868788899091929394959697989 done.\n",
      "Total genotyping rate is 0.997015.\n",
      "301676 variants and 1941 people pass filters and QC.\n",
      "Among remaining phenotypes, 988 are cases and 953 are controls.\n",
      "Relationship matrix calculation complete.\n",
      "Relationship matrix written to Results/gwa.grm.gz , and IDs written to\n",
      "Results/gwa.grm.id .\n"
     ]
    }
   ],
   "source": [
    "plink --make-grm-gz --bfile GWAS_heritability/gwa --out Results/gwa"
   ]
  },
  {
   "cell_type": "markdown",
   "id": "f18a48d9-2a91-4b4a-b21d-b3db4b9d0be8",
   "metadata": {},
   "source": [
    "This will save the genetic relationship matrix in the zipped file `gwa.grm.gz`. Try to read it into `R`:\n",
    "\n",
    "<img src=\"img/R.png\" alt=\"R\" width=\"80\"> Shift to the `popgen course` kernel"
   ]
  },
  {
   "cell_type": "code",
   "execution_count": 1,
   "id": "b4a9adcc-e857-4eb3-a1be-fd93103ae6b8",
   "metadata": {},
   "outputs": [],
   "source": [
    "d <- read.table(gzfile('Results/gwa.grm.gz'))\n",
    "names(d) <- c(\"sample1\",\"sample2\",\"variants\",\"statistic\")"
   ]
  },
  {
   "cell_type": "code",
   "execution_count": 2,
   "id": "b286f07b-5159-448e-af2a-e2df8e3a71b5",
   "metadata": {},
   "outputs": [
    {
     "data": {
      "text/html": [
       "<table class=\"dataframe\">\n",
       "<caption>A data.frame: 6 × 4</caption>\n",
       "<thead>\n",
       "\t<tr><th></th><th scope=col>sample1</th><th scope=col>sample2</th><th scope=col>variants</th><th scope=col>statistic</th></tr>\n",
       "\t<tr><th></th><th scope=col>&lt;int&gt;</th><th scope=col>&lt;int&gt;</th><th scope=col>&lt;int&gt;</th><th scope=col>&lt;dbl&gt;</th></tr>\n",
       "</thead>\n",
       "<tbody>\n",
       "\t<tr><th scope=row>1</th><td>1</td><td>1</td><td>300386</td><td> 1.0111770000</td></tr>\n",
       "\t<tr><th scope=row>2</th><td>2</td><td>1</td><td>299996</td><td>-0.0017383650</td></tr>\n",
       "\t<tr><th scope=row>3</th><td>2</td><td>2</td><td>301282</td><td> 0.9968653000</td></tr>\n",
       "\t<tr><th scope=row>4</th><td>3</td><td>1</td><td>299965</td><td> 0.0009196462</td></tr>\n",
       "\t<tr><th scope=row>5</th><td>3</td><td>2</td><td>300861</td><td> 0.0004230620</td></tr>\n",
       "\t<tr><th scope=row>6</th><td>3</td><td>3</td><td>301251</td><td> 1.0038210000</td></tr>\n",
       "</tbody>\n",
       "</table>\n"
      ],
      "text/latex": [
       "A data.frame: 6 × 4\n",
       "\\begin{tabular}{r|llll}\n",
       "  & sample1 & sample2 & variants & statistic\\\\\n",
       "  & <int> & <int> & <int> & <dbl>\\\\\n",
       "\\hline\n",
       "\t1 & 1 & 1 & 300386 &  1.0111770000\\\\\n",
       "\t2 & 2 & 1 & 299996 & -0.0017383650\\\\\n",
       "\t3 & 2 & 2 & 301282 &  0.9968653000\\\\\n",
       "\t4 & 3 & 1 & 299965 &  0.0009196462\\\\\n",
       "\t5 & 3 & 2 & 300861 &  0.0004230620\\\\\n",
       "\t6 & 3 & 3 & 301251 &  1.0038210000\\\\\n",
       "\\end{tabular}\n"
      ],
      "text/markdown": [
       "\n",
       "A data.frame: 6 × 4\n",
       "\n",
       "| <!--/--> | sample1 &lt;int&gt; | sample2 &lt;int&gt; | variants &lt;int&gt; | statistic &lt;dbl&gt; |\n",
       "|---|---|---|---|---|\n",
       "| 1 | 1 | 1 | 300386 |  1.0111770000 |\n",
       "| 2 | 2 | 1 | 299996 | -0.0017383650 |\n",
       "| 3 | 2 | 2 | 301282 |  0.9968653000 |\n",
       "| 4 | 3 | 1 | 299965 |  0.0009196462 |\n",
       "| 5 | 3 | 2 | 300861 |  0.0004230620 |\n",
       "| 6 | 3 | 3 | 301251 |  1.0038210000 |\n",
       "\n"
      ],
      "text/plain": [
       "  sample1 sample2 variants statistic    \n",
       "1 1       1       300386    1.0111770000\n",
       "2 2       1       299996   -0.0017383650\n",
       "3 2       2       301282    0.9968653000\n",
       "4 3       1       299965    0.0009196462\n",
       "5 3       2       300861    0.0004230620\n",
       "6 3       3       301251    1.0038210000"
      ]
     },
     "metadata": {},
     "output_type": "display_data"
    }
   ],
   "source": [
    "head(d)"
   ]
  },
  {
   "cell_type": "markdown",
   "id": "306efc32-ad3d-405c-abd8-6fd940dc8f03",
   "metadata": {},
   "source": [
    "**Q1)** If you exclude the lines where an individual is compared to itself (column 1 is equal to column 2) what is the highest value in the GRM then?\n",
    "\n",
    "## Estimating variance components\n",
    "\n",
    "<img src=\"img/bash.png\" alt=\"Bash\" width=\"80\"> Shift to the `Bash` kernel\n",
    "\n",
    "We can use gcta to estimate how much of the variance in the phenotype in gwa.phen is explained by the SNPs:"
   ]
  },
  {
   "cell_type": "code",
   "execution_count": 1,
   "id": "61d9f258-c660-4bdb-a670-725bc53f5f9a",
   "metadata": {},
   "outputs": [
    {
     "name": "stdout",
     "output_type": "stream",
     "text": [
      "bash: gcta64: command not found\n"
     ]
    },
    {
     "ename": "",
     "evalue": "127",
     "output_type": "error",
     "traceback": []
    }
   ],
   "source": [
    "gcta64 --grm-gz Results/gwa --pheno GWAS_heritability/gwa.phen --reml --out Results/test"
   ]
  },
  {
   "cell_type": "markdown",
   "id": "decd88a4-db37-4559-b387-f6cba02532fe",
   "metadata": {},
   "source": [
    "**Q2)** How much of the phenotypic variance (Vp) is explained by the genetic variance (V(G))?\n",
    "\n",
    "**Q3)** Is this number larger or smaller than the narrow-sense heritability (h^2) of the trait?\n",
    "\n",
    "## Estimating variance components for groups of SNPs\n",
    "\n",
    "The estimation of variance components can be used to answer questions about how much of the heritability is explained by different parts of the genome (for example different chromosomes or different functional annotations).\n",
    "\n",
    "**Q4)** How much of the phenotypic variance can be explained by the genetic variants on chromosome 6? (You can use the `--chr` flag in plink to build a GRM only using variants from a particular chromosome)\n",
    "\n",
    "**Q5)** Does chromosome 6 contribute more to the heritability than would be expected? How many of the genetic variants in the data set are located on chr 6? (you can use the genetic map in gwa.bim to see the location of the variants)."
   ]
  }
 ],
 "metadata": {
  "kernelspec": {
   "display_name": "Bash",
   "language": "bash",
   "name": "bash"
  },
  "language_info": {
   "codemirror_mode": "shell",
   "file_extension": ".sh",
   "mimetype": "text/x-sh",
   "name": "bash"
  }
 },
 "nbformat": 4,
 "nbformat_minor": 5
}
